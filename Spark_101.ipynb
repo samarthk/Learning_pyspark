{
  "nbformat": 4,
  "nbformat_minor": 0,
  "metadata": {
    "colab": {
      "name": "Spark_101.ipynb",
      "provenance": [],
      "toc_visible": true,
      "mount_file_id": "1pyZxLcvgjKs45Nez-scJCXpS51JmcHHt",
      "authorship_tag": "ABX9TyPn/7K58DWSSziKSHTqeUeU",
      "include_colab_link": true
    },
    "kernelspec": {
      "name": "python3",
      "display_name": "Python 3"
    }
  },
  "cells": [
    {
      "cell_type": "markdown",
      "metadata": {
        "id": "view-in-github",
        "colab_type": "text"
      },
      "source": [
        "<a href=\"https://colab.research.google.com/github/samarthk/Learning_pyspark/blob/master/Spark_101.ipynb\" target=\"_parent\"><img src=\"https://colab.research.google.com/assets/colab-badge.svg\" alt=\"Open In Colab\"/></a>"
      ]
    },
    {
      "cell_type": "markdown",
      "metadata": {
        "id": "Xt8tgg_1wBKA"
      },
      "source": [
        "# Install Java, Spark, and Findspark\n",
        "This installs Apache Spark 2.3.1, Java 8, and [Findspark](https://github.com/minrk/findspark), a library that makes it easy for Python to find Spark."
      ]
    },
    {
      "cell_type": "code",
      "metadata": {
        "id": "AQXZkWnov1aC",
        "outputId": "73e148c9-a489-4ca4-cf4f-4805124e95a4",
        "colab": {
          "base_uri": "https://localhost:8080/"
        }
      },
      "source": [
        "!apt-get install openjdk-8-jdk-headless -qq > /dev/null\n",
        "!wget https://archive.apache.org/dist/spark/spark-2.4.1/spark-2.4.1-bin-hadoop2.7.tgz\n",
        "!tar xf spark-2.4.1-bin-hadoop2.7.tgz\n",
        "!pip install -q findspark\n"
      ],
      "execution_count": 1,
      "outputs": [
        {
          "output_type": "stream",
          "text": [
            "--2020-11-06 22:32:51--  https://archive.apache.org/dist/spark/spark-2.4.1/spark-2.4.1-bin-hadoop2.7.tgz\n",
            "Resolving archive.apache.org (archive.apache.org)... 138.201.131.134, 2a01:4f8:172:2ec5::2\n",
            "Connecting to archive.apache.org (archive.apache.org)|138.201.131.134|:443... connected.\n",
            "HTTP request sent, awaiting response... 200 OK\n",
            "Length: 230778742 (220M) [application/x-gzip]\n",
            "Saving to: ‘spark-2.4.1-bin-hadoop2.7.tgz’\n",
            "\n",
            "spark-2.4.1-bin-had 100%[===================>] 220.09M  17.1MB/s    in 13s     \n",
            "\n",
            "2020-11-06 22:33:04 (17.3 MB/s) - ‘spark-2.4.1-bin-hadoop2.7.tgz’ saved [230778742/230778742]\n",
            "\n"
          ],
          "name": "stdout"
        }
      ]
    },
    {
      "cell_type": "markdown",
      "metadata": {
        "id": "TJX5_5BgwXQT"
      },
      "source": [
        "## Set Environment Variables\n",
        "Set the locations where Spark and Java are installed."
      ]
    },
    {
      "cell_type": "code",
      "metadata": {
        "id": "oOnW0ZNMwbiJ"
      },
      "source": [
        "import os\n",
        "os.environ[\"JAVA_HOME\"] = \"/usr/lib/jvm/java-8-openjdk-amd64\"\n",
        "os.environ[\"SPARK_HOME\"] = \"/content/spark-2.4.1-bin-hadoop2.7\""
      ],
      "execution_count": 2,
      "outputs": []
    },
    {
      "cell_type": "markdown",
      "metadata": {
        "id": "KlBYxETTwe73"
      },
      "source": [
        "## Start a SparkSession\n",
        "This will start a local Spark session."
      ]
    },
    {
      "cell_type": "code",
      "metadata": {
        "id": "Fli_4ucj9gLa"
      },
      "source": [
        "# Run a local spark session to test our installation:\n",
        "import findspark\n",
        "findspark.init()\n",
        "from pyspark.sql import SparkSession\n",
        "spark = SparkSession.builder.master(\"local[*]\").getOrCreate()"
      ],
      "execution_count": 3,
      "outputs": []
    },
    {
      "cell_type": "code",
      "metadata": {
        "id": "PKo12Y9rwfx3"
      },
      "source": [
        "import findspark\n",
        "findspark.init()\n",
        "\n",
        "from pyspark import SparkContext\n",
        "from pyspark import SparkConf\n",
        "from pyspark.sql import SQLContext\n",
        "\n",
        "conf = SparkConf().setMaster(\"local[*]\").setAppName('pyspark')\n",
        "sc = SparkContext(conf=conf)\n",
        "sqc = SQLContext(sc)"
      ],
      "execution_count": null,
      "outputs": []
    },
    {
      "cell_type": "markdown",
      "metadata": {
        "id": "3qfh3bPzxPdQ"
      },
      "source": [
        "## Use Spark!\n",
        "That's all there is to it - you're ready to use Spark!"
      ]
    },
    {
      "cell_type": "code",
      "metadata": {
        "id": "2gI9xREKSWVh",
        "outputId": "8b6003e1-77cb-4e84-e6b8-fc4e9ba1f40b",
        "colab": {
          "base_uri": "https://localhost:8080/"
        }
      },
      "source": [
        "df = spark.createDataFrame([{\"hello\": \"world\"} for x in range(1000)])\n",
        "df.show(3)"
      ],
      "execution_count": 4,
      "outputs": [
        {
          "output_type": "stream",
          "text": [
            "/content/spark-2.4.1-bin-hadoop2.7/python/pyspark/sql/session.py:346: UserWarning: inferring schema from dict is deprecated,please use pyspark.sql.Row instead\n",
            "  warnings.warn(\"inferring schema from dict is deprecated,\"\n"
          ],
          "name": "stderr"
        },
        {
          "output_type": "stream",
          "text": [
            "+-----+\n",
            "|hello|\n",
            "+-----+\n",
            "|world|\n",
            "|world|\n",
            "|world|\n",
            "+-----+\n",
            "only showing top 3 rows\n",
            "\n"
          ],
          "name": "stdout"
        }
      ]
    },
    {
      "cell_type": "markdown",
      "metadata": {
        "id": "SCpcQuU3x_MJ"
      },
      "source": [
        "# Programming Ex\n"
      ]
    },
    {
      "cell_type": "markdown",
      "metadata": {
        "id": "vnvLcGlm08m-"
      },
      "source": [
        "Download File"
      ]
    },
    {
      "cell_type": "code",
      "metadata": {
        "id": "VPUyVNyr0JQz"
      },
      "source": [
        "!wget https://data.sfgov.org/api/views/wr8u-xric/rows.csv"
      ],
      "execution_count": null,
      "outputs": []
    },
    {
      "cell_type": "code",
      "metadata": {
        "id": "Qee07QKn1QRJ",
        "outputId": "c2fa7802-8745-4f38-adae-a027dca0c30a",
        "colab": {
          "base_uri": "https://localhost:8080/",
          "height": 221
        }
      },
      "source": [
        "!ls -ltr /content/sample_data/\n",
        "\n",
        "!unzip /content/sample_data/Downloads.zip\n",
        "\n",
        "#!head -5000 /content/drive/My\\ Drive/Data_Files/Fire_Incidents_FULL.csv > Fire_Incidents.csv\n"
      ],
      "execution_count": null,
      "outputs": [
        {
          "output_type": "stream",
          "text": [
            "total 56276\n",
            "-rwxr-xr-x 1 root root      930 Jan  1  2000 README.md\n",
            "-rwxr-xr-x 1 root root     1697 Jan  1  2000 anscombe.json\n",
            "-rw-r--r-- 1 root root  1706430 Jun 26 16:26 california_housing_train.csv\n",
            "-rw-r--r-- 1 root root   301141 Jun 26 16:26 california_housing_test.csv\n",
            "-rw-r--r-- 1 root root 36523880 Jun 26 16:26 mnist_train_small.csv\n",
            "-rw-r--r-- 1 root root 18289443 Jun 26 16:26 mnist_test.csv\n",
            "-rw-r--r-- 1 root root   788006 Jul  6 18:22 Downloads.zip\n",
            "Archive:  /content/sample_data/Downloads.zip\n",
            "  inflating: Fire_Department_Calls_for_Service.csv  \n",
            "replace Fire_Incidents.csv? [y]es, [n]o, [A]ll, [N]one, [r]ename: y\n",
            "  inflating: Fire_Incidents.csv      \n"
          ],
          "name": "stdout"
        }
      ]
    },
    {
      "cell_type": "code",
      "metadata": {
        "id": "Q3S1E0jfydh2"
      },
      "source": [
        "from pyspark.sql.types import *"
      ],
      "execution_count": null,
      "outputs": []
    },
    {
      "cell_type": "markdown",
      "metadata": {
        "id": "bXtvviVx7_A9"
      },
      "source": [
        "## San FranciscoooSS Fire Incidents (OpenData Meetup)"
      ]
    },
    {
      "cell_type": "code",
      "metadata": {
        "id": "hjwZZ_Gk8C_y"
      },
      "source": [
        "fireServiceCallsDF = spark.read.csv('/content/sample_data/Fire_Department_Calls_for_Service.csv', header=True, inferSchema=True)\n",
        "fireServiceCallsDF.printSchema()"
      ],
      "execution_count": null,
      "outputs": []
    },
    {
      "cell_type": "code",
      "metadata": {
        "id": "D4MFnXKwfsKZ"
      },
      "source": [
        "IncidentSchema = StructType(\n",
        "\t\t\t\t\t[\n",
        "\t\t\t\t\tStructField('IncidentNumber',  IntegerType(), True),\n",
        "StructField('ExposureNumber',  IntegerType(), True),\n",
        "StructField('ID',  IntegerType(), True),\n",
        "StructField('Address',  StringType(), True),\n",
        "StructField('IncidentDate',  StringType(), True),\n",
        "StructField('CallNumber',  IntegerType(), True),\n",
        "StructField('AlarmDtTm',  StringType(), True),\n",
        "StructField('ArrivalDtTm',  StringType(), True),\n",
        "StructField('CloseDtTm',  StringType(), True),\n",
        "StructField('City',  StringType(), True),\n",
        "StructField('ZIPCode',  IntegerType(), True),\n",
        "StructField('Battalion',  StringType(), True),\n",
        "StructField('StationArea',  StringType(), True),\n",
        "StructField('Box',  IntegerType(), True),\n",
        "StructField('SuppressionUnits',  IntegerType(), True),\n",
        "StructField('SuppressionPersonnel',  IntegerType(), True),\n",
        "StructField('EMSUnits',  IntegerType(), True),\n",
        "StructField('EMSPersonnel',  IntegerType(), True),\n",
        "StructField('OtherUnits',  IntegerType(), True),\n",
        "StructField('OtherPersonnel',  IntegerType(), True),\n",
        "StructField('FirstUnitOnScene',  StringType(), True),\n",
        "StructField('EstimatedPropertyLoss',  IntegerType(), True),\n",
        "StructField('EstimatedContentsLoss',  IntegerType(), True),\n",
        "StructField('FireFatalities',  IntegerType(), True),\n",
        "StructField('FireInjuries',  IntegerType(), True),\n",
        "StructField('CivilianFatalities',  IntegerType(), True),\n",
        "StructField('CivilianInjuries',  IntegerType(), True),\n",
        "StructField('NumberofAlarms',  IntegerType(), True),\n",
        "StructField('PrimarySituation',  StringType(), True),\n",
        "StructField('MutualAid',  StringType(), True),\n",
        "StructField('ActionTakenPrimary',  StringType(), True),\n",
        "StructField('ActionTakenSecondary',  StringType(), True),\n",
        "StructField('ActionTakenOther',  StringType(), True),\n",
        "StructField('DetectorAlertedOccupants',  StringType(), True),\n",
        "StructField('PropertyUse',  StringType(), True),\n",
        "StructField('AreaofFireOrigin',  StringType(), True),\n",
        "StructField('IgnitionCause',  StringType(), True),\n",
        "StructField('IgnitionFactorPrimary',  StringType(), True),\n",
        "StructField('IgnitionFactorSecondary',  StringType(), True),\n",
        "StructField('HeatSource',  StringType(), True),\n",
        "StructField('ItemFirstIgnited',  StringType(), True),\n",
        "StructField('HumanFactorsAssociatedwithIgnition',  StringType(), True),\n",
        "StructField('StructureType',  StringType(), True),\n",
        "StructField('StructureStatus',  StringType(), True),\n",
        "StructField('FloorofFireOrigin',  IntegerType(), True),\n",
        "StructField('FireSpread',  StringType(), True),\n",
        "StructField('NoFlameSpead',  StringType(), True),\n",
        "StructField('Numberoffloorswithminimumdamage',  IntegerType(), True),\n",
        "StructField('Numberoffloorswithsignificantdamage',  IntegerType(), True),\n",
        "StructField('Numberoffloorswithheavydamage',  IntegerType(), True),\n",
        "StructField('Numberoffloorswithextremedamage',  IntegerType(), True),\n",
        "StructField('DetectorsPresent',  StringType(), True),\n",
        "StructField('DetectorType',  StringType(), True),\n",
        "StructField('DetectorOperation',  StringType(), True),\n",
        "StructField('DetectorEffectiveness',  StringType(), True),\n",
        "StructField('DetectorFailureReason',  StringType(), True),\n",
        "StructField('AutomaticExtinguishingSystemPresent',  StringType(), True),\n",
        "StructField('AutomaticExtinguishingSytemType',  StringType(), True),\n",
        "StructField('AutomaticExtinguishingSytemPerfomance',  StringType(), True),\n",
        "StructField('AutomaticExtinguishingSytemFailureReason',  StringType(), True),\n",
        "StructField('NumberofSprinklerHeadsOperating',  IntegerType(), True),\n",
        "StructField('SupervisorDistrict',  IntegerType(), True),\n",
        "StructField('AnalysisNeighborhood',  StringType(), True),\n",
        "StructField('point',  StringType(), True),\n",
        "StructField('Neighborhoods(old)',  IntegerType(), True),\n",
        "StructField('ZipCodes',  IntegerType(), True),\n",
        "StructField('FirePreventionDistricts',  IntegerType(), True),\n",
        "StructField('PoliceDistricts',  IntegerType(), True),\n",
        "StructField('SupervisorDistricts',  IntegerType(), True),\n",
        "StructField('CivicCenterHarmReductionProjectBoundary',  IntegerType(), True),\n",
        "StructField('2017FixItZones',  IntegerType(), True),\n",
        "StructField('HSOCZones',  IntegerType(), True),\n",
        "StructField('CentralMarket/TenderloinBoundary',  IntegerType(), True),\n",
        "StructField('CentralMarket/TenderloinBoundaryPolygon-Updated',  IntegerType(), True),\n",
        "StructField('HSOCZonesasof2018-06-05',  IntegerType(), True),\n",
        "StructField('Neighborhoods',  IntegerType(), True),\n",
        "StructField('SFFindNeighborhoods',  IntegerType(), True),\n",
        "StructField('CurrentPoliceDistricts',  IntegerType(), True),\n",
        "StructField('CurrentSupervisorDistricts',  IntegerType(), True),\n",
        "StructField('AnalysisNeighborhoods',  IntegerType(), True)\n",
        "\t\t\t\t\t ]\n",
        "\t\t\t\t\t )\n"
      ],
      "execution_count": null,
      "outputs": []
    },
    {
      "cell_type": "code",
      "metadata": {
        "id": "XuVSlqotbzot",
        "outputId": "c88b4d96-e928-44b1-a02f-41b423fb3199",
        "colab": {
          "base_uri": "https://localhost:8080/",
          "height": 1000
        }
      },
      "source": [
        "fireIncidentsDF = spark.read.csv('/content/sample_data/Fire_Incidents.csv', header=True, schema=IncidentSchema)\n",
        "fireIncidentsDF.printSchema()"
      ],
      "execution_count": null,
      "outputs": [
        {
          "output_type": "stream",
          "text": [
            "root\n",
            " |-- IncidentNumber: integer (nullable = true)\n",
            " |-- ExposureNumber: integer (nullable = true)\n",
            " |-- ID: integer (nullable = true)\n",
            " |-- Address: string (nullable = true)\n",
            " |-- IncidentDate: string (nullable = true)\n",
            " |-- CallNumber: integer (nullable = true)\n",
            " |-- AlarmDtTm: string (nullable = true)\n",
            " |-- ArrivalDtTm: string (nullable = true)\n",
            " |-- CloseDtTm: string (nullable = true)\n",
            " |-- City: string (nullable = true)\n",
            " |-- ZIPCode: integer (nullable = true)\n",
            " |-- Battalion: string (nullable = true)\n",
            " |-- StationArea: string (nullable = true)\n",
            " |-- Box: integer (nullable = true)\n",
            " |-- SuppressionUnits: integer (nullable = true)\n",
            " |-- SuppressionPersonnel: integer (nullable = true)\n",
            " |-- EMSUnits: integer (nullable = true)\n",
            " |-- EMSPersonnel: integer (nullable = true)\n",
            " |-- OtherUnits: integer (nullable = true)\n",
            " |-- OtherPersonnel: integer (nullable = true)\n",
            " |-- FirstUnitOnScene: string (nullable = true)\n",
            " |-- EstimatedPropertyLoss: integer (nullable = true)\n",
            " |-- EstimatedContentsLoss: integer (nullable = true)\n",
            " |-- FireFatalities: integer (nullable = true)\n",
            " |-- FireInjuries: integer (nullable = true)\n",
            " |-- CivilianFatalities: integer (nullable = true)\n",
            " |-- CivilianInjuries: integer (nullable = true)\n",
            " |-- NumberofAlarms: integer (nullable = true)\n",
            " |-- PrimarySituation: string (nullable = true)\n",
            " |-- MutualAid: string (nullable = true)\n",
            " |-- ActionTakenPrimary: string (nullable = true)\n",
            " |-- ActionTakenSecondary: string (nullable = true)\n",
            " |-- ActionTakenOther: string (nullable = true)\n",
            " |-- DetectorAlertedOccupants: string (nullable = true)\n",
            " |-- PropertyUse: string (nullable = true)\n",
            " |-- AreaofFireOrigin: string (nullable = true)\n",
            " |-- IgnitionCause: string (nullable = true)\n",
            " |-- IgnitionFactorPrimary: string (nullable = true)\n",
            " |-- IgnitionFactorSecondary: string (nullable = true)\n",
            " |-- HeatSource: string (nullable = true)\n",
            " |-- ItemFirstIgnited: string (nullable = true)\n",
            " |-- HumanFactorsAssociatedwithIgnition: string (nullable = true)\n",
            " |-- StructureType: string (nullable = true)\n",
            " |-- StructureStatus: string (nullable = true)\n",
            " |-- FloorofFireOrigin: integer (nullable = true)\n",
            " |-- FireSpread: string (nullable = true)\n",
            " |-- NoFlameSpead: string (nullable = true)\n",
            " |-- Numberoffloorswithminimumdamage: integer (nullable = true)\n",
            " |-- Numberoffloorswithsignificantdamage: integer (nullable = true)\n",
            " |-- Numberoffloorswithheavydamage: integer (nullable = true)\n",
            " |-- Numberoffloorswithextremedamage: integer (nullable = true)\n",
            " |-- DetectorsPresent: string (nullable = true)\n",
            " |-- DetectorType: string (nullable = true)\n",
            " |-- DetectorOperation: string (nullable = true)\n",
            " |-- DetectorEffectiveness: string (nullable = true)\n",
            " |-- DetectorFailureReason: string (nullable = true)\n",
            " |-- AutomaticExtinguishingSystemPresent: string (nullable = true)\n",
            " |-- AutomaticExtinguishingSytemType: string (nullable = true)\n",
            " |-- AutomaticExtinguishingSytemPerfomance: string (nullable = true)\n",
            " |-- AutomaticExtinguishingSytemFailureReason: string (nullable = true)\n",
            " |-- NumberofSprinklerHeadsOperating: integer (nullable = true)\n",
            " |-- SupervisorDistrict: integer (nullable = true)\n",
            " |-- AnalysisNeighborhood: string (nullable = true)\n",
            " |-- point: string (nullable = true)\n",
            " |-- Neighborhoods(old): integer (nullable = true)\n",
            " |-- ZipCodes: integer (nullable = true)\n",
            " |-- FirePreventionDistricts: integer (nullable = true)\n",
            " |-- PoliceDistricts: integer (nullable = true)\n",
            " |-- SupervisorDistricts: integer (nullable = true)\n",
            " |-- CivicCenterHarmReductionProjectBoundary: integer (nullable = true)\n",
            " |-- 2017FixItZones: integer (nullable = true)\n",
            " |-- HSOCZones: integer (nullable = true)\n",
            " |-- CentralMarket/TenderloinBoundary: integer (nullable = true)\n",
            " |-- CentralMarket/TenderloinBoundaryPolygon-Updated: integer (nullable = true)\n",
            " |-- HSOCZonesasof2018-06-05: integer (nullable = true)\n",
            " |-- Neighborhoods: integer (nullable = true)\n",
            " |-- SFFindNeighborhoods: integer (nullable = true)\n",
            " |-- CurrentPoliceDistricts: integer (nullable = true)\n",
            " |-- CurrentSupervisorDistricts: integer (nullable = true)\n",
            " |-- AnalysisNeighborhoods: integer (nullable = true)\n",
            "\n"
          ],
          "name": "stdout"
        }
      ]
    },
    {
      "cell_type": "code",
      "metadata": {
        "id": "BxXpbjKwOzjl"
      },
      "source": [
        "# Note that we are removing all space characters from the col names to prevent errors when writing to Parquet later\n",
        "\n",
        "fireSchema = StructType([StructField('CallNumber', IntegerType(), True),\n",
        "                     StructField('UnitID', StringType(), True),\n",
        "                     StructField('IncidentNumber', IntegerType(), True),\n",
        "                     StructField('CallType', StringType(), True),                  \n",
        "                     StructField('CallDate', StringType(), True),       \n",
        "                     StructField('WatchDate', StringType(), True),       \n",
        "                     StructField('ReceivedDtTm', StringType(), True),       \n",
        "                     StructField('EntryDtTm', StringType(), True),       \n",
        "                     StructField('DispatchDtTm', StringType(), True),       \n",
        "                     StructField('ResponseDtTm', StringType(), True),       \n",
        "                     StructField('OnSceneDtTm', StringType(), True),       \n",
        "                     StructField('TransportDtTm', StringType(), True),                  \n",
        "                     StructField('HospitalDtTm', StringType(), True),       \n",
        "                     StructField('CallFinalDisposition', StringType(), True),       \n",
        "                     StructField('AvailableDtTm', StringType(), True),       \n",
        "                     StructField('Address', StringType(), True),       \n",
        "                     StructField('City', StringType(), True),       \n",
        "                     StructField('ZipcodeofIncident', IntegerType(), True),       \n",
        "                     StructField('Battalion', StringType(), True),                 \n",
        "                     StructField('StationArea', StringType(), True),       \n",
        "                     StructField('Box', StringType(), True),       \n",
        "                     StructField('OriginalPriority', StringType(), True),       \n",
        "                     StructField('Priority', StringType(), True),       \n",
        "                     StructField('FinalPriority', IntegerType(), True),       \n",
        "                     StructField('ALSUnit', BooleanType(), True),       \n",
        "                     StructField('CallTypeGroup', StringType(), True),\n",
        "                     StructField('NumberofAlarms', IntegerType(), True),\n",
        "                     StructField('UnitType', StringType(), True),\n",
        "                     StructField('Unitsequenceincalldispatch', IntegerType(), True),\n",
        "                     StructField('FirePreventionDistrict', StringType(), True),\n",
        "                     StructField('SupervisorDistrict', StringType(), True),\n",
        "                     StructField('NeighborhoodDistrict', StringType(), True),\n",
        "                     StructField('Location', StringType(), True),\n",
        "                     StructField('RowID', StringType(), True)])"
      ],
      "execution_count": null,
      "outputs": []
    },
    {
      "cell_type": "code",
      "metadata": {
        "id": "9RKDsv7zg9-3",
        "outputId": "1be121b0-04e5-44b3-fcdb-c0761b852c98",
        "colab": {
          "base_uri": "https://localhost:8080/",
          "height": 129
        }
      },
      "source": [
        "print(type(fireIncidentsDF.printSchema()))\n",
        "\n",
        "for i in fireIncidentsDF):\n",
        "  print(i)\n"
      ],
      "execution_count": null,
      "outputs": [
        {
          "output_type": "error",
          "ename": "SyntaxError",
          "evalue": "ignored",
          "traceback": [
            "\u001b[0;36m  File \u001b[0;32m\"<ipython-input-39-f5d831685df7>\"\u001b[0;36m, line \u001b[0;32m3\u001b[0m\n\u001b[0;31m    for i in fireIncidentsDF):\u001b[0m\n\u001b[0m                            ^\u001b[0m\n\u001b[0;31mSyntaxError\u001b[0m\u001b[0;31m:\u001b[0m invalid syntax\n"
          ]
        }
      ]
    },
    {
      "cell_type": "code",
      "metadata": {
        "id": "ZIsOJIzBzSC-",
        "outputId": "b7ab8f10-bb0c-4996-98a4-93fcd7f7421c",
        "colab": {
          "base_uri": "https://localhost:8080/",
          "height": 224
        }
      },
      "source": [
        "fireServiceCallsDF_sch = spark.read.csv('/content/sample_data/Fire_Department_Calls_for_Service.csv', header=True, schema=fireSchema)\n",
        "#fireServiceCallsDF_sch.printSchema()\n",
        "fireServiceCallsDF_sch.show(5)"
      ],
      "execution_count": null,
      "outputs": [
        {
          "output_type": "stream",
          "text": [
            "+----------+------+--------------+-----------------+----------+----------+--------------------+--------------------+--------------------+--------------------+--------------------+--------------------+--------------------+--------------------+--------------------+--------------------+-------------+-----------------+---------+-----------+----+----------------+--------+-------------+-------+--------------------+--------------+--------+--------------------------+----------------------+------------------+--------------------+--------------------+--------------+\n",
            "|CallNumber|UnitID|IncidentNumber|         CallType|  CallDate| WatchDate|        ReceivedDtTm|           EntryDtTm|        DispatchDtTm|        ResponseDtTm|         OnSceneDtTm|       TransportDtTm|        HospitalDtTm|CallFinalDisposition|       AvailableDtTm|             Address|         City|ZipcodeofIncident|Battalion|StationArea| Box|OriginalPriority|Priority|FinalPriority|ALSUnit|       CallTypeGroup|NumberofAlarms|UnitType|Unitsequenceincalldispatch|FirePreventionDistrict|SupervisorDistrict|NeighborhoodDistrict|            Location|         RowID|\n",
            "+----------+------+--------------+-----------------+----------+----------+--------------------+--------------------+--------------------+--------------------+--------------------+--------------------+--------------------+--------------------+--------------------+--------------------+-------------+-----------------+---------+-----------+----+----------------+--------+-------------+-------+--------------------+--------------+--------+--------------------------+----------------------+------------------+--------------------+--------------------+--------------+\n",
            "| 201100018|    67|      20046355| Medical Incident|04/19/2020|04/18/2020|04/19/2020 12:10:...|04/19/2020 12:10:...|04/19/2020 12:11:...|04/19/2020 12:11:...|04/19/2020 12:27:...|04/19/2020 12:40:...|04/19/2020 12:45:...|    Code 2 Transport|04/19/2020 01:12:...|300 Block of EDDY ST|San Francisco|            94102|      B02|         03|1540|               C|       2|            2|   true|Non Life-threatening|             1|   MEDIC|                         1|                     2|                 6|          Tenderloin|(37.7838344374141...|  201100018-67|\n",
            "| 201100034|    86|      20046357| Medical Incident|04/19/2020|04/18/2020|04/19/2020 12:18:...|04/19/2020 12:19:...|04/19/2020 12:20:...|04/19/2020 12:20:...|04/19/2020 12:24:...|04/19/2020 01:20:...|04/19/2020 01:32:...|    Code 2 Transport|04/19/2020 02:02:...|700 Block of EDDY ST|San Francisco|            94102|      B02|         03|3163|               3|       3|            3|   true|Non Life-threatening|             1|   MEDIC|                         1|                     2|                 6|          Tenderloin|(37.7829435235820...|  201100034-86|\n",
            "| 201100034|  QRV1|      20046357| Medical Incident|04/19/2020|04/18/2020|04/19/2020 12:18:...|04/19/2020 12:19:...|04/19/2020 12:20:...|04/19/2020 12:20:...|04/19/2020 12:24:...|                null|                null|    Code 2 Transport|04/19/2020 12:34:...|700 Block of EDDY ST|San Francisco|            94102|      B02|         03|3163|               3|       3|            3|   true|Non Life-threatening|             1| SUPPORT|                         2|                     2|                 6|          Tenderloin|(37.7829435235820...|201100034-QRV1|\n",
            "| 201100053|   E19|      20046358|Traffic Collision|04/19/2020|04/18/2020|04/19/2020 12:24:...|04/19/2020 12:29:...|04/19/2020 12:29:...|04/19/2020 12:31:...|04/19/2020 12:35:...|                null|                null|    Code 2 Transport|04/19/2020 12:46:...|500 Block of JUNI...|San Francisco|            94127|      B09|         19|8451|               3|       3|            3|   true|Non Life-threatening|             1|  ENGINE|                         1|                     9|                 7|  West of Twin Peaks|(37.7278050418903...| 201100053-E19|\n",
            "| 201100053|  KM07|      20046358|Traffic Collision|04/19/2020|04/18/2020|04/19/2020 12:24:...|04/19/2020 12:29:...|04/19/2020 12:29:...|04/19/2020 12:30:...|04/19/2020 12:36:...|04/19/2020 12:58:...|04/19/2020 01:22:...|    Code 2 Transport|04/19/2020 01:48:...|500 Block of JUNI...|San Francisco|            94127|      B09|         19|8451|               3|       3|            3|  false|Non Life-threatening|             1| PRIVATE|                         2|                     9|                 7|  West of Twin Peaks|(37.7278050418903...|201100053-KM07|\n",
            "+----------+------+--------------+-----------------+----------+----------+--------------------+--------------------+--------------------+--------------------+--------------------+--------------------+--------------------+--------------------+--------------------+--------------------+-------------+-----------------+---------+-----------+----+----------------+--------+-------------+-------+--------------------+--------------+--------+--------------------------+----------------------+------------------+--------------------+--------------------+--------------+\n",
            "only showing top 5 rows\n",
            "\n"
          ],
          "name": "stdout"
        }
      ]
    },
    {
      "cell_type": "code",
      "metadata": {
        "id": "H4Egen6wYEM1",
        "outputId": "6e39242a-eb18-461c-cae4-b1a886410a4a",
        "colab": {
          "base_uri": "https://localhost:8080/",
          "height": 34
        }
      },
      "source": [
        "fireServiceCallsDF.count()"
      ],
      "execution_count": null,
      "outputs": [
        {
          "output_type": "execute_result",
          "data": {
            "text/plain": [
              "4999"
            ]
          },
          "metadata": {
            "tags": []
          },
          "execution_count": 12
        }
      ]
    },
    {
      "cell_type": "code",
      "metadata": {
        "id": "uXz4rNkuDYVP",
        "outputId": "eb5e1fec-3442-484f-8f4c-dcb04ee6a281",
        "colab": {
          "base_uri": "https://localhost:8080/",
          "height": 442
        }
      },
      "source": [
        "fireServiceCallsDF_sch.select('CallType').distinct().show(1000,False)"
      ],
      "execution_count": null,
      "outputs": [
        {
          "output_type": "stream",
          "text": [
            "+--------------------------------------------+\n",
            "|CallType                                    |\n",
            "+--------------------------------------------+\n",
            "|Elevator / Escalator Rescue                 |\n",
            "|Alarms                                      |\n",
            "|Odor (Strange / Unknown)                    |\n",
            "|Citizen Assist / Service Call               |\n",
            "|HazMat                                      |\n",
            "|Explosion                                   |\n",
            "|Vehicle Fire                                |\n",
            "|Extrication / Entrapped (Machinery, Vehicle)|\n",
            "|Other                                       |\n",
            "|Outside Fire                                |\n",
            "|Traffic Collision                           |\n",
            "|Gas Leak (Natural and LP Gases)             |\n",
            "|Water Rescue                                |\n",
            "|Electrical Hazard                           |\n",
            "|High Angle Rescue                           |\n",
            "|Structure Fire                              |\n",
            "|Industrial Accidents                        |\n",
            "|Medical Incident                            |\n",
            "|Fuel Spill                                  |\n",
            "|Smoke Investigation (Outside)               |\n",
            "+--------------------------------------------+\n",
            "\n"
          ],
          "name": "stdout"
        }
      ]
    },
    {
      "cell_type": "code",
      "metadata": {
        "id": "JuYuGapccSaB",
        "outputId": "334b6dd8-4df2-4c26-ca01-2fbd1886aecd",
        "colab": {
          "base_uri": "https://localhost:8080/",
          "height": 119
        }
      },
      "source": [
        "fireIncidentsDF.createOrReplaceTempView(\"fireIncidents\")\n",
        "spark.sql(\"SELECT COUNT(*) FROM fireIncidents\").show()"
      ],
      "execution_count": null,
      "outputs": [
        {
          "output_type": "stream",
          "text": [
            "+--------+\n",
            "|count(1)|\n",
            "+--------+\n",
            "|    4999|\n",
            "+--------+\n",
            "\n"
          ],
          "name": "stdout"
        }
      ]
    },
    {
      "cell_type": "code",
      "metadata": {
        "id": "CzvdbphEEMdB",
        "outputId": "2958174c-3676-406c-a82c-27d79843f096",
        "colab": {
          "base_uri": "https://localhost:8080/",
          "height": 183
        }
      },
      "source": [
        "fireServiceCallsDF_sch.createOrReplaceTempView(\"firecalls\")\n",
        "spark.sql(\"SELECT COUNT(*) FROM firecalls\").show()"
      ],
      "execution_count": 5,
      "outputs": [
        {
          "output_type": "error",
          "ename": "NameError",
          "evalue": "ignored",
          "traceback": [
            "\u001b[0;31m---------------------------------------------------------------------------\u001b[0m",
            "\u001b[0;31mNameError\u001b[0m                                 Traceback (most recent call last)",
            "\u001b[0;32m<ipython-input-5-315cd3652c3e>\u001b[0m in \u001b[0;36m<module>\u001b[0;34m()\u001b[0m\n\u001b[0;32m----> 1\u001b[0;31m \u001b[0mfireServiceCallsDF_sch\u001b[0m\u001b[0;34m.\u001b[0m\u001b[0mcreateOrReplaceTempView\u001b[0m\u001b[0;34m(\u001b[0m\u001b[0;34m\"firecalls\"\u001b[0m\u001b[0;34m)\u001b[0m\u001b[0;34m\u001b[0m\u001b[0;34m\u001b[0m\u001b[0m\n\u001b[0m\u001b[1;32m      2\u001b[0m \u001b[0mspark\u001b[0m\u001b[0;34m.\u001b[0m\u001b[0msql\u001b[0m\u001b[0;34m(\u001b[0m\u001b[0;34m\"SELECT COUNT(*) FROM firecalls\"\u001b[0m\u001b[0;34m)\u001b[0m\u001b[0;34m.\u001b[0m\u001b[0mshow\u001b[0m\u001b[0;34m(\u001b[0m\u001b[0;34m)\u001b[0m\u001b[0;34m\u001b[0m\u001b[0;34m\u001b[0m\u001b[0m\n",
            "\u001b[0;31mNameError\u001b[0m: name 'fireServiceCallsDF_sch' is not defined"
          ]
        }
      ]
    },
    {
      "cell_type": "code",
      "metadata": {
        "id": "JZlet09pEVVO",
        "outputId": "7fbccf0c-bef4-400a-ebe2-49cc1fa77ddb",
        "colab": {
          "base_uri": "https://localhost:8080/",
          "height": 224
        }
      },
      "source": [
        "spark.sql(\"SELECT * FROM firecalls where \\\n",
        "CallDate = '04/19/2020'and IncidentNumber >20046358 \").show(5)"
      ],
      "execution_count": null,
      "outputs": [
        {
          "output_type": "stream",
          "text": [
            "+----------+------+--------------+----------------+----------+----------+--------------------+--------------------+--------------------+--------------------+--------------------+--------------------+--------------------+--------------------+--------------------+--------------------+-------------+-----------------+---------+-----------+----+----------------+--------+-------------+-------+--------------------+--------------+--------+--------------------------+----------------------+------------------+--------------------+--------------------+-------------+\n",
            "|CallNumber|UnitID|IncidentNumber|        CallType|  CallDate| WatchDate|        ReceivedDtTm|           EntryDtTm|        DispatchDtTm|        ResponseDtTm|         OnSceneDtTm|       TransportDtTm|        HospitalDtTm|CallFinalDisposition|       AvailableDtTm|             Address|         City|ZipcodeofIncident|Battalion|StationArea| Box|OriginalPriority|Priority|FinalPriority|ALSUnit|       CallTypeGroup|NumberofAlarms|UnitType|Unitsequenceincalldispatch|FirePreventionDistrict|SupervisorDistrict|NeighborhoodDistrict|            Location|        RowID|\n",
            "+----------+------+--------------+----------------+----------+----------+--------------------+--------------------+--------------------+--------------------+--------------------+--------------------+--------------------+--------------------+--------------------+--------------------+-------------+-----------------+---------+-----------+----+----------------+--------+-------------+-------+--------------------+--------------+--------+--------------------------+----------------------+------------------+--------------------+--------------------+-------------+\n",
            "| 201100065|    66|      20046359|Medical Incident|04/19/2020|04/18/2020|04/19/2020 12:34:...|04/19/2020 12:35:...|04/19/2020 12:35:...|04/19/2020 12:36:...|04/19/2020 12:41:...|04/19/2020 12:53:...|04/19/2020 01:02:...|    Code 2 Transport|04/19/2020 01:50:...|3000 Block of 16T...|San Francisco|            94103|      B02|         07|5236|               3|       3|            3|   true|Potentially Life-...|             1|   MEDIC|                         2|                     2|                 9|             Mission|(37.7650413541786...| 201100065-66|\n",
            "| 201100065|   E07|      20046359|Medical Incident|04/19/2020|04/18/2020|04/19/2020 12:34:...|04/19/2020 12:35:...|04/19/2020 12:35:...|04/19/2020 12:37:...|04/19/2020 12:40:...|                null|                null|    Code 2 Transport|04/19/2020 12:43:...|3000 Block of 16T...|San Francisco|            94103|      B02|         07|5236|               3|       3|            3|   true|Potentially Life-...|             1|  ENGINE|                         1|                     2|                 9|             Mission|(37.7650413541786...|201100065-E07|\n",
            "| 201100066|    87|      20046360|Medical Incident|04/19/2020|04/18/2020|04/19/2020 12:33:...|04/19/2020 12:35:...|04/19/2020 12:36:...|04/19/2020 12:37:...|04/19/2020 12:50:...|04/19/2020 01:03:...|04/19/2020 01:07:...|    Code 2 Transport|04/19/2020 01:40:...|1300 Block of ELL...|San Francisco|            94115|      B02|         05|3431|               2|       2|            2|   true|Non Life-threatening|             1|   MEDIC|                         1|                     2|                 5|    Western Addition|(37.7826339083037...| 201100066-87|\n",
            "| 201100068|    76|      20046361|Medical Incident|04/19/2020|04/18/2020|04/19/2020 12:32:...|04/19/2020 12:36:...|04/19/2020 12:37:...|04/19/2020 12:38:...|04/19/2020 12:56:...|04/19/2020 01:21:...|04/19/2020 01:21:...|    Code 2 Transport|04/19/2020 01:31:...|1100 Block of VAN...|San Francisco|            94109|      B04|         03|3161|               2|       2|            2|   true|Non Life-threatening|             1|   MEDIC|                         1|                     4|                 5|    Western Addition|(37.7861331281251...| 201100068-76|\n",
            "| 201100117|    54|      20046362|Medical Incident|04/19/2020|04/18/2020|04/19/2020 01:00:...|04/19/2020 01:01:...|04/19/2020 01:02:...|04/19/2020 01:02:...|                null|                null|                null|    Code 2 Transport|04/19/2020 01:03:...|1500 Block of LOM...|San Francisco|            94123|      B04|         16|3244|               2|       2|            2|   true|Potentially Life-...|             1|   MEDIC|                         2|                     4|                 2|              Marina|(37.8008746923358...| 201100117-54|\n",
            "+----------+------+--------------+----------------+----------+----------+--------------------+--------------------+--------------------+--------------------+--------------------+--------------------+--------------------+--------------------+--------------------+--------------------+-------------+-----------------+---------+-----------+----+----------------+--------+-------------+-------+--------------------+--------------+--------+--------------------------+----------------------+------------------+--------------------+--------------------+-------------+\n",
            "only showing top 5 rows\n",
            "\n"
          ],
          "name": "stdout"
        }
      ]
    },
    {
      "cell_type": "code",
      "metadata": {
        "id": "T7_U3Lfpcpnw",
        "outputId": "ad76b75a-74d7-438d-e706-590890ef93b6",
        "colab": {
          "base_uri": "https://localhost:8080/",
          "height": 224
        }
      },
      "source": [
        "spark.sql(\"SELECT * FROM fireIncidents fi where \\\n",
        " to_date(fi.IncidentDate, 'MM/dd/yyyy')> '06/05/2018' \").show(5)"
      ],
      "execution_count": null,
      "outputs": [
        {
          "output_type": "stream",
          "text": [
            "+--------------+--------------+---------+--------------------+------------+----------+--------------------+--------------------+--------------------+-------------+-------+---------+-----------+----+----------------+--------------------+--------+------------+----------+--------------+----------------+---------------------+---------------------+--------------+------------+------------------+----------------+--------------+--------------------+---------+--------------------+--------------------+----------------+------------------------+--------------------+----------------+-------------+---------------------+-----------------------+----------+----------------+----------------------------------+-------------+---------------+-----------------+----------+------------+-------------------------------+-----------------------------------+-----------------------------+-------------------------------+----------------+------------+-----------------+---------------------+---------------------+-----------------------------------+-------------------------------+-------------------------------------+----------------------------------------+-------------------------------+------------------+--------------------+--------------------+------------------+--------+-----------------------+---------------+-------------------+---------------------------------------+--------------+---------+--------------------------------+-----------------------------------------------+-----------------------+-------------+-------------------+----------------------+--------------------------+---------------------+\n",
            "|IncidentNumber|ExposureNumber|       ID|             Address|IncidentDate|CallNumber|           AlarmDtTm|         ArrivalDtTm|           CloseDtTm|         City|ZIPCode|Battalion|StationArea| Box|SuppressionUnits|SuppressionPersonnel|EMSUnits|EMSPersonnel|OtherUnits|OtherPersonnel|FirstUnitOnScene|EstimatedPropertyLoss|EstimatedContentsLoss|FireFatalities|FireInjuries|CivilianFatalities|CivilianInjuries|NumberofAlarms|    PrimarySituation|MutualAid|  ActionTakenPrimary|ActionTakenSecondary|ActionTakenOther|DetectorAlertedOccupants|         PropertyUse|AreaofFireOrigin|IgnitionCause|IgnitionFactorPrimary|IgnitionFactorSecondary|HeatSource|ItemFirstIgnited|HumanFactorsAssociatedwithIgnition|StructureType|StructureStatus|FloorofFireOrigin|FireSpread|NoFlameSpead|Numberoffloorswithminimumdamage|Numberoffloorswithsignificantdamage|Numberoffloorswithheavydamage|Numberoffloorswithextremedamage|DetectorsPresent|DetectorType|DetectorOperation|DetectorEffectiveness|DetectorFailureReason|AutomaticExtinguishingSystemPresent|AutomaticExtinguishingSytemType|AutomaticExtinguishingSytemPerfomance|AutomaticExtinguishingSytemFailureReason|NumberofSprinklerHeadsOperating|SupervisorDistrict|AnalysisNeighborhood|               point|Neighborhoods(old)|ZipCodes|FirePreventionDistricts|PoliceDistricts|SupervisorDistricts|CivicCenterHarmReductionProjectBoundary|2017FixItZones|HSOCZones|CentralMarket/TenderloinBoundary|CentralMarket/TenderloinBoundaryPolygon-Updated|HSOCZonesasof2018-06-05|Neighborhoods|SFFindNeighborhoods|CurrentPoliceDistricts|CurrentSupervisorDistricts|AnalysisNeighborhoods|\n",
            "+--------------+--------------+---------+--------------------+------------+----------+--------------------+--------------------+--------------------+-------------+-------+---------+-----------+----+----------------+--------------------+--------+------------+----------+--------------+----------------+---------------------+---------------------+--------------+------------+------------------+----------------+--------------+--------------------+---------+--------------------+--------------------+----------------+------------------------+--------------------+----------------+-------------+---------------------+-----------------------+----------+----------------+----------------------------------+-------------+---------------+-----------------+----------+------------+-------------------------------+-----------------------------------+-----------------------------+-------------------------------+----------------+------------+-----------------+---------------------+---------------------+-----------------------------------+-------------------------------+-------------------------------------+----------------------------------------+-------------------------------+------------------+--------------------+--------------------+------------------+--------+-----------------------+---------------+-------------------+---------------------------------------+--------------+---------+--------------------------------+-----------------------------------------------+-----------------------+-------------+-------------------+----------------------+--------------------------+---------------------+\n",
            "|      14059818|             0|140598180|1775 Yosemite Avenue|  06/22/2014| 141733069|06/22/2014 09:26:...|                null|06/22/2014 09:32:...|San Francisco|  94124|      B10|         17|6512|              10|                  24|       1|           2|         0|             0|            null|                 null|                 null|             0|           0|                 0|               0|          null|611 dispatched & ...|   n none|93 cancelled en r...|                null|            null|                    null|                null|            null|         null|                 null|                   null|      null|            null|                              null|         null|           null|             null|      null|          na|                           null|                               null|                         null|                           null|            null|        null|             null|                 null|                 null|                               null|                           null|                                 null|                                    null|                           null|                10|Bayview Hunters P...|POINT (-122.39498...|                 1|      58|                     10|              3|                  8|                                   null|          null|     null|                            null|                                           null|                   null|           86|                 86|                     2|                         9|                    1|\n",
            "|      18066225|             0|180662250|    Gateview/bayside|  06/05/2018| 181563203|06/05/2018 06:38:...|06/05/2018 06:41:...|06/05/2018 06:42:...|         null|   null|      B03|         48|2931|               2|                   9|       0|           0|         0|             0|            null|                 null|                 null|             0|           0|                 0|               0|          null|500 service call,...|   n none|      86 investigate|                null|            null|                    null|000 property use,...|            null|         null|                 null|                   null|      null|            null|                              null|         null|           null|             null|      null|          na|                           null|                               null|                         null|                           null|            null|        null|             null|                 null|                 null|                               null|                           null|                                 null|                                    null|                           null|              null|                null|                null|              null|    null|                   null|           null|               null|                                   null|          null|     null|                            null|                                           null|                   null|         null|               null|                  null|                      null|                 null|\n",
            "|      14029955|             0|140299550|74 New Montgomery...|  03/30/2014| 140890166|03/30/2014 12:51:...|                null|03/30/2014 12:53:...|SAN FRANCISCO|  94105|      B03|         01|2157|               1|                   1|       0|           0|         0|             0|            null|                 null|                 null|             0|           0|                 0|               0|          null|611 dispatched & ...|   n none|93 cancelled en r...|                null|            null|                    null| 599 business office|            null|         null|                 null|                   null|      null|            null|                              null|         null|           null|             null|      null|          na|                           null|                               null|                         null|                           null|            null|        null|             null|                 null|                 null|                               null|                           null|                                 null|                                    null|                           null|                 6|Financial Distric...|POINT (-122.40104...|                 6|   28855|                     12|              2|                  9|                                   null|          null|     null|                            null|                                           null|                   null|           32|                 32|                     6|                        10|                    8|\n",
            "|      19102786|             0|191027860|       Bayside Drive|  08/29/2019| 192413977|08/29/2019 08:09:...|08/29/2019 08:11:...|08/29/2019 08:12:...|         null|   null|      B03|         48|2931|               2|                   9|       0|           0|         0|             0|            null|                 null|                 null|             0|           0|                 0|               0|          null|700 false alarm o...|   n none|00 action taken, ...|                null|            null|                    null|            nnn none|            null|         null|                 null|                   null|      null|            null|                              null|         null|           null|             null|      null|          na|                           null|                               null|                         null|                           null|            null|        null|             null|                 null|                 null|                               null|                           null|                                 null|                                    null|                           null|              null|                null|                null|              null|    null|                   null|           null|               null|                                   null|          null|     null|                            null|                                           null|                   null|         null|               null|                  null|                      null|                 null|\n",
            "|      14051237|             0|140512370|              280 Nb|  06/03/2014| 141492212|06/03/2014 03:28:...|                null|06/03/2014 03:40:...|San Francisco|  94107|      B10|         25|2612|               1|                   4|       1|           2|         0|             0|            null|                 null|                 null|             0|           0|                 0|               0|          null|611 dispatched & ...|   n none|93 cancelled en r...|                null|            null|                    null|961 highway or di...|            null|         null|                 null|                   null|      null|            null|                              null|         null|           null|             null|      null|          na|                           null|                               null|                         null|                           null|            null|        null|             null|                 null|                 null|                               null|                           null|                                 null|                                    null|                           null|                10|        Potrero Hill|POINT (-122.39230...|                29|   28856|                     10|              3|                  8|                                   null|          null|     null|                            null|                                           null|                   null|           55|                 55|                     2|                         9|                   26|\n",
            "+--------------+--------------+---------+--------------------+------------+----------+--------------------+--------------------+--------------------+-------------+-------+---------+-----------+----+----------------+--------------------+--------+------------+----------+--------------+----------------+---------------------+---------------------+--------------+------------+------------------+----------------+--------------+--------------------+---------+--------------------+--------------------+----------------+------------------------+--------------------+----------------+-------------+---------------------+-----------------------+----------+----------------+----------------------------------+-------------+---------------+-----------------+----------+------------+-------------------------------+-----------------------------------+-----------------------------+-------------------------------+----------------+------------+-----------------+---------------------+---------------------+-----------------------------------+-------------------------------+-------------------------------------+----------------------------------------+-------------------------------+------------------+--------------------+--------------------+------------------+--------+-----------------------+---------------+-------------------+---------------------------------------+--------------+---------+--------------------------------+-----------------------------------------------+-----------------------+-------------+-------------------+----------------------+--------------------------+---------------------+\n",
            "only showing top 5 rows\n",
            "\n"
          ],
          "name": "stdout"
        }
      ]
    },
    {
      "cell_type": "code",
      "metadata": {
        "id": "aQ5t1uhPJKW7",
        "outputId": "5a8f4a90-d1ad-4694-d52c-c5ec5226f469",
        "colab": {
          "base_uri": "https://localhost:8080/",
          "height": 255
        }
      },
      "source": [
        "spark.sql(\"SELECT distinct upper(CallType) FROM firecalls fc where \\\n",
        "CallDate = '04/19/2020'and IncidentNumber >20046358 \").show(1000,False)"
      ],
      "execution_count": null,
      "outputs": [
        {
          "output_type": "stream",
          "text": [
            "+-------------------------------+\n",
            "|upper(CallType)                |\n",
            "+-------------------------------+\n",
            "|ALARMS                         |\n",
            "|OUTSIDE FIRE                   |\n",
            "|TRAFFIC COLLISION              |\n",
            "|GAS LEAK (NATURAL AND LP GASES)|\n",
            "|MEDICAL INCIDENT               |\n",
            "|OTHER                          |\n",
            "|STRUCTURE FIRE                 |\n",
            "|CITIZEN ASSIST / SERVICE CALL  |\n",
            "|SMOKE INVESTIGATION (OUTSIDE)  |\n",
            "+-------------------------------+\n",
            "\n"
          ],
          "name": "stdout"
        }
      ]
    },
    {
      "cell_type": "code",
      "metadata": {
        "id": "7WWacy1lFdOP",
        "outputId": "ddce638f-37c2-4fa9-9651-cece60334cd1",
        "colab": {
          "base_uri": "https://localhost:8080/",
          "height": 204
        }
      },
      "source": [
        "spark.sql(\"SELECT NeighborhoodDistrict, count(NeighborhoodDistrict) AS Neighborhood_Count \\\n",
        "FROM firecalls \\\n",
        "WHERE year(to_date(CallDate, 'MM/dd/yyyy')) > 2019 \\\n",
        "GROUP BY NeighborhoodDistrict \\\n",
        "ORDER BY Neighborhood_Count DESC \").show(5, False)"
      ],
      "execution_count": null,
      "outputs": [
        {
          "output_type": "stream",
          "text": [
            "+------------------------------+------------------+\n",
            "|NeighborhoodDistrict          |Neighborhood_Count|\n",
            "+------------------------------+------------------+\n",
            "|Tenderloin                    |93                |\n",
            "|South of Market               |69                |\n",
            "|Mission                       |63                |\n",
            "|Outer Richmond                |49                |\n",
            "|Financial District/South Beach|33                |\n",
            "+------------------------------+------------------+\n",
            "only showing top 5 rows\n",
            "\n"
          ],
          "name": "stdout"
        }
      ]
    },
    {
      "cell_type": "code",
      "metadata": {
        "id": "PiEpHcv_qR3c"
      },
      "source": [
        "from pyspark.sql.functions import *\n",
        "\n",
        "# Note that PySpark uses the Java Simple Date Format patterns\n",
        "\n",
        "from_pattern1 = 'MM/dd/yyyy'\n",
        "to_pattern1 = 'yyyy-MM-dd'\n",
        "\n",
        "from_pattern2 = 'MM/dd/yyyy hh:mm:ss aa'\n",
        "to_pattern2 = 'MM/dd/yyyy hh:mm:ss aa'\n",
        "\n",
        "\n",
        "fireServiceCallsTsDF = fireServiceCallsDF \\\n",
        "  .withColumn('CallDateTS', unix_timestamp(fireServiceCallsDF['Call Date'], from_pattern1).cast(\"timestamp\")) \\\n",
        "  .drop('CallDate') \\\n",
        "  .withColumn('WatchDateTS', unix_timestamp(fireServiceCallsDF['Watch Date'], from_pattern1).cast(\"timestamp\")) \\\n",
        "  .drop('WatchDate') \\\n",
        "  .withColumn('ReceivedDtTmTS', unix_timestamp(fireServiceCallsDF['Received DtTm'], from_pattern2).cast(\"timestamp\")) \\\n",
        "  .drop('ReceivedDtTm')\n",
        "\n",
        "\n",
        "fireServiceCallsTsDF.printSchema()\n",
        "fireServiceCallsTsDF.show(5)"
      ],
      "execution_count": null,
      "outputs": []
    },
    {
      "cell_type": "code",
      "metadata": {
        "id": "xd-dYQv5jYdY",
        "outputId": "0c38b495-cb05-4e89-9704-76f8cf1d54b1",
        "colab": {
          "base_uri": "https://localhost:8080/",
          "height": 309
        }
      },
      "source": [
        "spark.sql(\"SELECT * FROM firecalls fc \\\n",
        "left join fireIncidents fi on fc.IncidentNumber =fi.IncidentNumber \").show(10)"
      ],
      "execution_count": null,
      "outputs": [
        {
          "output_type": "stream",
          "text": [
            "+----------+------+--------------+-----------------+----------+----------+--------------------+--------------------+--------------------+--------------------+--------------------+--------------------+--------------------+--------------------+--------------------+--------------------+-------------+-----------------+---------+-----------+----+----------------+--------+-------------+-------+--------------------+--------------+--------+--------------------------+----------------------+------------------+--------------------+--------------------+--------------+--------------+--------------+----+-------+------------+----------+---------+-----------+---------+----+-------+---------+-----------+----+----------------+--------------------+--------+------------+----------+--------------+----------------+---------------------+---------------------+--------------+------------+------------------+----------------+--------------+----------------+---------+------------------+--------------------+----------------+------------------------+-----------+----------------+-------------+---------------------+-----------------------+----------+----------------+----------------------------------+-------------+---------------+-----------------+----------+------------+-------------------------------+-----------------------------------+-----------------------------+-------------------------------+----------------+------------+-----------------+---------------------+---------------------+-----------------------------------+-------------------------------+-------------------------------------+----------------------------------------+-------------------------------+------------------+--------------------+-----+------------------+--------+-----------------------+---------------+-------------------+---------------------------------------+--------------+---------+--------------------------------+-----------------------------------------------+-----------------------+-------------+-------------------+----------------------+--------------------------+---------------------+\n",
            "|CallNumber|UnitID|IncidentNumber|         CallType|  CallDate| WatchDate|        ReceivedDtTm|           EntryDtTm|        DispatchDtTm|        ResponseDtTm|         OnSceneDtTm|       TransportDtTm|        HospitalDtTm|CallFinalDisposition|       AvailableDtTm|             Address|         City|ZipcodeofIncident|Battalion|StationArea| Box|OriginalPriority|Priority|FinalPriority|ALSUnit|       CallTypeGroup|NumberofAlarms|UnitType|Unitsequenceincalldispatch|FirePreventionDistrict|SupervisorDistrict|NeighborhoodDistrict|            Location|         RowID|IncidentNumber|ExposureNumber|  ID|Address|IncidentDate|CallNumber|AlarmDtTm|ArrivalDtTm|CloseDtTm|City|ZIPCode|Battalion|StationArea| Box|SuppressionUnits|SuppressionPersonnel|EMSUnits|EMSPersonnel|OtherUnits|OtherPersonnel|FirstUnitOnScene|EstimatedPropertyLoss|EstimatedContentsLoss|FireFatalities|FireInjuries|CivilianFatalities|CivilianInjuries|NumberofAlarms|PrimarySituation|MutualAid|ActionTakenPrimary|ActionTakenSecondary|ActionTakenOther|DetectorAlertedOccupants|PropertyUse|AreaofFireOrigin|IgnitionCause|IgnitionFactorPrimary|IgnitionFactorSecondary|HeatSource|ItemFirstIgnited|HumanFactorsAssociatedwithIgnition|StructureType|StructureStatus|FloorofFireOrigin|FireSpread|NoFlameSpead|Numberoffloorswithminimumdamage|Numberoffloorswithsignificantdamage|Numberoffloorswithheavydamage|Numberoffloorswithextremedamage|DetectorsPresent|DetectorType|DetectorOperation|DetectorEffectiveness|DetectorFailureReason|AutomaticExtinguishingSystemPresent|AutomaticExtinguishingSytemType|AutomaticExtinguishingSytemPerfomance|AutomaticExtinguishingSytemFailureReason|NumberofSprinklerHeadsOperating|SupervisorDistrict|AnalysisNeighborhood|point|Neighborhoods(old)|ZipCodes|FirePreventionDistricts|PoliceDistricts|SupervisorDistricts|CivicCenterHarmReductionProjectBoundary|2017FixItZones|HSOCZones|CentralMarket/TenderloinBoundary|CentralMarket/TenderloinBoundaryPolygon-Updated|HSOCZonesasof2018-06-05|Neighborhoods|SFFindNeighborhoods|CurrentPoliceDistricts|CurrentSupervisorDistricts|AnalysisNeighborhoods|\n",
            "+----------+------+--------------+-----------------+----------+----------+--------------------+--------------------+--------------------+--------------------+--------------------+--------------------+--------------------+--------------------+--------------------+--------------------+-------------+-----------------+---------+-----------+----+----------------+--------+-------------+-------+--------------------+--------------+--------+--------------------------+----------------------+------------------+--------------------+--------------------+--------------+--------------+--------------+----+-------+------------+----------+---------+-----------+---------+----+-------+---------+-----------+----+----------------+--------------------+--------+------------+----------+--------------+----------------+---------------------+---------------------+--------------+------------+------------------+----------------+--------------+----------------+---------+------------------+--------------------+----------------+------------------------+-----------+----------------+-------------+---------------------+-----------------------+----------+----------------+----------------------------------+-------------+---------------+-----------------+----------+------------+-------------------------------+-----------------------------------+-----------------------------+-------------------------------+----------------+------------+-----------------+---------------------+---------------------+-----------------------------------+-------------------------------+-------------------------------------+----------------------------------------+-------------------------------+------------------+--------------------+-----+------------------+--------+-----------------------+---------------+-------------------+---------------------------------------+--------------+---------+--------------------------------+-----------------------------------------------+-----------------------+-------------+-------------------+----------------------+--------------------------+---------------------+\n",
            "| 201100018|    67|      20046355| Medical Incident|04/19/2020|04/18/2020|04/19/2020 12:10:...|04/19/2020 12:10:...|04/19/2020 12:11:...|04/19/2020 12:11:...|04/19/2020 12:27:...|04/19/2020 12:40:...|04/19/2020 12:45:...|    Code 2 Transport|04/19/2020 01:12:...|300 Block of EDDY ST|San Francisco|            94102|      B02|         03|1540|               C|       2|            2|   true|Non Life-threatening|             1|   MEDIC|                         1|                     2|                 6|          Tenderloin|(37.7838344374141...|  201100018-67|          null|          null|null|   null|        null|      null|     null|       null|     null|null|   null|     null|       null|null|            null|                null|    null|        null|      null|          null|            null|                 null|                 null|          null|        null|              null|            null|          null|            null|     null|              null|                null|            null|                    null|       null|            null|         null|                 null|                   null|      null|            null|                              null|         null|           null|             null|      null|        null|                           null|                               null|                         null|                           null|            null|        null|             null|                 null|                 null|                               null|                           null|                                 null|                                    null|                           null|              null|                null| null|              null|    null|                   null|           null|               null|                                   null|          null|     null|                            null|                                           null|                   null|         null|               null|                  null|                      null|                 null|\n",
            "| 201100034|    86|      20046357| Medical Incident|04/19/2020|04/18/2020|04/19/2020 12:18:...|04/19/2020 12:19:...|04/19/2020 12:20:...|04/19/2020 12:20:...|04/19/2020 12:24:...|04/19/2020 01:20:...|04/19/2020 01:32:...|    Code 2 Transport|04/19/2020 02:02:...|700 Block of EDDY ST|San Francisco|            94102|      B02|         03|3163|               3|       3|            3|   true|Non Life-threatening|             1|   MEDIC|                         1|                     2|                 6|          Tenderloin|(37.7829435235820...|  201100034-86|          null|          null|null|   null|        null|      null|     null|       null|     null|null|   null|     null|       null|null|            null|                null|    null|        null|      null|          null|            null|                 null|                 null|          null|        null|              null|            null|          null|            null|     null|              null|                null|            null|                    null|       null|            null|         null|                 null|                   null|      null|            null|                              null|         null|           null|             null|      null|        null|                           null|                               null|                         null|                           null|            null|        null|             null|                 null|                 null|                               null|                           null|                                 null|                                    null|                           null|              null|                null| null|              null|    null|                   null|           null|               null|                                   null|          null|     null|                            null|                                           null|                   null|         null|               null|                  null|                      null|                 null|\n",
            "| 201100034|  QRV1|      20046357| Medical Incident|04/19/2020|04/18/2020|04/19/2020 12:18:...|04/19/2020 12:19:...|04/19/2020 12:20:...|04/19/2020 12:20:...|04/19/2020 12:24:...|                null|                null|    Code 2 Transport|04/19/2020 12:34:...|700 Block of EDDY ST|San Francisco|            94102|      B02|         03|3163|               3|       3|            3|   true|Non Life-threatening|             1| SUPPORT|                         2|                     2|                 6|          Tenderloin|(37.7829435235820...|201100034-QRV1|          null|          null|null|   null|        null|      null|     null|       null|     null|null|   null|     null|       null|null|            null|                null|    null|        null|      null|          null|            null|                 null|                 null|          null|        null|              null|            null|          null|            null|     null|              null|                null|            null|                    null|       null|            null|         null|                 null|                   null|      null|            null|                              null|         null|           null|             null|      null|        null|                           null|                               null|                         null|                           null|            null|        null|             null|                 null|                 null|                               null|                           null|                                 null|                                    null|                           null|              null|                null| null|              null|    null|                   null|           null|               null|                                   null|          null|     null|                            null|                                           null|                   null|         null|               null|                  null|                      null|                 null|\n",
            "| 201100053|   E19|      20046358|Traffic Collision|04/19/2020|04/18/2020|04/19/2020 12:24:...|04/19/2020 12:29:...|04/19/2020 12:29:...|04/19/2020 12:31:...|04/19/2020 12:35:...|                null|                null|    Code 2 Transport|04/19/2020 12:46:...|500 Block of JUNI...|San Francisco|            94127|      B09|         19|8451|               3|       3|            3|   true|Non Life-threatening|             1|  ENGINE|                         1|                     9|                 7|  West of Twin Peaks|(37.7278050418903...| 201100053-E19|          null|          null|null|   null|        null|      null|     null|       null|     null|null|   null|     null|       null|null|            null|                null|    null|        null|      null|          null|            null|                 null|                 null|          null|        null|              null|            null|          null|            null|     null|              null|                null|            null|                    null|       null|            null|         null|                 null|                   null|      null|            null|                              null|         null|           null|             null|      null|        null|                           null|                               null|                         null|                           null|            null|        null|             null|                 null|                 null|                               null|                           null|                                 null|                                    null|                           null|              null|                null| null|              null|    null|                   null|           null|               null|                                   null|          null|     null|                            null|                                           null|                   null|         null|               null|                  null|                      null|                 null|\n",
            "| 201100053|  KM07|      20046358|Traffic Collision|04/19/2020|04/18/2020|04/19/2020 12:24:...|04/19/2020 12:29:...|04/19/2020 12:29:...|04/19/2020 12:30:...|04/19/2020 12:36:...|04/19/2020 12:58:...|04/19/2020 01:22:...|    Code 2 Transport|04/19/2020 01:48:...|500 Block of JUNI...|San Francisco|            94127|      B09|         19|8451|               3|       3|            3|  false|Non Life-threatening|             1| PRIVATE|                         2|                     9|                 7|  West of Twin Peaks|(37.7278050418903...|201100053-KM07|          null|          null|null|   null|        null|      null|     null|       null|     null|null|   null|     null|       null|null|            null|                null|    null|        null|      null|          null|            null|                 null|                 null|          null|        null|              null|            null|          null|            null|     null|              null|                null|            null|                    null|       null|            null|         null|                 null|                   null|      null|            null|                              null|         null|           null|             null|      null|        null|                           null|                               null|                         null|                           null|            null|        null|             null|                 null|                 null|                               null|                           null|                                 null|                                    null|                           null|              null|                null| null|              null|    null|                   null|           null|               null|                                   null|          null|     null|                            null|                                           null|                   null|         null|               null|                  null|                      null|                 null|\n",
            "| 201100065|    66|      20046359| Medical Incident|04/19/2020|04/18/2020|04/19/2020 12:34:...|04/19/2020 12:35:...|04/19/2020 12:35:...|04/19/2020 12:36:...|04/19/2020 12:41:...|04/19/2020 12:53:...|04/19/2020 01:02:...|    Code 2 Transport|04/19/2020 01:50:...|3000 Block of 16T...|San Francisco|            94103|      B02|         07|5236|               3|       3|            3|   true|Potentially Life-...|             1|   MEDIC|                         2|                     2|                 9|             Mission|(37.7650413541786...|  201100065-66|          null|          null|null|   null|        null|      null|     null|       null|     null|null|   null|     null|       null|null|            null|                null|    null|        null|      null|          null|            null|                 null|                 null|          null|        null|              null|            null|          null|            null|     null|              null|                null|            null|                    null|       null|            null|         null|                 null|                   null|      null|            null|                              null|         null|           null|             null|      null|        null|                           null|                               null|                         null|                           null|            null|        null|             null|                 null|                 null|                               null|                           null|                                 null|                                    null|                           null|              null|                null| null|              null|    null|                   null|           null|               null|                                   null|          null|     null|                            null|                                           null|                   null|         null|               null|                  null|                      null|                 null|\n",
            "| 201100065|   E07|      20046359| Medical Incident|04/19/2020|04/18/2020|04/19/2020 12:34:...|04/19/2020 12:35:...|04/19/2020 12:35:...|04/19/2020 12:37:...|04/19/2020 12:40:...|                null|                null|    Code 2 Transport|04/19/2020 12:43:...|3000 Block of 16T...|San Francisco|            94103|      B02|         07|5236|               3|       3|            3|   true|Potentially Life-...|             1|  ENGINE|                         1|                     2|                 9|             Mission|(37.7650413541786...| 201100065-E07|          null|          null|null|   null|        null|      null|     null|       null|     null|null|   null|     null|       null|null|            null|                null|    null|        null|      null|          null|            null|                 null|                 null|          null|        null|              null|            null|          null|            null|     null|              null|                null|            null|                    null|       null|            null|         null|                 null|                   null|      null|            null|                              null|         null|           null|             null|      null|        null|                           null|                               null|                         null|                           null|            null|        null|             null|                 null|                 null|                               null|                           null|                                 null|                                    null|                           null|              null|                null| null|              null|    null|                   null|           null|               null|                                   null|          null|     null|                            null|                                           null|                   null|         null|               null|                  null|                      null|                 null|\n",
            "| 201100066|    87|      20046360| Medical Incident|04/19/2020|04/18/2020|04/19/2020 12:33:...|04/19/2020 12:35:...|04/19/2020 12:36:...|04/19/2020 12:37:...|04/19/2020 12:50:...|04/19/2020 01:03:...|04/19/2020 01:07:...|    Code 2 Transport|04/19/2020 01:40:...|1300 Block of ELL...|San Francisco|            94115|      B02|         05|3431|               2|       2|            2|   true|Non Life-threatening|             1|   MEDIC|                         1|                     2|                 5|    Western Addition|(37.7826339083037...|  201100066-87|          null|          null|null|   null|        null|      null|     null|       null|     null|null|   null|     null|       null|null|            null|                null|    null|        null|      null|          null|            null|                 null|                 null|          null|        null|              null|            null|          null|            null|     null|              null|                null|            null|                    null|       null|            null|         null|                 null|                   null|      null|            null|                              null|         null|           null|             null|      null|        null|                           null|                               null|                         null|                           null|            null|        null|             null|                 null|                 null|                               null|                           null|                                 null|                                    null|                           null|              null|                null| null|              null|    null|                   null|           null|               null|                                   null|          null|     null|                            null|                                           null|                   null|         null|               null|                  null|                      null|                 null|\n",
            "| 192042427|   E38|      19086811|           Alarms|07/23/2019|07/23/2019|07/23/2019 03:10:...|07/23/2019 03:11:...|07/23/2019 03:11:...|07/23/2019 03:13:...|07/23/2019 03:13:...|                null|                null|                Fire|07/23/2019 03:20:...|1800 Block of PIN...|San Francisco|            94109|      B04|         38|3325|               3|       3|            3|  false|               Alarm|             1|  ENGINE|                         3|                     4|                 2|     Pacific Heights|(37.7889450363259...| 192042427-E38|          null|          null|null|   null|        null|      null|     null|       null|     null|null|   null|     null|       null|null|            null|                null|    null|        null|      null|          null|            null|                 null|                 null|          null|        null|              null|            null|          null|            null|     null|              null|                null|            null|                    null|       null|            null|         null|                 null|                   null|      null|            null|                              null|         null|           null|             null|      null|        null|                           null|                               null|                         null|                           null|            null|        null|             null|                 null|                 null|                               null|                           null|                                 null|                                    null|                           null|              null|                null| null|              null|    null|                   null|           null|               null|                                   null|          null|     null|                            null|                                           null|                   null|         null|               null|                  null|                      null|                 null|\n",
            "| 191790072|   T01|      19076289|           Alarms|06/28/2019|06/27/2019|06/28/2019 12:48:...|06/28/2019 12:50:...|06/28/2019 12:50:...|06/28/2019 12:51:...|06/28/2019 12:54:...|                null|                null|                Fire|06/28/2019 01:01:...| 0 Block of MASON ST|San Francisco|            94102|      B03|         01|1365|               3|       3|            3|  false|               Alarm|             1|   TRUCK|                         2|                     3|                 6|          Tenderloin|(37.7837892969292...| 191790072-T01|          null|          null|null|   null|        null|      null|     null|       null|     null|null|   null|     null|       null|null|            null|                null|    null|        null|      null|          null|            null|                 null|                 null|          null|        null|              null|            null|          null|            null|     null|              null|                null|            null|                    null|       null|            null|         null|                 null|                   null|      null|            null|                              null|         null|           null|             null|      null|        null|                           null|                               null|                         null|                           null|            null|        null|             null|                 null|                 null|                               null|                           null|                                 null|                                    null|                           null|              null|                null| null|              null|    null|                   null|           null|               null|                                   null|          null|     null|                            null|                                           null|                   null|         null|               null|                  null|                      null|                 null|\n",
            "+----------+------+--------------+-----------------+----------+----------+--------------------+--------------------+--------------------+--------------------+--------------------+--------------------+--------------------+--------------------+--------------------+--------------------+-------------+-----------------+---------+-----------+----+----------------+--------+-------------+-------+--------------------+--------------+--------+--------------------------+----------------------+------------------+--------------------+--------------------+--------------+--------------+--------------+----+-------+------------+----------+---------+-----------+---------+----+-------+---------+-----------+----+----------------+--------------------+--------+------------+----------+--------------+----------------+---------------------+---------------------+--------------+------------+------------------+----------------+--------------+----------------+---------+------------------+--------------------+----------------+------------------------+-----------+----------------+-------------+---------------------+-----------------------+----------+----------------+----------------------------------+-------------+---------------+-----------------+----------+------------+-------------------------------+-----------------------------------+-----------------------------+-------------------------------+----------------+------------+-----------------+---------------------+---------------------+-----------------------------------+-------------------------------+-------------------------------------+----------------------------------------+-------------------------------+------------------+--------------------+-----+------------------+--------+-----------------------+---------------+-------------------+---------------------------------------+--------------+---------+--------------------------------+-----------------------------------------------+-----------------------+-------------+-------------------+----------------------+--------------------------+---------------------+\n",
            "only showing top 10 rows\n",
            "\n"
          ],
          "name": "stdout"
        }
      ]
    }
  ]
}
