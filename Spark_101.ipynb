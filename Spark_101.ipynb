{
  "nbformat": 4,
  "nbformat_minor": 0,
  "metadata": {
    "colab": {
      "name": "Spark_101.ipynb",
      "provenance": [],
      "toc_visible": true,
      "mount_file_id": "1pyZxLcvgjKs45Nez-scJCXpS51JmcHHt",
      "authorship_tag": "ABX9TyNWQN49DAMdh9RxdPpzb61l",
      "include_colab_link": true
    },
    "kernelspec": {
      "name": "python3",
      "display_name": "Python 3"
    }
  },
  "cells": [
    {
      "cell_type": "markdown",
      "metadata": {
        "id": "view-in-github",
        "colab_type": "text"
      },
      "source": [
        "<a href=\"https://colab.research.google.com/github/samarthk/Learning_pyspark/blob/master/Spark_101.ipynb\" target=\"_parent\"><img src=\"https://colab.research.google.com/assets/colab-badge.svg\" alt=\"Open In Colab\"/></a>"
      ]
    },
    {
      "cell_type": "markdown",
      "metadata": {
        "id": "Xt8tgg_1wBKA",
        "colab_type": "text"
      },
      "source": [
        "# Install Java, Spark, and Findspark\n",
        "This installs Apache Spark 2.3.1, Java 8, and [Findspark](https://github.com/minrk/findspark), a library that makes it easy for Python to find Spark."
      ]
    },
    {
      "cell_type": "code",
      "metadata": {
        "id": "AQXZkWnov1aC",
        "colab_type": "code",
        "colab": {}
      },
      "source": [
        "!apt-get install openjdk-8-jdk-headless -qq > /dev/null\n",
        "!wget https://archive.apache.org/dist/spark/spark-2.4.1/spark-2.4.1-bin-hadoop2.7.tgz\n",
        "!tar xf spark-2.4.1-bin-hadoop2.7.tgz\n",
        "!pip install -q findspark\n"
      ],
      "execution_count": null,
      "outputs": []
    },
    {
      "cell_type": "markdown",
      "metadata": {
        "id": "TJX5_5BgwXQT",
        "colab_type": "text"
      },
      "source": [
        "## Set Environment Variables\n",
        "Set the locations where Spark and Java are installed."
      ]
    },
    {
      "cell_type": "code",
      "metadata": {
        "id": "oOnW0ZNMwbiJ",
        "colab_type": "code",
        "colab": {}
      },
      "source": [
        "import os\n",
        "os.environ[\"JAVA_HOME\"] = \"/usr/lib/jvm/java-8-openjdk-amd64\"\n",
        "os.environ[\"SPARK_HOME\"] = \"/content/spark-2.4.1-bin-hadoop2.7\""
      ],
      "execution_count": null,
      "outputs": []
    },
    {
      "cell_type": "markdown",
      "metadata": {
        "id": "KlBYxETTwe73",
        "colab_type": "text"
      },
      "source": [
        "## Start a SparkSession\n",
        "This will start a local Spark session."
      ]
    },
    {
      "cell_type": "code",
      "metadata": {
        "id": "Fli_4ucj9gLa",
        "colab_type": "code",
        "colab": {}
      },
      "source": [
        "# Run a local spark session to test our installation:\n",
        "import findspark\n",
        "findspark.init()\n",
        "from pyspark.sql import SparkSession\n",
        "spark = SparkSession.builder.master(\"local[*]\").getOrCreate()"
      ],
      "execution_count": null,
      "outputs": []
    },
    {
      "cell_type": "code",
      "metadata": {
        "id": "PKo12Y9rwfx3",
        "colab_type": "code",
        "colab": {}
      },
      "source": [
        "import findspark\n",
        "findspark.init()\n",
        "\n",
        "from pyspark import SparkContext\n",
        "from pyspark import SparkConf\n",
        "from pyspark.sql import SQLContext\n",
        "\n",
        "conf = SparkConf().setMaster(\"local[*]\").setAppName('pyspark')\n",
        "sc = SparkContext(conf=conf)\n",
        "sqc = SQLContext(sc)"
      ],
      "execution_count": null,
      "outputs": []
    },
    {
      "cell_type": "markdown",
      "metadata": {
        "id": "3qfh3bPzxPdQ",
        "colab_type": "text"
      },
      "source": [
        "## Use Spark!\n",
        "That's all there is to it - you're ready to use Spark!"
      ]
    },
    {
      "cell_type": "code",
      "metadata": {
        "id": "2gI9xREKSWVh",
        "colab_type": "code",
        "colab": {
          "base_uri": "https://localhost:8080/"
        },
        "outputId": "9b8873b3-fe7b-4fb8-d04d-2ba5facce94e"
      },
      "source": [
        "df = spark.createDataFrame([{\"hello\": \"world\"} for x in range(1000)])\n",
        "df.show(3)"
      ],
      "execution_count": null,
      "outputs": [
        {
          "output_type": "stream",
          "text": [
            "+-----+\n",
            "|hello|\n",
            "+-----+\n",
            "|world|\n",
            "|world|\n",
            "|world|\n",
            "+-----+\n",
            "only showing top 3 rows\n",
            "\n"
          ],
          "name": "stdout"
        },
        {
          "output_type": "stream",
          "text": [
            "/content/spark-2.4.1-bin-hadoop2.7/python/pyspark/sql/session.py:346: UserWarning: inferring schema from dict is deprecated,please use pyspark.sql.Row instead\n",
            "  warnings.warn(\"inferring schema from dict is deprecated,\"\n"
          ],
          "name": "stderr"
        }
      ]
    },
    {
      "cell_type": "markdown",
      "metadata": {
        "id": "SCpcQuU3x_MJ",
        "colab_type": "text"
      },
      "source": [
        "# Programming Ex\n"
      ]
    },
    {
      "cell_type": "markdown",
      "metadata": {
        "id": "vnvLcGlm08m-",
        "colab_type": "text"
      },
      "source": [
        "Download File"
      ]
    },
    {
      "cell_type": "code",
      "metadata": {
        "id": "VPUyVNyr0JQz",
        "colab_type": "code",
        "colab": {}
      },
      "source": [
        "!wget https://data.sfgov.org/api/views/wr8u-xric/rows.csv"
      ],
      "execution_count": null,
      "outputs": []
    },
    {
      "cell_type": "code",
      "metadata": {
        "id": "Qee07QKn1QRJ",
        "colab_type": "code",
        "colab": {}
      },
      "source": [
        "!ls -ltr /content/sample_data/\n",
        "\n",
        "!head -5000 /content/drive/My\\ Drive/Data_Files/Fire_Incidents_FULL.csv > Fire_Incidents.csv\n"
      ],
      "execution_count": null,
      "outputs": []
    },
    {
      "cell_type": "code",
      "metadata": {
        "id": "Q3S1E0jfydh2",
        "colab_type": "code",
        "colab": {}
      },
      "source": [
        "from pyspark.sql.types import *"
      ],
      "execution_count": null,
      "outputs": []
    },
    {
      "cell_type": "markdown",
      "metadata": {
        "id": "bXtvviVx7_A9",
        "colab_type": "text"
      },
      "source": [
        "## San Francisco Fire Incidents (OpenData Meetup)"
      ]
    },
    {
      "cell_type": "code",
      "metadata": {
        "id": "hjwZZ_Gk8C_y",
        "colab_type": "code",
        "colab": {
          "base_uri": "https://localhost:8080/",
          "height": 799
        },
        "outputId": "fdb8de4f-fa2b-4204-962c-0073c182d872"
      },
      "source": [
        "fireServiceCallsDF = spark.read.csv('/content/sample_data/Fire_Department_Calls_for_Service.csv', header=True, inferSchema=True)\n",
        "fireServiceCallsDF.printSchema()"
      ],
      "execution_count": null,
      "outputs": [
        {
          "output_type": "stream",
          "text": [
            "root\n",
            " |-- Call Number: integer (nullable = true)\n",
            " |-- Unit ID: string (nullable = true)\n",
            " |-- Incident Number: integer (nullable = true)\n",
            " |-- Call Type: string (nullable = true)\n",
            " |-- Call Date: string (nullable = true)\n",
            " |-- Watch Date: string (nullable = true)\n",
            " |-- Received DtTm: string (nullable = true)\n",
            " |-- Entry DtTm: string (nullable = true)\n",
            " |-- Dispatch DtTm: string (nullable = true)\n",
            " |-- Response DtTm: string (nullable = true)\n",
            " |-- On Scene DtTm: string (nullable = true)\n",
            " |-- Transport DtTm: string (nullable = true)\n",
            " |-- Hospital DtTm: string (nullable = true)\n",
            " |-- Call Final Disposition: string (nullable = true)\n",
            " |-- Available DtTm: string (nullable = true)\n",
            " |-- Address: string (nullable = true)\n",
            " |-- City: string (nullable = true)\n",
            " |-- Zipcode of Incident: integer (nullable = true)\n",
            " |-- Battalion: string (nullable = true)\n",
            " |-- Station Area: integer (nullable = true)\n",
            " |-- Box: integer (nullable = true)\n",
            " |-- Original Priority: string (nullable = true)\n",
            " |-- Priority: string (nullable = true)\n",
            " |-- Final Priority: integer (nullable = true)\n",
            " |-- ALS Unit: boolean (nullable = true)\n",
            " |-- Call Type Group: string (nullable = true)\n",
            " |-- Number of Alarms: integer (nullable = true)\n",
            " |-- Unit Type: string (nullable = true)\n",
            " |-- Unit sequence in call dispatch: integer (nullable = true)\n",
            " |-- Fire Prevention District: string (nullable = true)\n",
            " |-- Supervisor District: string (nullable = true)\n",
            " |-- Neighborhooods - Analysis Boundaries: string (nullable = true)\n",
            " |-- Location: string (nullable = true)\n",
            " |-- RowID: string (nullable = true)\n",
            " |-- Supervisor Districts: integer (nullable = true)\n",
            " |-- Fire Prevention Districts: integer (nullable = true)\n",
            " |-- Current Police Districts: integer (nullable = true)\n",
            " |-- Neighborhoods - Analysis Boundaries: integer (nullable = true)\n",
            " |-- Zip Codes: integer (nullable = true)\n",
            " |-- Neighborhoods (old): integer (nullable = true)\n",
            " |-- Police Districts: integer (nullable = true)\n",
            " |-- Civic Center Harm Reduction Project Boundary: integer (nullable = true)\n",
            " |-- HSOC Zones: integer (nullable = true)\n",
            " |-- Central Market/Tenderloin Boundary Polygon - Updated: integer (nullable = true)\n",
            "\n"
          ],
          "name": "stdout"
        }
      ]
    },
    {
      "cell_type": "code",
      "metadata": {
        "id": "BxXpbjKwOzjl",
        "colab_type": "code",
        "colab": {}
      },
      "source": [
        "# Note that we are removing all space characters from the col names to prevent errors when writing to Parquet later\n",
        "\n",
        "fireSchema = StructType([StructField('CallNumber', IntegerType(), True),\n",
        "                     StructField('UnitID', StringType(), True),\n",
        "                     StructField('IncidentNumber', IntegerType(), True),\n",
        "                     StructField('CallType', StringType(), True),                  \n",
        "                     StructField('CallDate', StringType(), True),       \n",
        "                     StructField('WatchDate', StringType(), True),       \n",
        "                     StructField('ReceivedDtTm', StringType(), True),       \n",
        "                     StructField('EntryDtTm', StringType(), True),       \n",
        "                     StructField('DispatchDtTm', StringType(), True),       \n",
        "                     StructField('ResponseDtTm', StringType(), True),       \n",
        "                     StructField('OnSceneDtTm', StringType(), True),       \n",
        "                     StructField('TransportDtTm', StringType(), True),                  \n",
        "                     StructField('HospitalDtTm', StringType(), True),       \n",
        "                     StructField('CallFinalDisposition', StringType(), True),       \n",
        "                     StructField('AvailableDtTm', StringType(), True),       \n",
        "                     StructField('Address', StringType(), True),       \n",
        "                     StructField('City', StringType(), True),       \n",
        "                     StructField('ZipcodeofIncident', IntegerType(), True),       \n",
        "                     StructField('Battalion', StringType(), True),                 \n",
        "                     StructField('StationArea', StringType(), True),       \n",
        "                     StructField('Box', StringType(), True),       \n",
        "                     StructField('OriginalPriority', StringType(), True),       \n",
        "                     StructField('Priority', StringType(), True),       \n",
        "                     StructField('FinalPriority', IntegerType(), True),       \n",
        "                     StructField('ALSUnit', BooleanType(), True),       \n",
        "                     StructField('CallTypeGroup', StringType(), True),\n",
        "                     StructField('NumberofAlarms', IntegerType(), True),\n",
        "                     StructField('UnitType', StringType(), True),\n",
        "                     StructField('Unitsequenceincalldispatch', IntegerType(), True),\n",
        "                     StructField('FirePreventionDistrict', StringType(), True),\n",
        "                     StructField('SupervisorDistrict', StringType(), True),\n",
        "                     StructField('NeighborhoodDistrict', StringType(), True),\n",
        "                     StructField('Location', StringType(), True),\n",
        "                     StructField('RowID', StringType(), True)])"
      ],
      "execution_count": null,
      "outputs": []
    },
    {
      "cell_type": "code",
      "metadata": {
        "id": "ZIsOJIzBzSC-",
        "colab_type": "code",
        "colab": {
          "base_uri": "https://localhost:8080/",
          "height": 224
        },
        "outputId": "b8bc8201-125b-403f-c107-010d3f26ee02"
      },
      "source": [
        "fireServiceCallsDF_sch = spark.read.csv('/content/sample_data/Fire_Department_Calls_for_Service.csv', header=True, schema=fireSchema)\n",
        "#fireServiceCallsDF_sch.printSchema()\n",
        "fireServiceCallsDF_sch.show(5)"
      ],
      "execution_count": null,
      "outputs": [
        {
          "output_type": "stream",
          "text": [
            "+----------+------+--------------+-----------------+----------+----------+--------------------+--------------------+--------------------+--------------------+--------------------+--------------------+--------------------+--------------------+--------------------+--------------------+-------------+-----------------+---------+-----------+----+----------------+--------+-------------+-------+--------------------+--------------+--------+--------------------------+----------------------+------------------+--------------------+--------------------+--------------+\n",
            "|CallNumber|UnitID|IncidentNumber|         CallType|  CallDate| WatchDate|        ReceivedDtTm|           EntryDtTm|        DispatchDtTm|        ResponseDtTm|         OnSceneDtTm|       TransportDtTm|        HospitalDtTm|CallFinalDisposition|       AvailableDtTm|             Address|         City|ZipcodeofIncident|Battalion|StationArea| Box|OriginalPriority|Priority|FinalPriority|ALSUnit|       CallTypeGroup|NumberofAlarms|UnitType|Unitsequenceincalldispatch|FirePreventionDistrict|SupervisorDistrict|NeighborhoodDistrict|            Location|         RowID|\n",
            "+----------+------+--------------+-----------------+----------+----------+--------------------+--------------------+--------------------+--------------------+--------------------+--------------------+--------------------+--------------------+--------------------+--------------------+-------------+-----------------+---------+-----------+----+----------------+--------+-------------+-------+--------------------+--------------+--------+--------------------------+----------------------+------------------+--------------------+--------------------+--------------+\n",
            "| 201100018|    67|      20046355| Medical Incident|04/19/2020|04/18/2020|04/19/2020 12:10:...|04/19/2020 12:10:...|04/19/2020 12:11:...|04/19/2020 12:11:...|04/19/2020 12:27:...|04/19/2020 12:40:...|04/19/2020 12:45:...|    Code 2 Transport|04/19/2020 01:12:...|300 Block of EDDY ST|San Francisco|            94102|      B02|         03|1540|               C|       2|            2|   true|Non Life-threatening|             1|   MEDIC|                         1|                     2|                 6|          Tenderloin|(37.7838344374141...|  201100018-67|\n",
            "| 201100034|    86|      20046357| Medical Incident|04/19/2020|04/18/2020|04/19/2020 12:18:...|04/19/2020 12:19:...|04/19/2020 12:20:...|04/19/2020 12:20:...|04/19/2020 12:24:...|04/19/2020 01:20:...|04/19/2020 01:32:...|    Code 2 Transport|04/19/2020 02:02:...|700 Block of EDDY ST|San Francisco|            94102|      B02|         03|3163|               3|       3|            3|   true|Non Life-threatening|             1|   MEDIC|                         1|                     2|                 6|          Tenderloin|(37.7829435235820...|  201100034-86|\n",
            "| 201100034|  QRV1|      20046357| Medical Incident|04/19/2020|04/18/2020|04/19/2020 12:18:...|04/19/2020 12:19:...|04/19/2020 12:20:...|04/19/2020 12:20:...|04/19/2020 12:24:...|                null|                null|    Code 2 Transport|04/19/2020 12:34:...|700 Block of EDDY ST|San Francisco|            94102|      B02|         03|3163|               3|       3|            3|   true|Non Life-threatening|             1| SUPPORT|                         2|                     2|                 6|          Tenderloin|(37.7829435235820...|201100034-QRV1|\n",
            "| 201100053|   E19|      20046358|Traffic Collision|04/19/2020|04/18/2020|04/19/2020 12:24:...|04/19/2020 12:29:...|04/19/2020 12:29:...|04/19/2020 12:31:...|04/19/2020 12:35:...|                null|                null|    Code 2 Transport|04/19/2020 12:46:...|500 Block of JUNI...|San Francisco|            94127|      B09|         19|8451|               3|       3|            3|   true|Non Life-threatening|             1|  ENGINE|                         1|                     9|                 7|  West of Twin Peaks|(37.7278050418903...| 201100053-E19|\n",
            "| 201100053|  KM07|      20046358|Traffic Collision|04/19/2020|04/18/2020|04/19/2020 12:24:...|04/19/2020 12:29:...|04/19/2020 12:29:...|04/19/2020 12:30:...|04/19/2020 12:36:...|04/19/2020 12:58:...|04/19/2020 01:22:...|    Code 2 Transport|04/19/2020 01:48:...|500 Block of JUNI...|San Francisco|            94127|      B09|         19|8451|               3|       3|            3|  false|Non Life-threatening|             1| PRIVATE|                         2|                     9|                 7|  West of Twin Peaks|(37.7278050418903...|201100053-KM07|\n",
            "+----------+------+--------------+-----------------+----------+----------+--------------------+--------------------+--------------------+--------------------+--------------------+--------------------+--------------------+--------------------+--------------------+--------------------+-------------+-----------------+---------+-----------+----+----------------+--------+-------------+-------+--------------------+--------------+--------+--------------------------+----------------------+------------------+--------------------+--------------------+--------------+\n",
            "only showing top 5 rows\n",
            "\n"
          ],
          "name": "stdout"
        }
      ]
    },
    {
      "cell_type": "code",
      "metadata": {
        "id": "H4Egen6wYEM1",
        "colab_type": "code",
        "colab": {
          "base_uri": "https://localhost:8080/",
          "height": 34
        },
        "outputId": "b46e4837-5b64-41fb-ccdd-a320fd698399"
      },
      "source": [
        "fireServiceCallsDF.count()"
      ],
      "execution_count": null,
      "outputs": [
        {
          "output_type": "execute_result",
          "data": {
            "text/plain": [
              "4999"
            ]
          },
          "metadata": {
            "tags": []
          },
          "execution_count": 119
        }
      ]
    },
    {
      "cell_type": "code",
      "metadata": {
        "id": "uXz4rNkuDYVP",
        "colab_type": "code",
        "colab": {
          "base_uri": "https://localhost:8080/",
          "height": 442
        },
        "outputId": "5687a578-4a71-439a-c0ac-6daa37327522"
      },
      "source": [
        "fireServiceCallsDF_sch.select('CallType').distinct().show(1000,False)"
      ],
      "execution_count": null,
      "outputs": [
        {
          "output_type": "stream",
          "text": [
            "+--------------------------------------------+\n",
            "|CallType                                    |\n",
            "+--------------------------------------------+\n",
            "|Elevator / Escalator Rescue                 |\n",
            "|Alarms                                      |\n",
            "|Odor (Strange / Unknown)                    |\n",
            "|Citizen Assist / Service Call               |\n",
            "|HazMat                                      |\n",
            "|Explosion                                   |\n",
            "|Vehicle Fire                                |\n",
            "|Extrication / Entrapped (Machinery, Vehicle)|\n",
            "|Other                                       |\n",
            "|Outside Fire                                |\n",
            "|Traffic Collision                           |\n",
            "|Gas Leak (Natural and LP Gases)             |\n",
            "|Water Rescue                                |\n",
            "|Electrical Hazard                           |\n",
            "|High Angle Rescue                           |\n",
            "|Structure Fire                              |\n",
            "|Industrial Accidents                        |\n",
            "|Medical Incident                            |\n",
            "|Fuel Spill                                  |\n",
            "|Smoke Investigation (Outside)               |\n",
            "+--------------------------------------------+\n",
            "\n"
          ],
          "name": "stdout"
        }
      ]
    },
    {
      "cell_type": "code",
      "metadata": {
        "id": "CzvdbphEEMdB",
        "colab_type": "code",
        "colab": {
          "base_uri": "https://localhost:8080/",
          "height": 34
        },
        "outputId": "8acc9ca7-d165-48a4-d594-1eec9710741f"
      },
      "source": [
        "fireServiceCallsDF_sch.createOrReplaceTempView(\"firecalls\")\n",
        "spark.sql(\"SELECT COUNT(*) FROM firecalls\").show()"
      ],
      "execution_count": null,
      "outputs": [
        {
          "output_type": "execute_result",
          "data": {
            "text/plain": [
              "DataFrame[count(1): bigint]"
            ]
          },
          "metadata": {
            "tags": []
          },
          "execution_count": 128
        }
      ]
    },
    {
      "cell_type": "code",
      "metadata": {
        "id": "JZlet09pEVVO",
        "colab_type": "code",
        "colab": {
          "base_uri": "https://localhost:8080/",
          "height": 224
        },
        "outputId": "8d859f7f-0493-41df-b24e-e452e9725089"
      },
      "source": [
        "spark.sql(\"SELECT * FROM firecalls where \\\n",
        "CallDate = '04/19/2020'and IncidentNumber >20046358 \").show(5)"
      ],
      "execution_count": null,
      "outputs": [
        {
          "output_type": "stream",
          "text": [
            "+----------+------+--------------+----------------+----------+----------+--------------------+--------------------+--------------------+--------------------+--------------------+--------------------+--------------------+--------------------+--------------------+--------------------+-------------+-----------------+---------+-----------+----+----------------+--------+-------------+-------+--------------------+--------------+--------+--------------------------+----------------------+------------------+--------------------+--------------------+-------------+\n",
            "|CallNumber|UnitID|IncidentNumber|        CallType|  CallDate| WatchDate|        ReceivedDtTm|           EntryDtTm|        DispatchDtTm|        ResponseDtTm|         OnSceneDtTm|       TransportDtTm|        HospitalDtTm|CallFinalDisposition|       AvailableDtTm|             Address|         City|ZipcodeofIncident|Battalion|StationArea| Box|OriginalPriority|Priority|FinalPriority|ALSUnit|       CallTypeGroup|NumberofAlarms|UnitType|Unitsequenceincalldispatch|FirePreventionDistrict|SupervisorDistrict|NeighborhoodDistrict|            Location|        RowID|\n",
            "+----------+------+--------------+----------------+----------+----------+--------------------+--------------------+--------------------+--------------------+--------------------+--------------------+--------------------+--------------------+--------------------+--------------------+-------------+-----------------+---------+-----------+----+----------------+--------+-------------+-------+--------------------+--------------+--------+--------------------------+----------------------+------------------+--------------------+--------------------+-------------+\n",
            "| 201100065|    66|      20046359|Medical Incident|04/19/2020|04/18/2020|04/19/2020 12:34:...|04/19/2020 12:35:...|04/19/2020 12:35:...|04/19/2020 12:36:...|04/19/2020 12:41:...|04/19/2020 12:53:...|04/19/2020 01:02:...|    Code 2 Transport|04/19/2020 01:50:...|3000 Block of 16T...|San Francisco|            94103|      B02|         07|5236|               3|       3|            3|   true|Potentially Life-...|             1|   MEDIC|                         2|                     2|                 9|             Mission|(37.7650413541786...| 201100065-66|\n",
            "| 201100065|   E07|      20046359|Medical Incident|04/19/2020|04/18/2020|04/19/2020 12:34:...|04/19/2020 12:35:...|04/19/2020 12:35:...|04/19/2020 12:37:...|04/19/2020 12:40:...|                null|                null|    Code 2 Transport|04/19/2020 12:43:...|3000 Block of 16T...|San Francisco|            94103|      B02|         07|5236|               3|       3|            3|   true|Potentially Life-...|             1|  ENGINE|                         1|                     2|                 9|             Mission|(37.7650413541786...|201100065-E07|\n",
            "| 201100066|    87|      20046360|Medical Incident|04/19/2020|04/18/2020|04/19/2020 12:33:...|04/19/2020 12:35:...|04/19/2020 12:36:...|04/19/2020 12:37:...|04/19/2020 12:50:...|04/19/2020 01:03:...|04/19/2020 01:07:...|    Code 2 Transport|04/19/2020 01:40:...|1300 Block of ELL...|San Francisco|            94115|      B02|         05|3431|               2|       2|            2|   true|Non Life-threatening|             1|   MEDIC|                         1|                     2|                 5|    Western Addition|(37.7826339083037...| 201100066-87|\n",
            "| 201100068|    76|      20046361|Medical Incident|04/19/2020|04/18/2020|04/19/2020 12:32:...|04/19/2020 12:36:...|04/19/2020 12:37:...|04/19/2020 12:38:...|04/19/2020 12:56:...|04/19/2020 01:21:...|04/19/2020 01:21:...|    Code 2 Transport|04/19/2020 01:31:...|1100 Block of VAN...|San Francisco|            94109|      B04|         03|3161|               2|       2|            2|   true|Non Life-threatening|             1|   MEDIC|                         1|                     4|                 5|    Western Addition|(37.7861331281251...| 201100068-76|\n",
            "| 201100117|    54|      20046362|Medical Incident|04/19/2020|04/18/2020|04/19/2020 01:00:...|04/19/2020 01:01:...|04/19/2020 01:02:...|04/19/2020 01:02:...|                null|                null|                null|    Code 2 Transport|04/19/2020 01:03:...|1500 Block of LOM...|San Francisco|            94123|      B04|         16|3244|               2|       2|            2|   true|Potentially Life-...|             1|   MEDIC|                         2|                     4|                 2|              Marina|(37.8008746923358...| 201100117-54|\n",
            "+----------+------+--------------+----------------+----------+----------+--------------------+--------------------+--------------------+--------------------+--------------------+--------------------+--------------------+--------------------+--------------------+--------------------+-------------+-----------------+---------+-----------+----+----------------+--------+-------------+-------+--------------------+--------------+--------+--------------------------+----------------------+------------------+--------------------+--------------------+-------------+\n",
            "only showing top 5 rows\n",
            "\n"
          ],
          "name": "stdout"
        }
      ]
    },
    {
      "cell_type": "code",
      "metadata": {
        "id": "aQ5t1uhPJKW7",
        "colab_type": "code",
        "colab": {
          "base_uri": "https://localhost:8080/",
          "height": 255
        },
        "outputId": "41c63492-9ad9-4a61-bffe-34fa39f27ef0"
      },
      "source": [
        "spark.sql(\"SELECT distinct upper(CallType) FROM firecalls where \\\n",
        "CallDate = '04/19/2020'and IncidentNumber >20046358 \").show(1000,False)"
      ],
      "execution_count": null,
      "outputs": [
        {
          "output_type": "stream",
          "text": [
            "+-------------------------------+\n",
            "|upper(CallType)                |\n",
            "+-------------------------------+\n",
            "|ALARMS                         |\n",
            "|OUTSIDE FIRE                   |\n",
            "|TRAFFIC COLLISION              |\n",
            "|GAS LEAK (NATURAL AND LP GASES)|\n",
            "|MEDICAL INCIDENT               |\n",
            "|OTHER                          |\n",
            "|STRUCTURE FIRE                 |\n",
            "|CITIZEN ASSIST / SERVICE CALL  |\n",
            "|SMOKE INVESTIGATION (OUTSIDE)  |\n",
            "+-------------------------------+\n",
            "\n"
          ],
          "name": "stdout"
        }
      ]
    },
    {
      "cell_type": "code",
      "metadata": {
        "id": "7WWacy1lFdOP",
        "colab_type": "code",
        "colab": {
          "base_uri": "https://localhost:8080/",
          "height": 204
        },
        "outputId": "58e24383-4a1b-4d76-969d-02065b7beaab"
      },
      "source": [
        "spark.sql(\"SELECT NeighborhoodDistrict, count(NeighborhoodDistrict) AS Neighborhood_Count \\\n",
        "FROM firecalls \\\n",
        "WHERE year(to_date(CallDate, 'MM/dd/yyyy')) = 2020 \\\n",
        "GROUP BY NeighborhoodDistrict \\\n",
        "ORDER BY Neighborhood_Count DESC \").show(5)"
      ],
      "execution_count": null,
      "outputs": [
        {
          "output_type": "stream",
          "text": [
            "+--------------------+------------------+\n",
            "|NeighborhoodDistrict|Neighborhood_Count|\n",
            "+--------------------+------------------+\n",
            "|          Tenderloin|                93|\n",
            "|     South of Market|                69|\n",
            "|             Mission|                63|\n",
            "|      Outer Richmond|                49|\n",
            "|Financial Distric...|                33|\n",
            "+--------------------+------------------+\n",
            "only showing top 5 rows\n",
            "\n"
          ],
          "name": "stdout"
        }
      ]
    },
    {
      "cell_type": "code",
      "metadata": {
        "id": "PiEpHcv_qR3c",
        "colab_type": "code",
        "colab": {
          "base_uri": "https://localhost:8080/",
          "height": 1000
        },
        "outputId": "fdf76ba2-f27e-4dda-819e-7478e34093f8"
      },
      "source": [
        "from pyspark.sql.functions import *\n",
        "\n",
        "# Note that PySpark uses the Java Simple Date Format patterns\n",
        "\n",
        "from_pattern1 = 'MM/dd/yyyy'\n",
        "to_pattern1 = 'yyyy-MM-dd'\n",
        "\n",
        "from_pattern2 = 'MM/dd/yyyy hh:mm:ss aa'\n",
        "to_pattern2 = 'MM/dd/yyyy hh:mm:ss aa'\n",
        "\n",
        "\n",
        "fireServiceCallsTsDF = fireServiceCallsDF \\\n",
        "  .withColumn('CallDateTS', unix_timestamp(fireServiceCallsDF['Call Date'], from_pattern1).cast(\"timestamp\")) \\\n",
        "  .drop('CallDate') \\\n",
        "  .withColumn('WatchDateTS', unix_timestamp(fireServiceCallsDF['Watch Date'], from_pattern1).cast(\"timestamp\")) \\\n",
        "  .drop('WatchDate') \\\n",
        "  .withColumn('ReceivedDtTmTS', unix_timestamp(fireServiceCallsDF['Received DtTm'], from_pattern2).cast(\"timestamp\")) \\\n",
        "  .drop('ReceivedDtTm')\n",
        "\n",
        "\n",
        "fireServiceCallsTsDF.printSchema()\n",
        "fireServiceCallsTsDF.show(5)"
      ],
      "execution_count": null,
      "outputs": [
        {
          "output_type": "stream",
          "text": [
            "root\n",
            " |-- Call Number: integer (nullable = true)\n",
            " |-- Unit ID: string (nullable = true)\n",
            " |-- Incident Number: integer (nullable = true)\n",
            " |-- Call Type: string (nullable = true)\n",
            " |-- Call Date: string (nullable = true)\n",
            " |-- Watch Date: string (nullable = true)\n",
            " |-- Received DtTm: string (nullable = true)\n",
            " |-- Entry DtTm: string (nullable = true)\n",
            " |-- Dispatch DtTm: string (nullable = true)\n",
            " |-- Response DtTm: string (nullable = true)\n",
            " |-- On Scene DtTm: string (nullable = true)\n",
            " |-- Transport DtTm: string (nullable = true)\n",
            " |-- Hospital DtTm: string (nullable = true)\n",
            " |-- Call Final Disposition: string (nullable = true)\n",
            " |-- Available DtTm: string (nullable = true)\n",
            " |-- Address: string (nullable = true)\n",
            " |-- City: string (nullable = true)\n",
            " |-- Zipcode of Incident: integer (nullable = true)\n",
            " |-- Battalion: string (nullable = true)\n",
            " |-- Station Area: integer (nullable = true)\n",
            " |-- Box: integer (nullable = true)\n",
            " |-- Original Priority: string (nullable = true)\n",
            " |-- Priority: string (nullable = true)\n",
            " |-- Final Priority: integer (nullable = true)\n",
            " |-- ALS Unit: boolean (nullable = true)\n",
            " |-- Call Type Group: string (nullable = true)\n",
            " |-- Number of Alarms: integer (nullable = true)\n",
            " |-- Unit Type: string (nullable = true)\n",
            " |-- Unit sequence in call dispatch: integer (nullable = true)\n",
            " |-- Fire Prevention District: string (nullable = true)\n",
            " |-- Supervisor District: string (nullable = true)\n",
            " |-- Neighborhooods - Analysis Boundaries: string (nullable = true)\n",
            " |-- Location: string (nullable = true)\n",
            " |-- RowID: string (nullable = true)\n",
            " |-- Supervisor Districts: integer (nullable = true)\n",
            " |-- Fire Prevention Districts: integer (nullable = true)\n",
            " |-- Current Police Districts: integer (nullable = true)\n",
            " |-- Neighborhoods - Analysis Boundaries: integer (nullable = true)\n",
            " |-- Zip Codes: integer (nullable = true)\n",
            " |-- Neighborhoods (old): integer (nullable = true)\n",
            " |-- Police Districts: integer (nullable = true)\n",
            " |-- Civic Center Harm Reduction Project Boundary: integer (nullable = true)\n",
            " |-- HSOC Zones: integer (nullable = true)\n",
            " |-- Central Market/Tenderloin Boundary Polygon - Updated: integer (nullable = true)\n",
            " |-- CallDateTS: timestamp (nullable = true)\n",
            " |-- WatchDateTS: timestamp (nullable = true)\n",
            " |-- ReceivedDtTmTS: timestamp (nullable = true)\n",
            "\n",
            "+-----------+-------+---------------+-----------------+----------+----------+--------------------+--------------------+--------------------+--------------------+--------------------+--------------------+--------------------+----------------------+--------------------+--------------------+-------------+-------------------+---------+------------+----+-----------------+--------+--------------+--------+--------------------+----------------+---------+------------------------------+------------------------+-------------------+------------------------------------+--------------------+--------------+--------------------+-------------------------+------------------------+-----------------------------------+---------+-------------------+----------------+--------------------------------------------+----------+----------------------------------------------------+-------------------+-------------------+-------------------+\n",
            "|Call Number|Unit ID|Incident Number|        Call Type| Call Date|Watch Date|       Received DtTm|          Entry DtTm|       Dispatch DtTm|       Response DtTm|       On Scene DtTm|      Transport DtTm|       Hospital DtTm|Call Final Disposition|      Available DtTm|             Address|         City|Zipcode of Incident|Battalion|Station Area| Box|Original Priority|Priority|Final Priority|ALS Unit|     Call Type Group|Number of Alarms|Unit Type|Unit sequence in call dispatch|Fire Prevention District|Supervisor District|Neighborhooods - Analysis Boundaries|            Location|         RowID|Supervisor Districts|Fire Prevention Districts|Current Police Districts|Neighborhoods - Analysis Boundaries|Zip Codes|Neighborhoods (old)|Police Districts|Civic Center Harm Reduction Project Boundary|HSOC Zones|Central Market/Tenderloin Boundary Polygon - Updated|         CallDateTS|        WatchDateTS|     ReceivedDtTmTS|\n",
            "+-----------+-------+---------------+-----------------+----------+----------+--------------------+--------------------+--------------------+--------------------+--------------------+--------------------+--------------------+----------------------+--------------------+--------------------+-------------+-------------------+---------+------------+----+-----------------+--------+--------------+--------+--------------------+----------------+---------+------------------------------+------------------------+-------------------+------------------------------------+--------------------+--------------+--------------------+-------------------------+------------------------+-----------------------------------+---------+-------------------+----------------+--------------------------------------------+----------+----------------------------------------------------+-------------------+-------------------+-------------------+\n",
            "|  201100018|     67|       20046355| Medical Incident|04/19/2020|04/18/2020|04/19/2020 12:10:...|04/19/2020 12:10:...|04/19/2020 12:11:...|04/19/2020 12:11:...|04/19/2020 12:27:...|04/19/2020 12:40:...|04/19/2020 12:45:...|      Code 2 Transport|04/19/2020 01:12:...|300 Block of EDDY ST|San Francisco|              94102|      B02|           3|1540|                C|       2|             2|    true|Non Life-threatening|               1|    MEDIC|                             1|                       2|                  6|                          Tenderloin|(37.7838344374141...|  201100018-67|                   9|                        7|                      10|                                 36|    28852|                 36|              10|                                           1|      null|                                                   1|2020-04-19 00:00:00|2020-04-18 00:00:00|2020-04-19 00:10:45|\n",
            "|  201100034|     86|       20046357| Medical Incident|04/19/2020|04/18/2020|04/19/2020 12:18:...|04/19/2020 12:19:...|04/19/2020 12:20:...|04/19/2020 12:20:...|04/19/2020 12:24:...|04/19/2020 01:20:...|04/19/2020 01:32:...|      Code 2 Transport|04/19/2020 02:02:...|700 Block of EDDY ST|San Francisco|              94102|      B02|           3|3163|                3|       3|             3|    true|Non Life-threatening|               1|    MEDIC|                             1|                       2|                  6|                          Tenderloin|(37.7829435235820...|  201100034-86|                   9|                        7|                       6|                                 36|    28852|                 36|               9|                                           1|      null|                                                   1|2020-04-19 00:00:00|2020-04-18 00:00:00|2020-04-19 00:18:37|\n",
            "|  201100034|   QRV1|       20046357| Medical Incident|04/19/2020|04/18/2020|04/19/2020 12:18:...|04/19/2020 12:19:...|04/19/2020 12:20:...|04/19/2020 12:20:...|04/19/2020 12:24:...|                null|                null|      Code 2 Transport|04/19/2020 12:34:...|700 Block of EDDY ST|San Francisco|              94102|      B02|           3|3163|                3|       3|             3|    true|Non Life-threatening|               1|  SUPPORT|                             2|                       2|                  6|                          Tenderloin|(37.7829435235820...|201100034-QRV1|                   9|                        7|                       6|                                 36|    28852|                 36|               9|                                           1|      null|                                                   1|2020-04-19 00:00:00|2020-04-18 00:00:00|2020-04-19 00:18:37|\n",
            "|  201100053|    E19|       20046358|Traffic Collision|04/19/2020|04/18/2020|04/19/2020 12:24:...|04/19/2020 12:29:...|04/19/2020 12:29:...|04/19/2020 12:31:...|04/19/2020 12:35:...|                null|                null|      Code 2 Transport|04/19/2020 12:46:...|500 Block of JUNI...|San Francisco|              94127|      B09|          19|8451|                3|       3|             3|    true|Non Life-threatening|               1|   ENGINE|                             1|                       9|                  7|                  West of Twin Peaks|(37.7278050418903...| 201100053-E19|                   4|                        9|                       5|                                 41|       64|                 40|               8|                                        null|      null|                                                null|2020-04-19 00:00:00|2020-04-18 00:00:00|2020-04-19 00:24:45|\n",
            "|  201100053|   KM07|       20046358|Traffic Collision|04/19/2020|04/18/2020|04/19/2020 12:24:...|04/19/2020 12:29:...|04/19/2020 12:29:...|04/19/2020 12:30:...|04/19/2020 12:36:...|04/19/2020 12:58:...|04/19/2020 01:22:...|      Code 2 Transport|04/19/2020 01:48:...|500 Block of JUNI...|San Francisco|              94127|      B09|          19|8451|                3|       3|             3|   false|Non Life-threatening|               1|  PRIVATE|                             2|                       9|                  7|                  West of Twin Peaks|(37.7278050418903...|201100053-KM07|                   4|                        9|                       5|                                 41|       64|                 40|               8|                                        null|      null|                                                null|2020-04-19 00:00:00|2020-04-18 00:00:00|2020-04-19 00:24:45|\n",
            "+-----------+-------+---------------+-----------------+----------+----------+--------------------+--------------------+--------------------+--------------------+--------------------+--------------------+--------------------+----------------------+--------------------+--------------------+-------------+-------------------+---------+------------+----+-----------------+--------+--------------+--------+--------------------+----------------+---------+------------------------------+------------------------+-------------------+------------------------------------+--------------------+--------------+--------------------+-------------------------+------------------------+-----------------------------------+---------+-------------------+----------------+--------------------------------------------+----------+----------------------------------------------------+-------------------+-------------------+-------------------+\n",
            "only showing top 5 rows\n",
            "\n"
          ],
          "name": "stdout"
        }
      ]
    }
  ]
}