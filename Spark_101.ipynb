{
  "nbformat": 4,
  "nbformat_minor": 0,
  "metadata": {
    "colab": {
      "name": "Spark_101.ipynb",
      "provenance": [],
      "toc_visible": true,
      "mount_file_id": "1pyZxLcvgjKs45Nez-scJCXpS51JmcHHt",
      "authorship_tag": "ABX9TyPEkx6rGLdmzxzkf3kUZ0uN",
      "include_colab_link": true
    },
    "kernelspec": {
      "name": "python3",
      "display_name": "Python 3"
    }
  },
  "cells": [
    {
      "cell_type": "markdown",
      "metadata": {
        "id": "view-in-github",
        "colab_type": "text"
      },
      "source": [
        "<a href=\"https://colab.research.google.com/github/samarthk/Learning_pyspark/blob/master/Spark_101.ipynb\" target=\"_parent\"><img src=\"https://colab.research.google.com/assets/colab-badge.svg\" alt=\"Open In Colab\"/></a>"
      ]
    },
    {
      "cell_type": "markdown",
      "metadata": {
        "id": "Xt8tgg_1wBKA",
        "colab_type": "text"
      },
      "source": [
        "# Install Java, Spark, and Findspark\n",
        "This installs Apache Spark 2.3.1, Java 8, and [Findspark](https://github.com/minrk/findspark), a library that makes it easy for Python to find Spark."
      ]
    },
    {
      "cell_type": "code",
      "metadata": {
        "id": "AQXZkWnov1aC",
        "colab_type": "code",
        "colab": {
          "base_uri": "https://localhost:8080/",
          "height": 221
        },
        "outputId": "5aacb9ea-0c28-4fb8-fab7-d7cdf4be1a01"
      },
      "source": [
        "!apt-get install openjdk-8-jdk-headless -qq > /dev/null\n",
        "!wget https://archive.apache.org/dist/spark/spark-2.4.1/spark-2.4.1-bin-hadoop2.7.tgz\n",
        "!tar xf spark-2.4.1-bin-hadoop2.7.tgz\n",
        "!pip install -q findspark\n"
      ],
      "execution_count": 1,
      "outputs": [
        {
          "output_type": "stream",
          "text": [
            "--2020-06-14 12:14:13--  https://archive.apache.org/dist/spark/spark-2.4.1/spark-2.4.1-bin-hadoop2.7.tgz\n",
            "Resolving archive.apache.org (archive.apache.org)... 138.201.131.134, 2a01:4f8:172:2ec5::2\n",
            "Connecting to archive.apache.org (archive.apache.org)|138.201.131.134|:443... connected.\n",
            "HTTP request sent, awaiting response... 200 OK\n",
            "Length: 230778742 (220M) [application/x-gzip]\n",
            "Saving to: ‘spark-2.4.1-bin-hadoop2.7.tgz’\n",
            "\n",
            "spark-2.4.1-bin-had 100%[===================>] 220.09M  23.4MB/s    in 11s     \n",
            "\n",
            "2020-06-14 12:14:24 (20.3 MB/s) - ‘spark-2.4.1-bin-hadoop2.7.tgz’ saved [230778742/230778742]\n",
            "\n",
            "sample_data  spark-2.4.1-bin-hadoop2.7\tspark-2.4.1-bin-hadoop2.7.tgz\n"
          ],
          "name": "stdout"
        }
      ]
    },
    {
      "cell_type": "markdown",
      "metadata": {
        "id": "TJX5_5BgwXQT",
        "colab_type": "text"
      },
      "source": [
        "# Set Environment Variables\n",
        "Set the locations where Spark and Java are installed."
      ]
    },
    {
      "cell_type": "code",
      "metadata": {
        "id": "oOnW0ZNMwbiJ",
        "colab_type": "code",
        "colab": {}
      },
      "source": [
        "import os\n",
        "os.environ[\"JAVA_HOME\"] = \"/usr/lib/jvm/java-8-openjdk-amd64\"\n",
        "os.environ[\"SPARK_HOME\"] = \"/content/spark-2.4.1-bin-hadoop2.7\""
      ],
      "execution_count": 0,
      "outputs": []
    },
    {
      "cell_type": "markdown",
      "metadata": {
        "id": "KlBYxETTwe73",
        "colab_type": "text"
      },
      "source": [
        "# Start a SparkSession\n",
        "This will start a local Spark session."
      ]
    },
    {
      "cell_type": "code",
      "metadata": {
        "id": "Fli_4ucj9gLa",
        "colab_type": "code",
        "colab": {}
      },
      "source": [
        "# Run a local spark session to test our installation:\n",
        "import findspark\n",
        "findspark.init()\n",
        "from pyspark.sql import SparkSession\n",
        "spark = SparkSession.builder.master(\"local[*]\").getOrCreate()"
      ],
      "execution_count": 0,
      "outputs": []
    },
    {
      "cell_type": "code",
      "metadata": {
        "id": "PKo12Y9rwfx3",
        "colab_type": "code",
        "colab": {}
      },
      "source": [
        "import findspark\n",
        "findspark.init()\n",
        "\n",
        "from pyspark import SparkContext\n",
        "from pyspark import SparkConf\n",
        "from pyspark.sql import SQLContext\n",
        "\n",
        "conf = SparkConf().setMaster(\"local[*]\").setAppName('pyspark')\n",
        "sc = SparkContext(conf=conf)\n",
        "sqc = SQLContext(sc)"
      ],
      "execution_count": 0,
      "outputs": []
    },
    {
      "cell_type": "markdown",
      "metadata": {
        "id": "3qfh3bPzxPdQ",
        "colab_type": "text"
      },
      "source": [
        "# Use Spark!\n",
        "That's all there is to it - you're ready to use Spark!"
      ]
    },
    {
      "cell_type": "markdown",
      "metadata": {
        "id": "SCpcQuU3x_MJ",
        "colab_type": "text"
      },
      "source": [
        "# Programming Ex\n"
      ]
    },
    {
      "cell_type": "markdown",
      "metadata": {
        "id": "vnvLcGlm08m-",
        "colab_type": "text"
      },
      "source": [
        "Download File"
      ]
    },
    {
      "cell_type": "code",
      "metadata": {
        "id": "VPUyVNyr0JQz",
        "colab_type": "code",
        "colab": {}
      },
      "source": [
        "!wget https://data.sfgov.org/api/views/wr8u-xric/rows.csv"
      ],
      "execution_count": 0,
      "outputs": []
    },
    {
      "cell_type": "code",
      "metadata": {
        "id": "Qee07QKn1QRJ",
        "colab_type": "code",
        "colab": {
          "base_uri": "https://localhost:8080/",
          "height": 187
        },
        "outputId": "1ec8732e-6e7a-4b36-9969-aef116989792"
      },
      "source": [
        "!ls -ltr /content/sample_data/\n",
        "\n",
        "#!head -10000 /content/drive/My\\ Drive/Data_Files/Fire_Department_Calls_for_Service_FULL.csv > Fire_Department_Calls_for_Service.csv\n"
      ],
      "execution_count": 41,
      "outputs": [
        {
          "output_type": "stream",
          "text": [
            "total 63512\n",
            "-rwxr-xr-x 1 root root      930 Jan  1  2000 README.md\n",
            "-rwxr-xr-x 1 root root     1697 Jan  1  2000 anscombe.json\n",
            "-rw-r--r-- 1 root root  1706430 Jun 10 16:28 california_housing_train.csv\n",
            "-rw-r--r-- 1 root root   301141 Jun 10 16:28 california_housing_test.csv\n",
            "-rw-r--r-- 1 root root 36523880 Jun 10 16:28 mnist_train_small.csv\n",
            "-rw-r--r-- 1 root root 18289443 Jun 10 16:28 mnist_test.csv\n",
            "-rw-r--r-- 1 root root     7640 Jun 14 12:17 movies_dataset.csv\n",
            "-rw-r--r-- 1 root root  3997368 Jun 14 13:03 Fire_Incidents.csv\n",
            "-rw-r--r-- 1 root root  4191435 Jun 14 13:04 Fire_Department_Calls_for_Service.csv\n"
          ],
          "name": "stdout"
        }
      ]
    },
    {
      "cell_type": "markdown",
      "metadata": {
        "id": "bXtvviVx7_A9",
        "colab_type": "text"
      },
      "source": [
        "## San Francisco Fire Incidents (Meetup)"
      ]
    },
    {
      "cell_type": "code",
      "metadata": {
        "id": "hjwZZ_Gk8C_y",
        "colab_type": "code",
        "colab": {}
      },
      "source": [
        "fireServiceCallsDF = spark.read.csv('/content/sample_data/Fire_Department_Calls_for_Service.csv', header=True, inferSchema=True)"
      ],
      "execution_count": 0,
      "outputs": []
    },
    {
      "cell_type": "code",
      "metadata": {
        "id": "qfDuG0Mh-EP6",
        "colab_type": "code",
        "colab": {
          "base_uri": "https://localhost:8080/",
          "height": 799
        },
        "outputId": "897da7ea-3e35-458c-fb67-9fe82436acee"
      },
      "source": [
        "fireServiceCallsDF.printSchema()"
      ],
      "execution_count": 47,
      "outputs": [
        {
          "output_type": "stream",
          "text": [
            "root\n",
            " |-- Call Number: integer (nullable = true)\n",
            " |-- Unit ID: string (nullable = true)\n",
            " |-- Incident Number: integer (nullable = true)\n",
            " |-- Call Type: string (nullable = true)\n",
            " |-- Call Date: string (nullable = true)\n",
            " |-- Watch Date: string (nullable = true)\n",
            " |-- Received DtTm: string (nullable = true)\n",
            " |-- Entry DtTm: string (nullable = true)\n",
            " |-- Dispatch DtTm: string (nullable = true)\n",
            " |-- Response DtTm: string (nullable = true)\n",
            " |-- On Scene DtTm: string (nullable = true)\n",
            " |-- Transport DtTm: string (nullable = true)\n",
            " |-- Hospital DtTm: string (nullable = true)\n",
            " |-- Call Final Disposition: string (nullable = true)\n",
            " |-- Available DtTm: string (nullable = true)\n",
            " |-- Address: string (nullable = true)\n",
            " |-- City: string (nullable = true)\n",
            " |-- Zipcode of Incident: integer (nullable = true)\n",
            " |-- Battalion: string (nullable = true)\n",
            " |-- Station Area: integer (nullable = true)\n",
            " |-- Box: integer (nullable = true)\n",
            " |-- Original Priority: string (nullable = true)\n",
            " |-- Priority: string (nullable = true)\n",
            " |-- Final Priority: integer (nullable = true)\n",
            " |-- ALS Unit: boolean (nullable = true)\n",
            " |-- Call Type Group: string (nullable = true)\n",
            " |-- Number of Alarms: integer (nullable = true)\n",
            " |-- Unit Type: string (nullable = true)\n",
            " |-- Unit sequence in call dispatch: integer (nullable = true)\n",
            " |-- Fire Prevention District: string (nullable = true)\n",
            " |-- Supervisor District: string (nullable = true)\n",
            " |-- Neighborhooods - Analysis Boundaries: string (nullable = true)\n",
            " |-- Location: string (nullable = true)\n",
            " |-- RowID: string (nullable = true)\n",
            " |-- Supervisor Districts: integer (nullable = true)\n",
            " |-- Fire Prevention Districts: integer (nullable = true)\n",
            " |-- Current Police Districts: integer (nullable = true)\n",
            " |-- Neighborhoods - Analysis Boundaries: integer (nullable = true)\n",
            " |-- Zip Codes: integer (nullable = true)\n",
            " |-- Neighborhoods (old): integer (nullable = true)\n",
            " |-- Police Districts: integer (nullable = true)\n",
            " |-- Civic Center Harm Reduction Project Boundary: integer (nullable = true)\n",
            " |-- HSOC Zones: integer (nullable = true)\n",
            " |-- Central Market/Tenderloin Boundary Polygon - Updated: integer (nullable = true)\n",
            "\n"
          ],
          "name": "stdout"
        }
      ]
    }
  ]
}