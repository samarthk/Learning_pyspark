{
  "nbformat": 4,
  "nbformat_minor": 0,
  "metadata": {
    "kernelspec": {
      "display_name": "Python 3",
      "language": "python",
      "name": "python3"
    },
    "language_info": {
      "codemirror_mode": {
        "name": "ipython",
        "version": 3
      },
      "file_extension": ".py",
      "mimetype": "text/x-python",
      "name": "python",
      "nbconvert_exporter": "python",
      "pygments_lexer": "ipython3",
      "version": "3.6.8"
    },
    "colab": {
      "name": "Part2-Without_Answers.ipynb",
      "provenance": [],
      "collapsed_sections": [
        "TLwIrO9dtZnz",
        "DCurUeeQtZn4",
        "H3DxeT4RtZn9",
        "kwvLBhTttZoD",
        "RbDSycFptZos",
        "AEn-Wq1btZo0",
        "8LI0Y3FWtZo_",
        "R7qg29lHtZpN"
      ],
      "include_colab_link": true
    }
  },
  "cells": [
    {
      "cell_type": "markdown",
      "metadata": {
        "id": "view-in-github",
        "colab_type": "text"
      },
      "source": [
        "<a href=\"https://colab.research.google.com/github/samarthk/Learning_pyspark/blob/master/Part2_Without_Answers.ipynb\" target=\"_parent\"><img src=\"https://colab.research.google.com/assets/colab-badge.svg\" alt=\"Open In Colab\"/></a>"
      ]
    },
    {
      "cell_type": "markdown",
      "metadata": {
        "id": "IcWJYA-9tZnd",
        "colab_type": "text"
      },
      "source": [
        "# Part 2:\n",
        "## *Working With Data* "
      ]
    },
    {
      "cell_type": "markdown",
      "metadata": {
        "id": "7n9R8OZxtZnf",
        "colab_type": "text"
      },
      "source": [
        "---\n",
        "#### Pre-amble (Run this cell and ignore it) "
      ]
    },
    {
      "cell_type": "code",
      "metadata": {
        "id": "3OKQl9SktZng",
        "colab_type": "code",
        "colab": {}
      },
      "source": [
        "import os\n",
        "import pandas as pd\n",
        "import numpy as np\n",
        "\n",
        "import matplotlib.pyplot as plt\n",
        "import seaborn as sns\n",
        "\n",
        "url = \"https://docs.google.com/spreadsheets/d/e/2PACX-1vRL6ghcQYtwg3_USPLdAHEs6axyxjfi3Dlq6uAL_CJhQm6iPRGXY2C3ilbLF84I4NM4HnUqr3tbJQ6b/pub?gid=1734137259&single=true&output=csv\"\n",
        "import requests\n",
        "import io\n",
        "s=requests.get(url).content\n",
        "df=pd.read_csv(io.StringIO(s.decode('utf-8')))\n",
        "\n",
        "df.replace(r'^\\s*$', np.nan, regex=True, inplace=True)\n",
        "df['TotalCharges'] = pd.to_numeric(df['TotalCharges'])\n",
        "df.replace('6823-SIDFQ', 'Florian-MAAS', inplace=True)\n",
        "df1 = df.iloc[:,:11]\n",
        "df2 = pd.concat([df.customerID, df.iloc[:,11:]], axis=1, sort=False)\n",
        "df3 = df[:3500] \n",
        "df4 = df[3500:]"
      ],
      "execution_count": 0,
      "outputs": []
    },
    {
      "cell_type": "markdown",
      "metadata": {
        "id": "2Aan6CNntZnk",
        "colab_type": "text"
      },
      "source": [
        "## Reading in a dataset"
      ]
    },
    {
      "cell_type": "markdown",
      "metadata": {
        "id": "gZgOZ-J-tZnl",
        "colab_type": "text"
      },
      "source": [
        "In python you can read all kinds of datasets, csv's, parquet files, excel files etc. \n",
        "\n",
        "The most common way to do this is with a multi-functional library called pandas."
      ]
    },
    {
      "cell_type": "markdown",
      "metadata": {
        "id": "YkRKGtFPtfkA",
        "colab_type": "text"
      },
      "source": [
        "![](https://miro.medium.com/max/3006/1*KdxlBR9P3mDp9JZ_URMdYQ.jpeg)"
      ]
    },
    {
      "cell_type": "markdown",
      "metadata": {
        "id": "3Z78JQGJtnfH",
        "colab_type": "text"
      },
      "source": [
        "For this training we have already imported the csv for you and called it df"
      ]
    },
    {
      "cell_type": "markdown",
      "metadata": {
        "id": "sIV719notZnx",
        "colab_type": "text"
      },
      "source": [
        "---\n",
        "# SQL Vs Python"
      ]
    },
    {
      "cell_type": "markdown",
      "metadata": {
        "id": "JUKiPMqDtZny",
        "colab_type": "text"
      },
      "source": [
        "Since a lot of the data community currently use SQL, we will see how it differs from python and how we can perform the same tasks using python! \n",
        "\n",
        "Let's go through some of the most commonly used commands in SQL and see how they can be applied in python"
      ]
    },
    {
      "cell_type": "markdown",
      "metadata": {
        "id": "TLwIrO9dtZnz",
        "colab_type": "text"
      },
      "source": [
        "---\n",
        "## FROM"
      ]
    },
    {
      "cell_type": "markdown",
      "metadata": {
        "id": "iGSSXL8ntZn0",
        "colab_type": "text"
      },
      "source": [
        "In SQL we use the FROM statement to tell the database manager which dataset we want to use. In python we usually store things in memory and can then just call them by name to select them. We read in a dataframe and called it df before so to see it we just need to call it again."
      ]
    },
    {
      "cell_type": "markdown",
      "metadata": {
        "id": "mMv6OESgtZn1",
        "colab_type": "text"
      },
      "source": [
        "SQL:\n",
        "\n",
        "    SELECT *\n",
        "  \n",
        "    FROM df"
      ]
    },
    {
      "cell_type": "code",
      "metadata": {
        "id": "ShP7xKLDtZn2",
        "colab_type": "code",
        "colab": {}
      },
      "source": [
        "df"
      ],
      "execution_count": 0,
      "outputs": []
    },
    {
      "cell_type": "markdown",
      "metadata": {
        "id": "DCurUeeQtZn4",
        "colab_type": "text"
      },
      "source": [
        "---\n",
        "## TOP / ROWNUM / LIMIT"
      ]
    },
    {
      "cell_type": "markdown",
      "metadata": {
        "id": "S2wBA0VTtZn5",
        "colab_type": "text"
      },
      "source": [
        "The most useful comparison for LIMIT or top in SQL is .head() and .tail()\n",
        "\n",
        "If we just want to take a look at a small sample of data to get an idea of whats there then we can use the head and tail functions. They give use the top or bottom n rows of a query (default n=5)"
      ]
    },
    {
      "cell_type": "markdown",
      "metadata": {
        "id": "l2b0KccOtZn5",
        "colab_type": "text"
      },
      "source": [
        "SQL:\n",
        "\n",
        "    SELECT TOP 5 *\n",
        "  \n",
        "    FROM df"
      ]
    },
    {
      "cell_type": "code",
      "metadata": {
        "id": "x29457dItZn6",
        "colab_type": "code",
        "colab": {}
      },
      "source": [
        "df.head(n=5)"
      ],
      "execution_count": 0,
      "outputs": []
    },
    {
      "cell_type": "markdown",
      "metadata": {
        "id": "H3DxeT4RtZn9",
        "colab_type": "text"
      },
      "source": [
        "---\n",
        "## SELECT"
      ]
    },
    {
      "cell_type": "markdown",
      "metadata": {
        "id": "quC2uCmftZn9",
        "colab_type": "text"
      },
      "source": [
        "In SQL the select statement is done using a comma-separated list of columns you’d like to select (or a * to select all columns)"
      ]
    },
    {
      "cell_type": "markdown",
      "metadata": {
        "id": "nT8it_f6tZn-",
        "colab_type": "text"
      },
      "source": [
        "In python, using pandas we provide first the dataset that we want for work with, and then a list of columns we want to select."
      ]
    },
    {
      "cell_type": "markdown",
      "metadata": {
        "id": "qpyvbvhrtZn_",
        "colab_type": "text"
      },
      "source": [
        "SQL:\n",
        "\n",
        "    SELECT customerID, tenure, PhoneService, InternetService \n",
        "  \n",
        "    FROM df"
      ]
    },
    {
      "cell_type": "markdown",
      "metadata": {
        "id": "GKHkzEwptZoA",
        "colab_type": "text"
      },
      "source": [
        "Pandas:"
      ]
    },
    {
      "cell_type": "code",
      "metadata": {
        "id": "ofsxIthStZoB",
        "colab_type": "code",
        "colab": {}
      },
      "source": [
        "df[['customerID', 'tenure', 'PhoneService', 'InternetService']].head()"
      ],
      "execution_count": 0,
      "outputs": []
    },
    {
      "cell_type": "markdown",
      "metadata": {
        "id": "kwvLBhTttZoD",
        "colab_type": "text"
      },
      "source": [
        "---\n",
        "## WHERE"
      ]
    },
    {
      "cell_type": "markdown",
      "metadata": {
        "id": "uiuBF1V4tZoE",
        "colab_type": "text"
      },
      "source": [
        "We can subset data in multiple ways but the most intuitive way is boolean indexing"
      ]
    },
    {
      "cell_type": "markdown",
      "metadata": {
        "id": "ea2BS40ztZoF",
        "colab_type": "text"
      },
      "source": [
        "SQL:\n",
        "    \n",
        "    SELECT *\n",
        "    \n",
        "    FROM df\n",
        "    \n",
        "    WHERE MonthlyCharges > 70"
      ]
    },
    {
      "cell_type": "markdown",
      "metadata": {
        "id": "m-V5e8JMtZoF",
        "colab_type": "text"
      },
      "source": [
        "Python:"
      ]
    },
    {
      "cell_type": "code",
      "metadata": {
        "id": "_w79e6h2Or1e",
        "colab_type": "code",
        "colab": {}
      },
      "source": [
        "df[df['MonthlyCharges']>70].head()"
      ],
      "execution_count": 0,
      "outputs": []
    },
    {
      "cell_type": "markdown",
      "metadata": {
        "id": "zc1O_v3-tZoJ",
        "colab_type": "text"
      },
      "source": [
        "Breaking this statement down to understand it better. First we are selecting the column mean revenue"
      ]
    },
    {
      "cell_type": "code",
      "metadata": {
        "id": "aMJmWzGZtZoK",
        "colab_type": "code",
        "colab": {}
      },
      "source": [
        "df['MonthlyCharges'].head()"
      ],
      "execution_count": 0,
      "outputs": []
    },
    {
      "cell_type": "markdown",
      "metadata": {
        "id": "tugDJpfetZoM",
        "colab_type": "text"
      },
      "source": [
        "Next we evaluate all of the individual rows and return a boolean (True/False) that tells us whether they meet the condition (greater than 70) "
      ]
    },
    {
      "cell_type": "code",
      "metadata": {
        "id": "Wpia_dgAtZoO",
        "colab_type": "code",
        "colab": {}
      },
      "source": [
        "(df['MonthlyCharges']>70).head()"
      ],
      "execution_count": 0,
      "outputs": []
    },
    {
      "cell_type": "markdown",
      "metadata": {
        "id": "UpqSoC5BtZoQ",
        "colab_type": "text"
      },
      "source": [
        "Finally we call the data frame and select all the rows that meet our condition"
      ]
    },
    {
      "cell_type": "code",
      "metadata": {
        "id": "hN7eBmcCtZoR",
        "colab_type": "code",
        "colab": {}
      },
      "source": [
        "df[df['MonthlyCharges']>70].head()"
      ],
      "execution_count": 0,
      "outputs": []
    },
    {
      "cell_type": "markdown",
      "metadata": {
        "id": "wrAxAM2-tZoV",
        "colab_type": "text"
      },
      "source": [
        "---\n",
        "## AND and OR"
      ]
    },
    {
      "cell_type": "markdown",
      "metadata": {
        "id": "Jy--VcnctZoW",
        "colab_type": "text"
      },
      "source": [
        "In python we use & and | to represent AND and OR"
      ]
    },
    {
      "cell_type": "markdown",
      "metadata": {
        "id": "q9Jgk8ojtZoY",
        "colab_type": "text"
      },
      "source": [
        "SQL:\n",
        "\n",
        "    SELECT *\n",
        "  \n",
        "    FROM df\n",
        "    \n",
        "    WHERE MonthlyCharges > 70 & TotalCharges < 500"
      ]
    },
    {
      "cell_type": "code",
      "metadata": {
        "id": "WixcxX1ltZoa",
        "colab_type": "code",
        "colab": {}
      },
      "source": [
        "df[(df['MonthlyCharges']>70) & (df['TotalCharges']<500)].head()"
      ],
      "execution_count": 0,
      "outputs": []
    },
    {
      "cell_type": "markdown",
      "metadata": {
        "id": "f5rcp4mefF9B",
        "colab_type": "text"
      },
      "source": [
        "## Question 1: Data subset - Customers and their products\n",
        "Create a new dataset and call it 'df_subset'. df_subset should include the columns customer ID, Phone service, Internet service, Online security, Device protection and Streaming tv.\n"
      ]
    },
    {
      "cell_type": "code",
      "metadata": {
        "id": "hQV4hyZdfpzR",
        "colab_type": "code",
        "colab": {}
      },
      "source": [
        "# Write your answer below:\n",
        "\n"
      ],
      "execution_count": 0,
      "outputs": []
    },
    {
      "cell_type": "markdown",
      "metadata": {
        "colab_type": "text",
        "id": "iWUzUm6ee9CT"
      },
      "source": [
        "## Question 2: Customers satisfying multiple conditions\n",
        "From the original dataframe (df), How many customers have a partner, have phone service and are on a two year contract?"
      ]
    },
    {
      "cell_type": "code",
      "metadata": {
        "id": "HygJ5NzffK5r",
        "colab_type": "code",
        "colab": {}
      },
      "source": [
        "# Write your answer below:\n",
        "\n"
      ],
      "execution_count": 0,
      "outputs": []
    },
    {
      "cell_type": "markdown",
      "metadata": {
        "id": "9pLBzQDNg16z",
        "colab_type": "text"
      },
      "source": [
        "## Question 3: Create a new variable\n",
        "a) Create a new variable called 'Yearly_Charges' by multiplying the monthly charges of each customer by 12\n",
        "\n",
        "b) What is the average Yearly charges per customer?\n",
        "\n",
        "\n",
        "Hints:\n",
        "\n",
        "a) You can create a new variable/column in the same way as you would call it in the example above. Also in python we use the star symbol for multiplication.\n",
        "\n",
        "b) If you are stuck with this one. Search for a solution on google! (Stackoverflow is very useful)"
      ]
    },
    {
      "cell_type": "code",
      "metadata": {
        "id": "X4yTrraeg3SJ",
        "colab_type": "code",
        "colab": {}
      },
      "source": [
        "# Write your answer below:\n"
      ],
      "execution_count": 0,
      "outputs": []
    },
    {
      "cell_type": "markdown",
      "metadata": {
        "id": "OFs056NWtZof",
        "colab_type": "text"
      },
      "source": [
        "---\n",
        "## IS NULL"
      ]
    },
    {
      "cell_type": "markdown",
      "metadata": {
        "id": "3JWdsJVHtZog",
        "colab_type": "text"
      },
      "source": [
        "We can identify nulls using the notna() and isna() methods"
      ]
    },
    {
      "cell_type": "markdown",
      "metadata": {
        "id": "zm8Vymq1tZoh",
        "colab_type": "text"
      },
      "source": [
        "SQL:\n",
        "\n",
        "    SELECT *\n",
        "  \n",
        "    FROM df\n",
        "    \n",
        "    WHERE TotalCharges IS NULL"
      ]
    },
    {
      "cell_type": "code",
      "metadata": {
        "id": "u4E--grxtZoh",
        "colab_type": "code",
        "colab": {}
      },
      "source": [
        "df[df['TotalCharges'].isnull()].head()"
      ],
      "execution_count": 0,
      "outputs": []
    },
    {
      "cell_type": "markdown",
      "metadata": {
        "id": "IWR9L10TtZok",
        "colab_type": "text"
      },
      "source": [
        ".isnull() also returns a set of booleans "
      ]
    },
    {
      "cell_type": "code",
      "metadata": {
        "id": "WFm0xhHItZol",
        "colab_type": "code",
        "colab": {}
      },
      "source": [
        "df.isnull().head()"
      ],
      "execution_count": 0,
      "outputs": []
    },
    {
      "cell_type": "markdown",
      "metadata": {
        "id": "BoMrjzIstZoo",
        "colab_type": "text"
      },
      "source": [
        "When you sum a boolean it counts True as 1 and False as 0. Here we are counting how many nulls there are in each column"
      ]
    },
    {
      "cell_type": "code",
      "metadata": {
        "id": "ZbE5fycqtZop",
        "colab_type": "code",
        "colab": {}
      },
      "source": [
        "df.isnull().sum()"
      ],
      "execution_count": 0,
      "outputs": []
    },
    {
      "cell_type": "markdown",
      "metadata": {
        "id": "RbDSycFptZos",
        "colab_type": "text"
      },
      "source": [
        "---\n",
        "## GROUP BY"
      ]
    },
    {
      "cell_type": "markdown",
      "metadata": {
        "id": "gXuIxt_VtZot",
        "colab_type": "text"
      },
      "source": [
        "SQL:\n",
        "    \n",
        "    SELECT COUNT(Customer_ID), PaymentMethod\n",
        "    \n",
        "    FROM df\n",
        "    \n",
        "    GROUP BY PaymentMethod"
      ]
    },
    {
      "cell_type": "code",
      "metadata": {
        "id": "bQ2LweZWtZou",
        "colab_type": "code",
        "colab": {}
      },
      "source": [
        "df.groupby('PaymentMethod').size()"
      ],
      "execution_count": 0,
      "outputs": []
    },
    {
      "cell_type": "code",
      "metadata": {
        "id": "j1waNdmctZox",
        "colab_type": "code",
        "colab": {}
      },
      "source": [
        "df.groupby('PaymentMethod').count()"
      ],
      "execution_count": 0,
      "outputs": []
    },
    {
      "cell_type": "markdown",
      "metadata": {
        "id": "AEn-Wq1btZo0",
        "colab_type": "text"
      },
      "source": [
        "---\n",
        "## ORDER BY"
      ]
    },
    {
      "cell_type": "markdown",
      "metadata": {
        "id": "D4KpkolGtZo6",
        "colab_type": "text"
      },
      "source": [
        "SQL:\n",
        "    \n",
        "    SELECT *\n",
        "    \n",
        "    FROM df\n",
        "    \n",
        "    ORDER BY MonthlyCharges DESC"
      ]
    },
    {
      "cell_type": "code",
      "metadata": {
        "id": "A7ovCHgAtZo8",
        "colab_type": "code",
        "colab": {}
      },
      "source": [
        "df.sort_values(by='MonthlyCharges', ascending=False).head()"
      ],
      "execution_count": 0,
      "outputs": []
    },
    {
      "cell_type": "markdown",
      "metadata": {
        "id": "8LI0Y3FWtZo_",
        "colab_type": "text"
      },
      "source": [
        "---\n",
        "## JOIN"
      ]
    },
    {
      "cell_type": "markdown",
      "metadata": {
        "id": "vzTopI-VtZpA",
        "colab_type": "text"
      },
      "source": [
        "SQL: \n",
        "    \n",
        "    SELECT *\n",
        "    \n",
        "    FROM df1\n",
        "    \n",
        "    INNER JOIN df2 ON df1.customerID = df2.customerID;"
      ]
    },
    {
      "cell_type": "code",
      "metadata": {
        "id": "eCrfJcThtZpA",
        "colab_type": "code",
        "colab": {}
      },
      "source": [
        "df1.head()"
      ],
      "execution_count": 0,
      "outputs": []
    },
    {
      "cell_type": "code",
      "metadata": {
        "id": "j3HpazHvtZpD",
        "colab_type": "code",
        "colab": {}
      },
      "source": [
        "df2.head()"
      ],
      "execution_count": 0,
      "outputs": []
    },
    {
      "cell_type": "code",
      "metadata": {
        "id": "5b4XVaXvtZpH",
        "colab_type": "code",
        "colab": {}
      },
      "source": [
        "df_inner_join = df1.merge(df2, on='customerID', how='inner')"
      ],
      "execution_count": 0,
      "outputs": []
    },
    {
      "cell_type": "code",
      "metadata": {
        "id": "ZETx_VBNM4-x",
        "colab_type": "code",
        "colab": {}
      },
      "source": [
        "df_inner_join.head()"
      ],
      "execution_count": 0,
      "outputs": []
    },
    {
      "cell_type": "markdown",
      "metadata": {
        "id": "R7qg29lHtZpN",
        "colab_type": "text"
      },
      "source": [
        "---\n",
        "## UNION"
      ]
    },
    {
      "cell_type": "markdown",
      "metadata": {
        "id": "MoJTa9t7tZpO",
        "colab_type": "text"
      },
      "source": [
        "SQL:\n",
        "    \n",
        "    SELECT *\n",
        "    \n",
        "    FROM df3\n",
        "    \n",
        "    UNION\n",
        "    \n",
        "    SELECT *\n",
        "    \n",
        "    FROM df4;"
      ]
    },
    {
      "cell_type": "code",
      "metadata": {
        "id": "YxmWNMmTtZpP",
        "colab_type": "code",
        "colab": {}
      },
      "source": [
        "df3.head()"
      ],
      "execution_count": 0,
      "outputs": []
    },
    {
      "cell_type": "code",
      "metadata": {
        "id": "I7l9JH24tZpT",
        "colab_type": "code",
        "colab": {}
      },
      "source": [
        "df4.head()"
      ],
      "execution_count": 0,
      "outputs": []
    },
    {
      "cell_type": "code",
      "metadata": {
        "id": "zhXj3GJctZpX",
        "colab_type": "code",
        "colab": {}
      },
      "source": [
        "df_union = pd.concat([df3, df4]).drop_duplicates()"
      ],
      "execution_count": 0,
      "outputs": []
    },
    {
      "cell_type": "code",
      "metadata": {
        "id": "S-tZ8j1NtZpZ",
        "colab_type": "code",
        "colab": {}
      },
      "source": [
        "df_union.shape"
      ],
      "execution_count": 0,
      "outputs": []
    },
    {
      "cell_type": "code",
      "metadata": {
        "id": "sSDvFXtStZpb",
        "colab_type": "code",
        "colab": {}
      },
      "source": [
        "df3.shape"
      ],
      "execution_count": 0,
      "outputs": []
    },
    {
      "cell_type": "code",
      "metadata": {
        "id": "2g7yuxbXtZpd",
        "colab_type": "code",
        "colab": {}
      },
      "source": [
        "df4.shape"
      ],
      "execution_count": 0,
      "outputs": []
    },
    {
      "cell_type": "markdown",
      "metadata": {
        "id": "kS7gLGurtZpe",
        "colab_type": "text"
      },
      "source": [
        "---\n",
        "# What else can we do with a dataframe?"
      ]
    },
    {
      "cell_type": "markdown",
      "metadata": {
        "id": "vM1Ccd4itZpf",
        "colab_type": "text"
      },
      "source": [
        "---\n",
        "### Shape"
      ]
    },
    {
      "cell_type": "markdown",
      "metadata": {
        "id": "7HshrfW7tZpg",
        "colab_type": "text"
      },
      "source": [
        "shape shows you the dimensions of the dataframe you're working with"
      ]
    },
    {
      "cell_type": "code",
      "metadata": {
        "id": "TqSMY409tZph",
        "colab_type": "code",
        "colab": {}
      },
      "source": [
        "df.shape"
      ],
      "execution_count": 0,
      "outputs": []
    },
    {
      "cell_type": "code",
      "metadata": {
        "id": "w3L96cWvtZpl",
        "colab_type": "code",
        "colab": {}
      },
      "source": [
        "len(df)"
      ],
      "execution_count": 0,
      "outputs": []
    },
    {
      "cell_type": "markdown",
      "metadata": {
        "id": "bwIoyLxitZpn",
        "colab_type": "text"
      },
      "source": [
        "--- \n",
        "## Columns"
      ]
    },
    {
      "cell_type": "markdown",
      "metadata": {
        "id": "zTxhG0A5tZpp",
        "colab_type": "text"
      },
      "source": [
        "calling .columns on a dataframe shows you the names of all the columns in that dataframe"
      ]
    },
    {
      "cell_type": "code",
      "metadata": {
        "id": "_uHMRCectZpq",
        "colab_type": "code",
        "colab": {}
      },
      "source": [
        "df.columns"
      ],
      "execution_count": 0,
      "outputs": []
    },
    {
      "cell_type": "markdown",
      "metadata": {
        "id": "0wumtMlFtZpr",
        "colab_type": "text"
      },
      "source": [
        "---\n",
        "## Value counts"
      ]
    },
    {
      "cell_type": "markdown",
      "metadata": {
        "id": "vlfxcxe2tZps",
        "colab_type": "text"
      },
      "source": [
        "value counts are a great way to quickly investigate the frequency of categorical features\n",
        "\n",
        "they can be used in place of a groupby statement"
      ]
    },
    {
      "cell_type": "code",
      "metadata": {
        "id": "VRvSGL9stZpt",
        "colab_type": "code",
        "colab": {}
      },
      "source": [
        "df['PaymentMethod'].value_counts()"
      ],
      "execution_count": 0,
      "outputs": []
    },
    {
      "cell_type": "markdown",
      "metadata": {
        "id": "UmN1VuQ6tZpu",
        "colab_type": "text"
      },
      "source": [
        "---\n",
        "## Describe"
      ]
    },
    {
      "cell_type": "markdown",
      "metadata": {
        "id": "Q3pv3FUEtZpv",
        "colab_type": "text"
      },
      "source": [
        "Provides useful information on numerical features"
      ]
    },
    {
      "cell_type": "code",
      "metadata": {
        "id": "px2Gd58VtZpw",
        "colab_type": "code",
        "colab": {}
      },
      "source": [
        "df.describe()"
      ],
      "execution_count": 0,
      "outputs": []
    },
    {
      "cell_type": "code",
      "metadata": {
        "id": "kiwkxnkxtZpy",
        "colab_type": "code",
        "colab": {}
      },
      "source": [
        "df.min()"
      ],
      "execution_count": 0,
      "outputs": []
    },
    {
      "cell_type": "markdown",
      "metadata": {
        "id": "njaXgMX1tZp2",
        "colab_type": "text"
      },
      "source": [
        "### Correlation"
      ]
    },
    {
      "cell_type": "code",
      "metadata": {
        "id": "-3SPBeOktZp4",
        "colab_type": "code",
        "colab": {}
      },
      "source": [
        "df.corr()"
      ],
      "execution_count": 0,
      "outputs": []
    },
    {
      "cell_type": "markdown",
      "metadata": {
        "id": "YWZZYnOMtZqB",
        "colab_type": "text"
      },
      "source": [
        "## Question 4: Who has the best deal?\n",
        "\n",
        "a) Find the minimum Monthly Charges that a customer pays \n",
        "\n",
        "b) If you didn't already, find the customerID of this customer\n"
      ]
    },
    {
      "cell_type": "code",
      "metadata": {
        "id": "HuzJHioVtZqC",
        "colab_type": "code",
        "colab": {}
      },
      "source": [
        ""
      ],
      "execution_count": 0,
      "outputs": []
    },
    {
      "cell_type": "code",
      "metadata": {
        "id": "utYyVt7utZqD",
        "colab_type": "code",
        "colab": {}
      },
      "source": [
        ""
      ],
      "execution_count": 0,
      "outputs": []
    },
    {
      "cell_type": "markdown",
      "metadata": {
        "id": "uOdytrqRtZqG",
        "colab_type": "text"
      },
      "source": [
        "## Question 5: Churners\n",
        "\n",
        "From this data set, what proportion of customers churned?\n"
      ]
    },
    {
      "cell_type": "code",
      "metadata": {
        "id": "5bYSnd_mtZqG",
        "colab_type": "code",
        "colab": {}
      },
      "source": [
        ""
      ],
      "execution_count": 0,
      "outputs": []
    },
    {
      "cell_type": "markdown",
      "metadata": {
        "id": "Pi3KEDOUtZqO",
        "colab_type": "text"
      },
      "source": [
        "## Question 6: Customer tenure and churn\n",
        "a) What is the most commonly occuring number of months (tenure) for the customers to be with us\n",
        "\n",
        "b) What about only for customers that churned?"
      ]
    },
    {
      "cell_type": "code",
      "metadata": {
        "id": "XI8AzPJwBPR4",
        "colab_type": "code",
        "colab": {}
      },
      "source": [
        ""
      ],
      "execution_count": 0,
      "outputs": []
    }
  ]
}