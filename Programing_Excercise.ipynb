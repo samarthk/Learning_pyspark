{
  "nbformat": 4,
  "nbformat_minor": 0,
  "metadata": {
    "colab": {
      "name": "Programing Excercise.ipynb",
      "provenance": [],
      "collapsed_sections": [
        "STqsJI_0VB33",
        "84f19gSARqLd"
      ],
      "toc_visible": true,
      "include_colab_link": true
    },
    "kernelspec": {
      "name": "python3",
      "display_name": "Python 3"
    }
  },
  "cells": [
    {
      "cell_type": "markdown",
      "metadata": {
        "id": "view-in-github",
        "colab_type": "text"
      },
      "source": [
        "<a href=\"https://colab.research.google.com/github/samarthk/Learning_pyspark/blob/master/Programing_Excercise.ipynb\" target=\"_parent\"><img src=\"https://colab.research.google.com/assets/colab-badge.svg\" alt=\"Open In Colab\"/></a>"
      ]
    },
    {
      "cell_type": "markdown",
      "metadata": {
        "id": "STqsJI_0VB33",
        "colab_type": "text"
      },
      "source": [
        "# **String Functions -**\n"
      ]
    },
    {
      "cell_type": "markdown",
      "metadata": {
        "id": "d5NPvOicVcVq",
        "colab_type": "text"
      },
      "source": [
        "### Input 5 Strings and print Pallindrome only -"
      ]
    },
    {
      "cell_type": "code",
      "metadata": {
        "id": "UBYRTHXNVAWn",
        "colab_type": "code",
        "outputId": "fa667b88-cad2-48ca-d84f-0ba631eac070",
        "colab": {
          "base_uri": "https://localhost:8080/",
          "height": 143
        }
      },
      "source": [
        "my_list = []\n",
        "for i in range(5):\n",
        "  in_str = input('Hello - please enter a string :')\n",
        "  my_list.append(in_str)\n",
        "#my_list.clear()\n",
        "#print(\"The string is - \",in_str)\n",
        "my_list.reverse()\n",
        "print(\"The list is: \", my_list)\n",
        "for item in my_list:\n",
        "  reverse=item[::-1]\n",
        "  if reverse==item :\n",
        "    print(\"Palindrome -\", item)\n",
        "\n",
        "\n"
      ],
      "execution_count": 0,
      "outputs": [
        {
          "output_type": "stream",
          "text": [
            "Hello - please enter a string :fjfi\n",
            "Hello - please enter a string :g\n",
            "Hello - please enter a string :egeg\n",
            "Hello - please enter a string :gegwes\n",
            "Hello - please enter a string :efewfg\n",
            "The list is:  ['efewfg', 'gegwes', 'egeg', 'g', 'fjfi']\n",
            "Palindrome - g\n"
          ],
          "name": "stdout"
        }
      ]
    },
    {
      "cell_type": "markdown",
      "metadata": {
        "colab_type": "text",
        "id": "hvtmnE2Ouwml"
      },
      "source": [
        "### Input a String and rebuild in Alphabetical order -"
      ]
    },
    {
      "cell_type": "code",
      "metadata": {
        "id": "Es5OnzQ8u2Hp",
        "colab_type": "code",
        "outputId": "acfcc63f-6590-4a61-8307-da3eeb29224d",
        "colab": {
          "base_uri": "https://localhost:8080/",
          "height": 51
        }
      },
      "source": [
        "in_str = input(\"Enter a string :\")\n",
        "str_out =''\n",
        "for i in range(250) :\n",
        "  for item in in_str :\n",
        "    if ord(item)==i :\n",
        "      str_out =str_out+item\n",
        "print(str_out)\n"
      ],
      "execution_count": 0,
      "outputs": [
        {
          "output_type": "stream",
          "text": [
            "Enter a string :samrth\n",
            "ahmrst\n"
          ],
          "name": "stdout"
        }
      ]
    },
    {
      "cell_type": "markdown",
      "metadata": {
        "colab_type": "text",
        "id": "U-k6Yza73ERm"
      },
      "source": [
        "### Input a Sentence, search for a word.\n",
        "Return position of the word if found."
      ]
    },
    {
      "cell_type": "code",
      "metadata": {
        "id": "okYpq53V3YZu",
        "colab_type": "code",
        "outputId": "0a826599-1fa5-4631-d7eb-fbc4c397c056",
        "colab": {
          "base_uri": "https://localhost:8080/",
          "height": 68
        }
      },
      "source": [
        "in_str = input(\"Enter a string :\")\n",
        "search_str = input(\"Enter a string to search:\")\n",
        "found=0\n",
        "len_str= len(in_str)\n",
        "len_srch_str= len(search_str)\n",
        "for i in range(len_str):\n",
        "  if search_str==in_str[i:i+len_srch_str]:\n",
        "    print(\"Found at \",i)\n",
        "    found=1\n",
        "    break0;\n",
        "if found!=1 :\n",
        "  print(\"Not Found\")\n",
        "\n"
      ],
      "execution_count": 0,
      "outputs": [
        {
          "output_type": "stream",
          "text": [
            "Enter a string :dswdwe\n",
            "Enter a string to search:\n",
            "Found at  0\n"
          ],
          "name": "stdout"
        }
      ]
    },
    {
      "cell_type": "markdown",
      "metadata": {
        "colab_type": "text",
        "id": "B7VmkmjV9BsO"
      },
      "source": [
        "### Input a complete name. Print - Surname, Initials\n",
        "e.g - Samarth Kumar --> Kumar, S"
      ]
    },
    {
      "cell_type": "code",
      "metadata": {
        "id": "P0WmCU4b9DVK",
        "colab_type": "code",
        "outputId": "d7c1a50c-2921-43f7-f532-9dc2b9c5b6aa",
        "colab": {
          "base_uri": "https://localhost:8080/",
          "height": 51
        }
      },
      "source": [
        "in_str = input(\"Enter a string :\")\n",
        "in_str= in_str.strip(' ')\n",
        "if in_str.count(' ') ==1 :\n",
        "  print(in_str[in_str.find(' '):].strip(' ').title() +', '+in_str[0:1].title())\n",
        "elif in_str.count(' ') ==0 :\n",
        "  print(in_str.strip(' ').title())\n",
        "else:\n",
        "  print('Enter valid name like - Name Surname')"
      ],
      "execution_count": 0,
      "outputs": [
        {
          "output_type": "stream",
          "text": [
            "Enter a string :84 gopwjg\n",
            "Gopwjg, 8\n"
          ],
          "name": "stdout"
        }
      ]
    },
    {
      "cell_type": "markdown",
      "metadata": {
        "colab_type": "text",
        "id": "Th8OT6XdjdHB"
      },
      "source": [
        "### Input a string and generate output as -\n",
        "S\n",
        " T\n",
        "  R\n",
        "   I\n",
        "    N\n",
        "     G"
      ]
    },
    {
      "cell_type": "code",
      "metadata": {
        "id": "FvJqkM0Pjf08",
        "colab_type": "code",
        "outputId": "26db7d60-474f-4542-854f-8cea075f971c",
        "colab": {
          "base_uri": "https://localhost:8080/",
          "height": 125
        }
      },
      "source": [
        "in_str = input(\"Enter a string :\")\n",
        "counter=0\n",
        "for i in in_str:\n",
        "  print('  '*counter+ i.upper())\n",
        "  counter=counter+1\n"
      ],
      "execution_count": 0,
      "outputs": [
        {
          "output_type": "stream",
          "text": [
            "Enter a string :sammy\n",
            "S\n",
            "  A\n",
            "    M\n",
            "      M\n",
            "        Y\n"
          ],
          "name": "stdout"
        }
      ]
    },
    {
      "cell_type": "markdown",
      "metadata": {
        "colab_type": "text",
        "id": "f_28tJfDjfPf"
      },
      "source": [
        "### Input a string and generate output as - (GOOD)\n",
        "D\n",
        "\n",
        "DO\n",
        "\n",
        "DOO\n",
        "\n",
        "DOOG"
      ]
    },
    {
      "cell_type": "code",
      "metadata": {
        "id": "6tRgxmVujgfK",
        "colab_type": "code",
        "outputId": "a5f37169-8a5e-4414-d577-4346328c8613",
        "colab": {
          "base_uri": "https://localhost:8080/",
          "height": 119
        }
      },
      "source": [
        "in_str = input(\"Enter a string :\")\n",
        "for i in range(len(in_str)) :\n",
        "  if i==len(in_str)-1:\n",
        "    print(in_str[::-1].upper())\n",
        "  else :\n",
        "    print(in_str[-1:len(in_str)-2-i:-1].upper())"
      ],
      "execution_count": 0,
      "outputs": [
        {
          "output_type": "stream",
          "text": [
            "Enter a string :SAmmy\n",
            "Y\n",
            "YM\n",
            "YMM\n",
            "YMMA\n",
            "YMMAS\n"
          ],
          "name": "stdout"
        }
      ]
    },
    {
      "cell_type": "markdown",
      "metadata": {
        "colab_type": "text",
        "id": "Pz8eqBNqpa8Y"
      },
      "source": [
        "### Print a reversed sentence- \n",
        "e.g - I am a Boy --> Boy a am I"
      ]
    },
    {
      "cell_type": "code",
      "metadata": {
        "colab_type": "code",
        "id": "woKR-sTQpa8h",
        "outputId": "92a15417-34dd-4ad0-9dc6-48a48a6751eb",
        "colab": {
          "base_uri": "https://localhost:8080/",
          "height": 51
        }
      },
      "source": [
        "in_str = input(\"Enter a string :\")\n",
        "list_str= in_str.split(' ')\n",
        "print(' '.join(list_str[::-1]))"
      ],
      "execution_count": 0,
      "outputs": [
        {
          "output_type": "stream",
          "text": [
            "Enter a string :i am sam ku\n",
            "ku sam am i\n"
          ],
          "name": "stdout"
        }
      ]
    },
    {
      "cell_type": "markdown",
      "metadata": {
        "colab_type": "text",
        "id": "-RU06XzPpeLc"
      },
      "source": [
        "### Find longest word in String"
      ]
    },
    {
      "cell_type": "code",
      "metadata": {
        "colab_type": "code",
        "id": "L-dv8mg0peLf",
        "outputId": "337c9f0e-7f02-4fea-8e64-54605a72b5db",
        "colab": {
          "base_uri": "https://localhost:8080/",
          "height": 51
        }
      },
      "source": [
        "in_str = input(\"Enter a string :\")\n",
        "word=''\n",
        "length=0\n",
        "list_str= in_str.split(' ')\n",
        "for in_str in list_str :\n",
        "  if length<len(in_str):\n",
        "    length=len(in_str)\n",
        "    word=in_str\n",
        "print('Longest word is-',word, ' Lenght is -',length)\n",
        "\n",
        "\n"
      ],
      "execution_count": 0,
      "outputs": [
        {
          "output_type": "stream",
          "text": [
            "Enter a string :eriwhg r pkoep kpy epoyjp54y oi3-i-yi55ikhoper u0 t4o kg    k wr[k [tr\n",
            "Longest word is - oi3-i-yi55ikhoper  Lenght is - 17\n"
          ],
          "name": "stdout"
        }
      ]
    },
    {
      "cell_type": "markdown",
      "metadata": {
        "colab_type": "text",
        "id": "iwgRUYWnpexK"
      },
      "source": [
        "### Input a list of integer and output the odd numbers."
      ]
    },
    {
      "cell_type": "code",
      "metadata": {
        "colab_type": "code",
        "id": "Q2zWYjQBpexL",
        "colab": {}
      },
      "source": [
        "odd_list = []\n",
        "in_str=''\n",
        "while in_str!='Done' :\n",
        "  in_str = input('Hello - please enter a number :')\n",
        "  if in_str!='Done' and int(in_str)%2!=0 :\n",
        "    odd_list.append(int(in_str))\n",
        "print(\"The list is - \",odd_list)"
      ],
      "execution_count": 0,
      "outputs": []
    },
    {
      "cell_type": "markdown",
      "metadata": {
        "colab_type": "text",
        "id": "LDwOItJqGyn9"
      },
      "source": [
        "### Find the string having consecutive letters\n",
        "e.g. - Augu***st***"
      ]
    },
    {
      "cell_type": "code",
      "metadata": {
        "id": "YO01-ZFQG1c4",
        "colab_type": "code",
        "outputId": "7ae99c9e-d963-40dd-9162-8849889a451c",
        "colab": {
          "base_uri": "https://localhost:8080/",
          "height": 51
        }
      },
      "source": [
        "in_str = input(\"Enter a string :\")\n",
        "for i in range(len(in_str)) :\n",
        "  if ord(in_str[i])-ord(in_str[i-1])==1:\n",
        "    print(in_str,in_str[i-1]+in_str[i])\n"
      ],
      "execution_count": 0,
      "outputs": [
        {
          "output_type": "stream",
          "text": [
            "Enter a string :ABnie\n",
            "ABnie AB\n"
          ],
          "name": "stdout"
        }
      ]
    },
    {
      "cell_type": "markdown",
      "metadata": {
        "colab_type": "text",
        "id": "Op1GztjwGzRr"
      },
      "source": [
        "### Input a sentence and swap all caps to small and vice versa"
      ]
    },
    {
      "cell_type": "code",
      "metadata": {
        "id": "GVvEz1pyG0wu",
        "colab_type": "code",
        "outputId": "5d535fbd-1525-4985-e080-022e5b1534c2",
        "colab": {
          "base_uri": "https://localhost:8080/",
          "height": 68
        }
      },
      "source": [
        "in_str = input(\"Enter a string :\")\n",
        "out_str=''\n",
        "for i in in_str :\n",
        "  if i.isupper() :\n",
        "    out_str=out_str+ i.lower()\n",
        "  else:\n",
        "    out_str=out_str+ i.upper()\n",
        "print(out_str)\n",
        "print(in_str.swapcase())"
      ],
      "execution_count": 0,
      "outputs": [
        {
          "output_type": "stream",
          "text": [
            "Enter a string :mai hu DoN\n",
            "MAI HU dOn\n",
            "MAI HU dOn\n"
          ],
          "name": "stdout"
        }
      ]
    },
    {
      "cell_type": "markdown",
      "metadata": {
        "colab_type": "text",
        "id": "KT9AUy_DGzaK"
      },
      "source": [
        "### Check consecutive vowels in String"
      ]
    },
    {
      "cell_type": "code",
      "metadata": {
        "id": "wTcFVOXserXY",
        "colab_type": "code",
        "outputId": "4142976c-c03f-42ed-acc4-8bb2241329c1",
        "colab": {
          "base_uri": "https://localhost:8080/",
          "height": 68
        }
      },
      "source": [
        "vovels = ['a', 'e', 'i', 'o', \"u\"]\n",
        "in_str = \"Entaer a strreing :\"\n",
        "count=0\n",
        "for i in range(len(in_str)):\n",
        "  if in_str[i] in vovels and in_str[i-1] in vovels:\n",
        "      print(in_str[i-1]+in_str[i])\n",
        "      count=count+1\n",
        "print(count)\n",
        "\n"
      ],
      "execution_count": 0,
      "outputs": [
        {
          "output_type": "stream",
          "text": [
            "ae\n",
            "ei\n",
            "2\n"
          ],
          "name": "stdout"
        }
      ]
    },
    {
      "cell_type": "markdown",
      "metadata": {
        "colab_type": "text",
        "id": "84f19gSARqLd"
      },
      "source": [
        "# **General Programming -**\n"
      ]
    },
    {
      "cell_type": "markdown",
      "metadata": {
        "colab_type": "text",
        "id": "U2qVhZOYSM-j"
      },
      "source": [
        "### Find the sum of prime Numbers less than 30-"
      ]
    },
    {
      "cell_type": "code",
      "metadata": {
        "colab_type": "code",
        "id": "NA1pQP0mSM-n",
        "outputId": "4ec6dcee-f0cb-4328-e288-152c0b006168",
        "colab": {
          "base_uri": "https://localhost:8080/",
          "height": 34
        }
      },
      "source": [
        "sum=0\n",
        "for i in range(1,30):\n",
        "  count=0\n",
        "  for j in range(1,i+1):\n",
        "    x=i%j\n",
        "    if x==0 :\n",
        "      #print('divied by- ',j)\n",
        "      count=count+1\n",
        "  if count==2 :\n",
        "    #print('prime is -',i)\n",
        "    sum =sum + i\n",
        "print('Sum is -', sum)\n",
        "\n",
        "\n"
      ],
      "execution_count": 0,
      "outputs": [
        {
          "output_type": "stream",
          "text": [
            "Sum is - 129\n"
          ],
          "name": "stdout"
        }
      ]
    },
    {
      "cell_type": "markdown",
      "metadata": {
        "colab_type": "text",
        "id": "-504BxyjSE8O"
      },
      "source": [
        "### Find 'Perfect' number less than 30 -\n",
        "6 = 1+2+3 (sum of factors)"
      ]
    },
    {
      "cell_type": "code",
      "metadata": {
        "colab_type": "code",
        "id": "EW3ZcJx1SE8V",
        "outputId": "685667a2-d2ef-4998-e8e6-e19b9d527544",
        "colab": {
          "base_uri": "https://localhost:8080/",
          "height": 51
        }
      },
      "source": [
        "for i in range(1,30):\n",
        "  sum=0\n",
        "  factors=''\n",
        "  for j in range(1,i):\n",
        "    x=i%j\n",
        "    if x==0 :\n",
        "      #print('divied by- ',j)\n",
        "      sum=sum+j\n",
        "      factors = factors+ str(j)+','\n",
        "  if sum==i:\n",
        "    print('Perfect -',i,'Factors are -',factors.strip(','))\n",
        "\n"
      ],
      "execution_count": 0,
      "outputs": [
        {
          "output_type": "stream",
          "text": [
            "Perfect - 6 Factors are - 1,2,3\n",
            "Perfect - 28 Factors are - 1,2,4,7,14\n"
          ],
          "name": "stdout"
        }
      ]
    },
    {
      "cell_type": "markdown",
      "metadata": {
        "colab_type": "text",
        "id": "5NRr0jh1SRBt"
      },
      "source": [
        "### Find sum of series till N -\n",
        "e.g.- 3+33+333+3333 .... N"
      ]
    },
    {
      "cell_type": "code",
      "metadata": {
        "colab_type": "code",
        "id": "x8BF9yYcSRBv",
        "outputId": "fc0a42aa-3a5f-42bc-c6d4-8d740f5f3efc",
        "colab": {
          "base_uri": "https://localhost:8080/",
          "height": 102
        }
      },
      "source": [
        "n=4\n",
        "sum=1\n",
        "j=0\n",
        "for i in range(n):\n",
        "  j=j+3*10**i\n",
        "  print(j)\n",
        "  sum=sum+j\n",
        "print('Sum =', sum)"
      ],
      "execution_count": 0,
      "outputs": [
        {
          "output_type": "stream",
          "text": [
            "3\n",
            "33\n",
            "333\n",
            "3333\n",
            "Sum = 3703\n"
          ],
          "name": "stdout"
        }
      ]
    },
    {
      "cell_type": "markdown",
      "metadata": {
        "colab_type": "text",
        "id": "rgRao0hlSRmU"
      },
      "source": [
        "### Find sum of series till N -\n",
        "1\n",
        "12\n",
        "123\n",
        "1234\n",
        "12345"
      ]
    },
    {
      "cell_type": "code",
      "metadata": {
        "colab_type": "code",
        "id": "rJMjabY_SRmW",
        "outputId": "72af055f-8480-4279-92a2-34e49294f7ea",
        "colab": {
          "base_uri": "https://localhost:8080/",
          "height": 102
        }
      },
      "source": [
        "n=5\n",
        "sum=1\n",
        "j=0\n",
        "for i in range(n):\n",
        "  j=j*10+i\n",
        "  print(j)"
      ],
      "execution_count": 0,
      "outputs": [
        {
          "output_type": "stream",
          "text": [
            "0\n",
            "1\n",
            "12\n",
            "123\n",
            "1234\n"
          ],
          "name": "stdout"
        }
      ]
    },
    {
      "cell_type": "markdown",
      "metadata": {
        "colab_type": "text",
        "id": "aylex9M8SSBN"
      },
      "source": [
        "### Find sum of series till N -\n",
        "1\n",
        "23\n",
        "456\n",
        "78910\n"
      ]
    },
    {
      "cell_type": "code",
      "metadata": {
        "colab_type": "code",
        "id": "U6-lidTwSSBP",
        "colab": {}
      },
      "source": [
        "n=6\n",
        "c=0\n",
        "for i in range(n):\n",
        "  sum=0\n",
        "  for j in range(i):\n",
        "    c=c+1\n",
        "    sum=sum*10+c\n",
        "    print(c)\n",
        "  print(sum)\n",
        "\n"
      ],
      "execution_count": 0,
      "outputs": []
    },
    {
      "cell_type": "markdown",
      "metadata": {
        "colab_type": "text",
        "id": "Z5OjQB1_SSk1"
      },
      "source": [
        "### Compute factorial of all prime number between 10 & 100\n"
      ]
    },
    {
      "cell_type": "code",
      "metadata": {
        "colab_type": "code",
        "id": "5COwvJcBSSk3",
        "outputId": "0d289ef1-1e22-4e4a-a869-e3abf2a5b7f3",
        "colab": {
          "base_uri": "https://localhost:8080/",
          "height": 394
        }
      },
      "source": [
        "for i in range(10,100):\n",
        "  fact=1\n",
        "  prime=0\n",
        "  #print('---------',i)\n",
        "  for k in range(1,i+1):\n",
        "    if i%k==0:\n",
        "      prime=prime+1\n",
        "  #print(prime)\n",
        "  if prime==2:\n",
        "    for j in range(1,i+1):\n",
        "      fact=fact*j\n",
        "    print('Factorial of ',i,'is', fact)"
      ],
      "execution_count": 0,
      "outputs": [
        {
          "output_type": "stream",
          "text": [
            "Factorial of  11 is 39916800\n",
            "Factorial of  13 is 6227020800\n",
            "Factorial of  17 is 355687428096000\n",
            "Factorial of  19 is 121645100408832000\n",
            "Factorial of  23 is 25852016738884976640000\n",
            "Factorial of  29 is 8841761993739701954543616000000\n",
            "Factorial of  31 is 8222838654177922817725562880000000\n",
            "Factorial of  37 is 13763753091226345046315979581580902400000000\n",
            "Factorial of  41 is 33452526613163807108170062053440751665152000000000\n",
            "Factorial of  43 is 60415263063373835637355132068513997507264512000000000\n",
            "Factorial of  47 is 258623241511168180642964355153611979969197632389120000000000\n",
            "Factorial of  53 is 4274883284060025564298013753389399649690343788366813724672000000000000\n",
            "Factorial of  59 is 138683118545689835737939019720389406345902876772687432540821294940160000000000000\n",
            "Factorial of  61 is 507580213877224798800856812176625227226004528988036003099405939480985600000000000000\n",
            "Factorial of  67 is 36471110918188685288249859096605464427167635314049524593701628500267962436943872000000000000000\n",
            "Factorial of  71 is 850478588567862317521167644239926010288584608120796235886430763388588680378079017697280000000000000000\n",
            "Factorial of  73 is 4470115461512684340891257138125051110076800700282905015819080092370422104067183317016903680000000000000000\n",
            "Factorial of  79 is 894618213078297528685144171539831652069808216779571907213868063227837990693501860533361810841010176000000000000000000\n",
            "Factorial of  83 is 39455239697206586511897471180120610571436503407643446275224357528369751562996629334879591940103770870906880000000000000000000\n",
            "Factorial of  89 is 16507955160908461081216919262453619309839666236496541854913520707833171034378509739399912570787600662729080382999756800000000000000000000\n",
            "Factorial of  97 is 96192759682482119853328425949563698712343813919172976158104477319333745612481875498805879175589072651261284189679678167647067832320000000000000000000000\n"
          ],
          "name": "stdout"
        }
      ]
    },
    {
      "cell_type": "markdown",
      "metadata": {
        "id": "qXp5ajqqcIsY",
        "colab_type": "text"
      },
      "source": [
        "### Find max occurance of a word in sentence"
      ]
    },
    {
      "cell_type": "code",
      "metadata": {
        "id": "R-CMTDgFcJIP",
        "colab_type": "code",
        "outputId": "5b5fd0c7-f495-4b2c-e9ec-46a99217dd4d",
        "colab": {
          "base_uri": "https://localhost:8080/",
          "height": 51
        }
      },
      "source": [
        "in_str = 'Hello - please enter a sam sam sam string please enter pls:'\n",
        "in_str=in_str.split(' ')\n",
        "print(in_str)\n",
        "max_count=0\n",
        "max_word=''\n",
        "for word in in_str:\n",
        "  if max_count< in_str.count(word):\n",
        "    max_count=in_str.count(word)\n",
        "    max_word=word\n",
        "print('Max_word -',max_word,'Count-',max_count)"
      ],
      "execution_count": 0,
      "outputs": [
        {
          "output_type": "stream",
          "text": [
            "['Hello', '-', 'please', 'enter', 'a', 'sam', 'sam', 'sam', 'string', 'please', 'enter', 'pls:']\n",
            "Max_word - sam Count- 3\n"
          ],
          "name": "stdout"
        }
      ]
    },
    {
      "cell_type": "markdown",
      "metadata": {
        "id": "jxxk9yKLgz_H",
        "colab_type": "text"
      },
      "source": [
        "# **File Handling -**\n"
      ]
    },
    {
      "cell_type": "markdown",
      "metadata": {
        "id": "qI8Bqp3Cg5LF",
        "colab_type": "text"
      },
      "source": [
        "### Upload a file to colab -"
      ]
    },
    {
      "cell_type": "code",
      "metadata": {
        "id": "1gNdmMLku2GK",
        "colab_type": "code",
        "outputId": "0df2fe7f-88ee-44f8-e6d5-e9806c13ecf5",
        "colab": {
          "resources": {
            "http://localhost:8080/nbextensions/google.colab/files.js": {
              "data": "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",
              "ok": true,
              "headers": [
                [
                  "content-type",
                  "application/javascript"
                ]
              ],
              "status": 200,
              "status_text": ""
            }
          },
          "base_uri": "https://localhost:8080/",
          "height": 58
        }
      },
      "source": [
        "from google.colab import files\n",
        "\n",
        "uploaded = files.upload()\n",
        "print(uploaded)\n",
        "for fn in uploaded.keys():\n",
        "  print('User uploaded file \"{name}\" with length {length} bytes'.format(\n",
        "      name=fn, length=len(uploaded[fn])))"
      ],
      "execution_count": 0,
      "outputs": [
        {
          "output_type": "display_data",
          "data": {
            "text/html": [
              "\n",
              "     <input type=\"file\" id=\"files-3800f41c-c586-4f7c-8ecb-c75fb8e43c07\" name=\"files[]\" multiple disabled />\n",
              "     <output id=\"result-3800f41c-c586-4f7c-8ecb-c75fb8e43c07\">\n",
              "      Upload widget is only available when the cell has been executed in the\n",
              "      current browser session. Please rerun this cell to enable.\n",
              "      </output>\n",
              "      <script src=\"/nbextensions/google.colab/files.js\"></script> "
            ],
            "text/plain": [
              "<IPython.core.display.HTML object>"
            ]
          },
          "metadata": {
            "tags": []
          }
        },
        {
          "output_type": "stream",
          "text": [
            "{}\n"
          ],
          "name": "stdout"
        }
      ]
    },
    {
      "cell_type": "markdown",
      "metadata": {
        "id": "2jMZ8vlk13LA",
        "colab_type": "text"
      },
      "source": [
        "### Open a file in colab-"
      ]
    },
    {
      "cell_type": "code",
      "metadata": {
        "id": "VFtf4HhjvBH4",
        "colab_type": "code",
        "colab": {}
      },
      "source": [
        "fhand= open('data_30122019.txt')\n",
        "print(fhand)\n",
        "#print(fhand.read())\n",
        "#in_file= fhand.read()\n",
        "#print(type(in_file))\n",
        "#lst= in_file.split(' ')\n",
        "#print(lst)\n",
        "#print(lst[::1])\n",
        "#print(in_file[:26:])\n",
        "\n",
        "for item in fhand:\n",
        "  #print(item[:50:])\n",
        "  print(item.\n",
        "        )"
      ],
      "execution_count": 0,
      "outputs": []
    },
    {
      "cell_type": "markdown",
      "metadata": {
        "id": "FqzTxc-X2WRJ",
        "colab_type": "text"
      },
      "source": [
        "Handle bad filename-"
      ]
    },
    {
      "cell_type": "code",
      "metadata": {
        "id": "AxrA55MzGE9y",
        "colab_type": "code",
        "outputId": "5240e76c-0542-4b0b-b0cf-b1452728507d",
        "colab": {
          "base_uri": "https://localhost:8080/",
          "height": 173
        }
      },
      "source": [
        "!ls -ltr /content/sample_data/"
      ],
      "execution_count": 0,
      "outputs": [
        {
          "output_type": "stream",
          "text": [
            "total 61332\n",
            "-rwxr-xr-x 1 root root      930 Jan  1  2000 README.md\n",
            "-rwxr-xr-x 1 root root     1697 Jan  1  2000 anscombe.json\n",
            "-rw-r--r-- 1 root root 36523880 May  4 16:26 mnist_train_small.csv\n",
            "-rw-r--r-- 1 root root 18289443 May  4 16:26 mnist_test.csv\n",
            "-rw-r--r-- 1 root root  1706430 May  4 16:26 california_housing_train.csv\n",
            "-rw-r--r-- 1 root root   301141 May  4 16:26 california_housing_test.csv\n",
            "-rw-r--r-- 1 root root  2942603 May 11 18:56 movies_dataset.txt\n",
            "-rw-r--r-- 1 root root  3019987 May 11 19:16 movies_dataset.csv\n"
          ],
          "name": "stdout"
        }
      ]
    },
    {
      "cell_type": "code",
      "metadata": {
        "id": "9V6GJi422VjS",
        "colab_type": "code",
        "outputId": "6d5a0ce7-c41c-4037-8f1d-74f46911cdd1",
        "colab": {
          "base_uri": "https://localhost:8080/",
          "height": 253
        }
      },
      "source": [
        "#fhand =[]\n",
        "try:\n",
        "  fhand= open('/content/sample_data/mnist_teaast.csv')\n",
        "except:\n",
        "  print('File not found')\n",
        "  #quit()\n",
        "str_file=fhand.read()\n",
        "list_file =str_file.splitlines()\n",
        "list_file[:5]\n",
        "for i in list_file[1:]:\n",
        "  if float(i.split(',')[6]) > 10 and float(i.split(',')[6]) < 100:\n",
        "    print(i.split(',')[6])\n",
        "\n",
        "  "
      ],
      "execution_count": 0,
      "outputs": [
        {
          "output_type": "stream",
          "text": [
            "File not found\n"
          ],
          "name": "stdout"
        },
        {
          "output_type": "error",
          "ename": "NameError",
          "evalue": "ignored",
          "traceback": [
            "\u001b[0;31m---------------------------------------------------------------------------\u001b[0m",
            "\u001b[0;31mNameError\u001b[0m                                 Traceback (most recent call last)",
            "\u001b[0;32m<ipython-input-1-a426cc05d58b>\u001b[0m in \u001b[0;36m<module>\u001b[0;34m()\u001b[0m\n\u001b[1;32m      4\u001b[0m   \u001b[0mprint\u001b[0m\u001b[0;34m(\u001b[0m\u001b[0;34m'File not found'\u001b[0m\u001b[0;34m)\u001b[0m\u001b[0;34m\u001b[0m\u001b[0;34m\u001b[0m\u001b[0m\n\u001b[1;32m      5\u001b[0m   \u001b[0;31m#quit()\u001b[0m\u001b[0;34m\u001b[0m\u001b[0;34m\u001b[0m\u001b[0;34m\u001b[0m\u001b[0m\n\u001b[0;32m----> 6\u001b[0;31m \u001b[0mstr_file\u001b[0m\u001b[0;34m=\u001b[0m\u001b[0mfhand\u001b[0m\u001b[0;34m.\u001b[0m\u001b[0mread\u001b[0m\u001b[0;34m(\u001b[0m\u001b[0;34m)\u001b[0m\u001b[0;34m\u001b[0m\u001b[0;34m\u001b[0m\u001b[0m\n\u001b[0m\u001b[1;32m      7\u001b[0m \u001b[0mlist_file\u001b[0m \u001b[0;34m=\u001b[0m\u001b[0mstr_file\u001b[0m\u001b[0;34m.\u001b[0m\u001b[0msplitlines\u001b[0m\u001b[0;34m(\u001b[0m\u001b[0;34m)\u001b[0m\u001b[0;34m\u001b[0m\u001b[0;34m\u001b[0m\u001b[0m\n\u001b[1;32m      8\u001b[0m \u001b[0mlist_file\u001b[0m\u001b[0;34m[\u001b[0m\u001b[0;34m:\u001b[0m\u001b[0;36m5\u001b[0m\u001b[0;34m]\u001b[0m\u001b[0;34m\u001b[0m\u001b[0;34m\u001b[0m\u001b[0m\n",
            "\u001b[0;31mNameError\u001b[0m: name 'fhand' is not defined"
          ]
        }
      ]
    },
    {
      "cell_type": "markdown",
      "metadata": {
        "id": "pCAsaHtvMGk1",
        "colab_type": "text"
      },
      "source": [
        "## **File Generic** -"
      ]
    },
    {
      "cell_type": "code",
      "metadata": {
        "id": "zJjmeIcgMNR5",
        "colab_type": "code",
        "colab": {}
      },
      "source": [
        "def file_to_list(FilePath):\n",
        "  try:\n",
        "    fopen= open(FilePath)\n",
        "  except:\n",
        "    print('File not found, check filepath :',FilePath)\n",
        "    return[]\n",
        "  str_file = fopen.read()\n",
        "  return(str_file.splitlines())\n"
      ],
      "execution_count": 0,
      "outputs": []
    },
    {
      "cell_type": "markdown",
      "metadata": {
        "id": "fg36CunuqU9n",
        "colab_type": "text"
      },
      "source": [
        "File operations - "
      ]
    },
    {
      "cell_type": "markdown",
      "metadata": {
        "id": "kcFeFmXnGKke",
        "colab_type": "text"
      },
      "source": [
        "Print File"
      ]
    },
    {
      "cell_type": "code",
      "metadata": {
        "id": "-9yNgCvjqZrq",
        "colab_type": "code",
        "outputId": "1b02e7be-d22b-43df-df44-c7f88716ed55",
        "colab": {
          "base_uri": "https://localhost:8080/",
          "height": 52
        }
      },
      "source": [
        "list_file = file_to_list('/content/sample_data/movies_dataset.csv')\n",
        "list_file[:2]"
      ],
      "execution_count": 2,
      "outputs": [
        {
          "output_type": "execute_result",
          "data": {
            "text/plain": [
              "['Id,Title,Year,Rating,Views,Genre',\n",
              " '1,The Nightmare Before Christmas,1993,3.9,4568,Horror']"
            ]
          },
          "metadata": {
            "tags": []
          },
          "execution_count": 2
        }
      ]
    },
    {
      "cell_type": "markdown",
      "metadata": {
        "id": "jK_sk7JsGSMt",
        "colab_type": "text"
      },
      "source": [
        "Filter and aggregate"
      ]
    },
    {
      "cell_type": "code",
      "metadata": {
        "id": "9wg-EpCFFrsH",
        "colab_type": "code",
        "outputId": "c985bc51-057f-412f-8817-207bee4cca2a",
        "colab": {
          "base_uri": "https://localhost:8080/",
          "height": 69
        }
      },
      "source": [
        "list_file = file_to_list('/content/sample_data/movies_dataset.csv')\n",
        "\n",
        "Tot_Revenue =0\n",
        "Oth_Revenue =0\n",
        "Rated_Revenue=0\n",
        "for i in list_file[1:100]:\n",
        "  #print(i)\n",
        "  Tot_Revenue = Tot_Revenue + float(i.split(',')[4])\n",
        "\n",
        "  if (float(i.split(',')[3]) >3.5 and float(i.split(',')[3]) <4.7):\n",
        "    Rated_Revenue = Rated_Revenue + float(i.split(',')[4])\n",
        "  else:\n",
        "    Oth_Revenue = Oth_Revenue + float(i.split(',')[4])\n",
        "\n",
        "print('Tot_Revenue = '.upper(),Tot_Revenue)\n",
        "print('Rated_Revenue = ',Rated_Revenue)\n",
        "print('Oth_Revenue = ',Oth_Revenue)\n"
      ],
      "execution_count": 7,
      "outputs": [
        {
          "output_type": "stream",
          "text": [
            "TOT_REVENUE =  623796.0\n",
            "Rated_Revenue =  205929.0\n",
            "Oth_Revenue =  417867.0\n"
          ],
          "name": "stdout"
        }
      ]
    },
    {
      "cell_type": "markdown",
      "metadata": {
        "id": "Qoek2r0rL5Ai",
        "colab_type": "text"
      },
      "source": [
        "Tot_Revenue per rating\n"
      ]
    },
    {
      "cell_type": "code",
      "metadata": {
        "id": "zZGHWgf8MB5R",
        "colab_type": "code",
        "colab": {
          "base_uri": "https://localhost:8080/",
          "height": 312
        },
        "outputId": "98ccb3c5-5868-4973-c5c9-cd2bb5a59e9e"
      },
      "source": [
        "list_file = file_to_list('/content/sample_data/movies_dataset.csv')\n",
        "\n",
        "Revenue_list = [['', 0]]\n",
        "for i in list_file[1:]:\n",
        "  #print(i)\n",
        "  found_flag=0\n",
        "  for j in Revenue_list:\n",
        "    if j[0]== i.split(',')[3]:\n",
        "      j[1]= float(j[1]) + float(i.split(',')[4])\n",
        "      found_flag=1\n",
        "\n",
        "  if found_flag != 1 :\n",
        "    lst=[i.split(',')[3],float(i.split(',')[4])]\n",
        "    Revenue_list.append(lst)\n",
        "Revenue_list.sort()\n",
        "Revenue_list.pop(0)\n",
        "Revenue_list\n"
      ],
      "execution_count": 10,
      "outputs": [
        {
          "output_type": "execute_result",
          "data": {
            "text/plain": [
              "[['2.5', 11404.0],\n",
              " ['2.6', 6108.0],\n",
              " ['2.7', 10782.0],\n",
              " ['2.8', 33169.0],\n",
              " ['2.9', 47298.0],\n",
              " ['3', 62292.0],\n",
              " ['3.1', 78828.0],\n",
              " ['3.2', 84851.0],\n",
              " ['3.3', 81894.0],\n",
              " ['3.4', 196339.0],\n",
              " ['3.5', 154094.0],\n",
              " ['3.6', 178771.0],\n",
              " ['3.7', 133105.0],\n",
              " ['3.8', 57792.0],\n",
              " ['3.9', 48308.0],\n",
              " ['4', 51810.0],\n",
              " ['4.1', 9265.0]]"
            ]
          },
          "metadata": {
            "tags": []
          },
          "execution_count": 10
        }
      ]
    },
    {
      "cell_type": "code",
      "metadata": {
        "id": "sbEigWvCm12m",
        "colab_type": "code",
        "colab": {}
      },
      "source": [
        "help(str)"
      ],
      "execution_count": 0,
      "outputs": []
    }
  ]
}