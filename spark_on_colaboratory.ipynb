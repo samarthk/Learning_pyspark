{
  "nbformat": 4,
  "nbformat_minor": 0,
  "metadata": {
    "colab": {
      "name": "spark-on-colaboratory.ipynb",
      "provenance": [],
      "collapsed_sections": [],
      "include_colab_link": true
    },
    "kernelspec": {
      "name": "python3",
      "display_name": "Python 3"
    }
  },
  "cells": [
    {
      "cell_type": "markdown",
      "metadata": {
        "id": "view-in-github",
        "colab_type": "text"
      },
      "source": [
        "<a href=\"https://colab.research.google.com/github/samarthk/Learning_pyspark/blob/master/spark_on_colaboratory.ipynb\" target=\"_parent\"><img src=\"https://colab.research.google.com/assets/colab-badge.svg\" alt=\"Open In Colab\"/></a>"
      ]
    },
    {
      "cell_type": "markdown",
      "metadata": {
        "id": "kvD4HBMi0ohY",
        "colab_type": "text"
      },
      "source": [
        "# Install Java, Spark, and Findspark\n",
        "This installs Apache Spark 2.3.1, Java 8, and [Findspark](https://github.com/minrk/findspark), a library that makes it easy for Python to find Spark."
      ]
    },
    {
      "cell_type": "code",
      "metadata": {
        "id": "fUhBhrGmyAvs",
        "colab_type": "code",
        "outputId": "74d52c75-9ffd-47a8-d530-249b42a4f09c",
        "colab": {
          "base_uri": "https://localhost:8080/",
          "height": 225
        }
      },
      "source": [
        "!apt-get install openjdk-8-jdk-headless -qq > /dev/null\n",
        "!wget https://archive.apache.org/dist/spark/spark-2.4.1/spark-2.4.1-bin-hadoop2.7.tgz\n",
        "!tar xf spark-2.4.1-bin-hadoop2.7.tgz\n",
        "!pip install -q findspark\n",
        "\n",
        "!ls"
      ],
      "execution_count": 0,
      "outputs": [
        {
          "output_type": "stream",
          "text": [
            "--2020-04-27 11:36:57--  https://archive.apache.org/dist/spark/spark-2.4.1/spark-2.4.1-bin-hadoop2.7.tgz\n",
            "Resolving archive.apache.org (archive.apache.org)... 138.201.131.134, 2a01:4f8:172:2ec5::2\n",
            "Connecting to archive.apache.org (archive.apache.org)|138.201.131.134|:443... connected.\n",
            "HTTP request sent, awaiting response... 200 OK\n",
            "Length: 230778742 (220M) [application/x-gzip]\n",
            "Saving to: ‘spark-2.4.1-bin-hadoop2.7.tgz’\n",
            "\n",
            "spark-2.4.1-bin-had 100%[===================>] 220.09M  37.6MB/s    in 7.2s    \n",
            "\n",
            "2020-04-27 11:37:04 (30.6 MB/s) - ‘spark-2.4.1-bin-hadoop2.7.tgz’ saved [230778742/230778742]\n",
            "\n",
            "sample_data  spark-2.4.1-bin-hadoop2.7\tspark-2.4.1-bin-hadoop2.7.tgz\n"
          ],
          "name": "stdout"
        }
      ]
    },
    {
      "cell_type": "markdown",
      "metadata": {
        "id": "b4Kjvk_h1AHl",
        "colab_type": "text"
      },
      "source": [
        "# Set Environment Variables\n",
        "Set the locations where Spark and Java are installed."
      ]
    },
    {
      "cell_type": "code",
      "metadata": {
        "id": "8Xnb_ePUyQIL",
        "colab_type": "code",
        "colab": {}
      },
      "source": [
        "import os\n",
        "os.environ[\"JAVA_HOME\"] = \"/usr/lib/jvm/java-8-openjdk-amd64\"\n",
        "os.environ[\"SPARK_HOME\"] = \"/content/spark-2.4.1-bin-hadoop2.7\""
      ],
      "execution_count": 0,
      "outputs": []
    },
    {
      "cell_type": "markdown",
      "metadata": {
        "id": "NwU28K5f1H3P",
        "colab_type": "text"
      },
      "source": [
        "# Start a SparkSession\n",
        "This will start a local Spark session."
      ]
    },
    {
      "cell_type": "code",
      "metadata": {
        "id": "zgReRGl0y23D",
        "colab_type": "code",
        "colab": {}
      },
      "source": [
        "import findspark\n",
        "findspark.init()\n",
        "\n",
        "from pyspark import SparkContext\n",
        "from pyspark import SparkConf\n",
        "from pyspark.sql import SQLContext\n",
        "\n",
        "conf = SparkConf().setMaster(\"local[*]\").setAppName('pyspark')\n",
        "sc = SparkContext(conf=conf)\n",
        "sqc = SQLContext(sc)\n"
      ],
      "execution_count": 0,
      "outputs": []
    },
    {
      "cell_type": "code",
      "metadata": {
        "id": "J0r8QRrIIkRv",
        "colab_type": "code",
        "outputId": "b1f971bb-b52a-4e96-fb90-9743f788209e",
        "colab": {
          "base_uri": "https://localhost:8080/",
          "height": 69
        }
      },
      "source": [
        "!ls /content/sample_data/"
      ],
      "execution_count": 0,
      "outputs": [
        {
          "output_type": "stream",
          "text": [
            "anscombe.json\t\t      mnist_test.csv\n",
            "california_housing_test.csv   mnist_train_small.csv\n",
            "california_housing_train.csv  README.md\n"
          ],
          "name": "stdout"
        }
      ]
    },
    {
      "cell_type": "markdown",
      "metadata": {
        "id": "T3ULPx4Y1LiR",
        "colab_type": "text"
      },
      "source": [
        "# Use Spark!\n",
        "That's all there is to it - you're ready to use Spark!"
      ]
    },
    {
      "cell_type": "code",
      "metadata": {
        "id": "SfMcI-LAch0E",
        "colab_type": "code",
        "colab": {}
      },
      "source": [
        "myRdd = sc.parallelize(str(\"test,test,test,test,testtt,testttsset\"))\n",
        "myRdd.saveAsTextFile('/content/test')"
      ],
      "execution_count": 0,
      "outputs": []
    },
    {
      "cell_type": "code",
      "metadata": {
        "id": "qO8vMGMacuU7",
        "colab_type": "code",
        "outputId": "2f206110-28c0-4a90-fbac-5f3cdb22f4a5",
        "colab": {
          "base_uri": "https://localhost:8080/",
          "height": 87
        }
      },
      "source": [
        "!ls -ltr /content/test"
      ],
      "execution_count": 0,
      "outputs": [
        {
          "output_type": "stream",
          "text": [
            "total 8\n",
            "-rw-r--r-- 1 root root 38 Apr 27 11:39 part-00001\n",
            "-rw-r--r-- 1 root root 36 Apr 27 11:39 part-00000\n",
            "-rw-r--r-- 1 root root  0 Apr 27 11:39 _SUCCESS\n"
          ],
          "name": "stdout"
        }
      ]
    },
    {
      "cell_type": "code",
      "metadata": {
        "id": "XJp8ZI-VzYEz",
        "colab_type": "code",
        "outputId": "aaaca8aa-4f39-46ac-a139-8fd2a28e984d",
        "colab": {
          "base_uri": "https://localhost:8080/",
          "height": 228
        }
      },
      "source": [
        "df = sqc.createDataFrame([{\"hello\": \"world{0}\".format(x)} for x in range(1000)])\n",
        "df.show(3)"
      ],
      "execution_count": 0,
      "outputs": [
        {
          "output_type": "stream",
          "text": [
            "/content/spark-2.4.1-bin-hadoop2.7/python/pyspark/sql/session.py:346: UserWarning: inferring schema from dict is deprecated,please use pyspark.sql.Row instead\n",
            "  warnings.warn(\"inferring schema from dict is deprecated,\"\n"
          ],
          "name": "stderr"
        },
        {
          "output_type": "stream",
          "text": [
            "+------+\n",
            "| hello|\n",
            "+------+\n",
            "|world0|\n",
            "|world1|\n",
            "|world2|\n",
            "+------+\n",
            "only showing top 3 rows\n",
            "\n"
          ],
          "name": "stdout"
        }
      ]
    },
    {
      "cell_type": "code",
      "metadata": {
        "id": "PZkw_gPEQvId",
        "colab_type": "code",
        "colab": {}
      },
      "source": [
        "from google.colab import files\n",
        "files.upload()\n"
      ],
      "execution_count": 0,
      "outputs": []
    },
    {
      "cell_type": "code",
      "metadata": {
        "id": "xml4SP0PubKi",
        "colab_type": "code",
        "colab": {}
      },
      "source": [
        "from pyspark.ml.feature import VectorAssembler\n",
        "from pyspark.ml.regression import LinearRegression\n",
        "\n",
        "#dataset = spark.read.csv('BostonHousing.csv')\n",
        "dataset = spark.read.csv('BostonHousing.csv',inferSchema=True, header =True)"
      ],
      "execution_count": 0,
      "outputs": []
    },
    {
      "cell_type": "code",
      "metadata": {
        "id": "vbkbRi6K8RRf",
        "colab_type": "code",
        "colab": {}
      },
      "source": [
        "help(sc)"
      ],
      "execution_count": 0,
      "outputs": []
    },
    {
      "cell_type": "code",
      "metadata": {
        "id": "_7EsSRsrbD47",
        "colab_type": "code",
        "outputId": "3ae11bd1-8a7a-4714-f3b4-d389d6ea9246",
        "colab": {
          "base_uri": "https://localhost:8080/",
          "height": 1000
        }
      },
      "source": [
        "import functools as ft\n",
        "FilePath = \"/content/sample_data/california_housing_test.csv\"\n",
        "OpenFile = open(FilePath)\n",
        "FileData = OpenFile.read()\n",
        "Data1= FileData.splitlines()[1:100]\n",
        "print(Data1)\n",
        "Data1.sort(key=lambda i: i.split(\",\")[1])\n",
        "#print(Data1)\n",
        "#for i in FileData.splitlines()[1:100]:\n",
        "#  print(i)\n",
        "#  a= int(i.split(\",\")[5]) if int(i.split(\",\")[5])>1000 else 'null'\n",
        "#  print(a)\n",
        "total = 0\n",
        "DataFiltered = filter(lambda i : int(i.split(\",\")[5])>1000, Data1)\n",
        "print(DataFiltered)\n",
        "for i in DataFiltered:\n",
        "  print(i)\n",
        "  total = total + float(i.split(\",\")[1])\n",
        "#  print(i.split(\",\")[5] if int(i.split(\",\")[5])>1000 else 'Anull')\n",
        "#  a= int(i.split(\",\")[5]) if int(i.split(\",\")[5])>1000 else ''\n",
        "print(total)\n",
        "ft.reduce(lambda x, y: x + y,  float(i.split(\",\")[1]))\n",
        "#help(str)\n",
        "#help(Data1)"
      ],
      "execution_count": 0,
      "outputs": [
        {
          "output_type": "stream",
          "text": [
            "['-122.05,37.37,27,3885,661,1537,606,6.6085,344700,1001AA', '-118.3,34.26,43,1510,310,809,277,3.599,176500,1001AB', '-117.81,33.78,27,3589,507,1484,495,5.7934,270500,1001AC', '-118.36,33.82,28,67,15,49,11,6.1359,330000,1001AC', '-119.67,36.33,19,1241,244,850,237,2.9375,81700,1001AC', '-119.56,36.51,37,1018,213,663,204,1.6635,67000,1001AC', '-121.43,38.63,43,1009,225,604,218,1.6641,67000,1001AC', '-120.65,35.48,19,2310,471,1341,441,3.225,166900,1001AC', '-122.84,38.4,15,3080,617,1446,599,3.6696,194400,1001AC', '-118.02,34.08,31,2402,632,2830,603,2.3333,164200,1001AC', '-118.24,33.98,45,972,249,1288,261,2.2054,125000,1001AC', '-119.12,35.85,37,736,166,564,138,2.4167,58300,1001AC', '-121.93,37.25,36,1089,182,535,170,4.69,252600,1001AC', '-117.03,32.97,16,3936,694,1935,659,4.5625,231200,1001AC', '-117.97,33.73,27,2097,325,1217,331,5.7121,222500,1001AC', '-117.99,33.81,42,161,40,157,50,2.2,153100,1001AC', '-120.81,37.53,15,570,123,189,107,1.875,181300,1001AC', '-121.2,38.69,26,3077,607,1603,595,2.7174,137500,1001AC', '-118.88,34.21,26,1590,196,654,199,6.5851,300000,1001AC', '-122.59,38.01,35,8814,1307,3450,1258,6.1724,414300,1001AC', '-122.15,37.75,40,1445,256,849,255,3.8913,126300,1001AC', '-121.37,38.68,36,1775,296,937,305,3.1786,83400,1001AC', '-118.16,34.07,47,2994,543,1651,561,3.8644,241500,1001AC', '-122.2,37.79,45,2021,528,1410,480,2.7788,115400,1001AC', '-117.28,33.28,13,6131,1040,4049,940,3.8156,150700,1001AC', '-118.03,34.16,36,1401,218,667,225,7.1615,484700,1001AC', '-122.42,37.76,52,3587,1030,2259,979,2.5403,250000,1001AC', '-118.39,33.99,32,2612,418,1030,402,6.603,369200,1001AC', '-118.45,34.07,19,4845,1609,3751,1539,1.583,350000,1001AC', '-118.48,34.01,30,3078,954,1561,901,3.4852,425000,1001AC', '-119.35,36.33,14,1195,220,568,229,3.1486,105600,1001AC', '-118.3,33.91,34,1617,493,1530,500,2.6182,172600,1001AC', '-121.13,39.31,17,3442,705,1693,619,2.8102,128900,1001AC', '-118.08,34.55,5,16181,2971,8152,2651,4.5237,141800,1001AC', '-118.32,33.94,38,1067,170,499,169,4.6389,183800,1001AC', '-118.11,34,33,2886,726,2650,728,2.625,178700,1001AC', '-122.53,37.97,52,1560,451,700,419,2.5125,270800,1001AC', '-118.02,33.92,34,1478,251,956,277,5.5238,185300,1001AC', '-118.05,33.93,31,894,203,883,190,3.6771,141500,1001AC', '-119.01,34.23,11,5785,1035,2760,985,4.693,232200,1001AC', '-119.32,36.2,15,1562,275,961,287,3.4231,83300,1001AD', '-116.92,32.77,16,2770,406,1269,429,6.6783,275000,1001AD', '-118.06,34.15,37,1980,226,697,226,15.0001,500001,1001AD', '-117.27,34.09,36,848,186,737,169,0.9838,79300,1001AD', '-118.23,34.13,48,1308,286,835,294,4.2891,214800,1001AD', '-117.24,33.17,4,9998,1874,3925,1672,4.2826,237500,1001AD', '-121.91,37.44,24,1212,251,799,242,5.0808,212500,1001AD', '-118.29,33.94,47,1782,338,1003,329,2.5398,105700,1001AD', '-121.35,38,6,1649,369,732,350,3.4231,123800,1001AD', '-117.99,33.78,19,7399,1698,3554,1593,3.1049,173900,1001AD', '-120.99,37.7,14,9849,1887,4356,1780,3.5877,160900,1001AD', '-119.42,35.97,21,554,121,426,122,2.3516,47500,1001AD', '-122.21,37.8,39,2003,500,1109,464,3.0682,156500,1001AD', '-118.17,33.8,26,1589,380,883,366,3.5313,187500,1001AD', '-117.9,34.09,39,1726,333,892,335,4.3409,191800,1001AD', '-117.99,33.93,36,1287,233,779,229,4.8523,175800,1001AD', '-121.42,38.72,10,3054,528,1932,510,3.0903,91900,1001AD', '-118.77,34.26,26,3038,468,1825,468,5.6385,196900,1001AD', '-121.93,37.33,44,1449,291,676,282,3.575,292200,1001AD', '-121.82,37.25,16,2650,600,1969,586,3.9461,194300,1001AD', '-122.29,37.56,36,805,140,445,139,5.8221,289400,1001AD', '-121.78,37.23,18,1747,317,1055,285,5.898,229100,1001AD', '-118.41,34,35,1062,305,1026,307,2.7153,265500,1001AD', '-121.67,40.87,31,1581,299,776,287,2.9063,77800,1001AD', '-118,33.92,26,2830,399,1204,404,6.1273,289600,1001AD', '-117.22,32.73,38,3966,768,1640,729,3.8409,291400,1001AD', '-121.08,37.69,19,6473,1212,3559,1123,3.2246,129300,1001AD', '-117.53,33.92,12,2290,319,728,228,6.1561,233500,1001AD', '-117.46,34.08,18,3830,750,2767,702,3.6602,120700,1001AD', '-117.97,33.86,35,1691,367,1265,378,3.5855,174300,1001AD', '-121.92,37.33,52,2125,382,930,387,5.2831,299500,1001AD', '-118.2,34.04,44,1582,544,1998,515,1.6888,125000,1001AD', '-118.06,33.8,22,1892,442,1015,404,4.1379,212500,1001AD', '-122.05,37.36,34,2400,419,1017,384,4.1369,316900,1001AD', '-123.79,39.5,24,1421,291,588,274,2.325,157300,1001AD', '-120.79,37.49,44,1186,225,687,234,3.4167,160700,1001AD', '-121.89,37.35,47,2879,631,2229,606,3.2599,183100,1001AD', '-118.43,34.2,29,3051,694,1942,679,3.1118,238100,1001AD', '-118.75,34.17,18,6217,858,2703,834,6.8075,325900,1001AD', '-122.47,37.99,22,7274,1002,2468,957,7.494,439200,1001AD', '-120.69,37.4,46,860,130,496,147,3.5167,137500,1001AD', '-118.28,34.05,44,968,384,1805,375,1.4801,212500,1001AD', '-118.44,34.25,35,1583,324,1481,351,3.7,176000,1001AD', '-122.05,38.26,21,7195,1416,3927,1377,3.0912,126300,1001AD', '-121.99,37.35,18,1712,509,972,467,4.3971,238900,1001AD', '-121.02,37.68,28,2875,560,1608,558,3.5489,106400,1001AD', '-119.85,36.74,35,1191,190,537,182,3.5375,96700,1001AD', '-118.02,34.08,28,2769,631,2452,581,2.6071,175900,1001AD', '-123.52,41.01,17,1564,345,517,222,2.1542,83800,1001AD', '-122.4,37.62,44,1619,362,1064,335,4.0238,224200,1001AD', '-118.13,34.15,24,1125,341,579,321,2.8125,141700,1001AD', '-122,37.98,32,1013,169,436,173,5.1118,226900,1001AD', '-118.45,34.25,36,1453,270,808,275,4.3839,204600,1001AD', '-117.5,33.87,4,6755,1017,2866,850,5.0493,239800,1001AD', '-122.22,37.84,50,2935,473,1031,479,7.5,295200,1001AD', '-119.82,36.64,30,1694,312,1008,321,2.2466,96000,1001AD', '-120.21,36.77,20,1745,348,1093,302,2.3194,90600,1001AD', '-120.97,38.42,16,1748,322,4930,287,4.3029,121900,1001AD', '-121.19,38.87,20,3118,500,1405,519,6,209400,1001AD']\n",
            "<filter object at 0x7fae2ac1e7f0>\n",
            "-117.22,32.73,38,3966,768,1640,729,3.8409,291400,1001AD\n",
            "-116.92,32.77,16,2770,406,1269,429,6.6783,275000,1001AD\n",
            "-117.03,32.97,16,3936,694,1935,659,4.5625,231200,1001AC\n",
            "-117.24,33.17,4,9998,1874,3925,1672,4.2826,237500,1001AD\n",
            "-117.28,33.28,13,6131,1040,4049,940,3.8156,150700,1001AC\n",
            "-117.97,33.73,27,2097,325,1217,331,5.7121,222500,1001AC\n",
            "-117.81,33.78,27,3589,507,1484,495,5.7934,270500,1001AC\n",
            "-117.99,33.78,19,7399,1698,3554,1593,3.1049,173900,1001AD\n",
            "-118.06,33.8,22,1892,442,1015,404,4.1379,212500,1001AD\n",
            "-117.97,33.86,35,1691,367,1265,378,3.5855,174300,1001AD\n",
            "-117.5,33.87,4,6755,1017,2866,850,5.0493,239800,1001AD\n",
            "-118.3,33.91,34,1617,493,1530,500,2.6182,172600,1001AC\n",
            "-118,33.92,26,2830,399,1204,404,6.1273,289600,1001AD\n",
            "-118.29,33.94,47,1782,338,1003,329,2.5398,105700,1001AD\n",
            "-118.24,33.98,45,972,249,1288,261,2.2054,125000,1001AC\n",
            "-118.39,33.99,32,2612,418,1030,402,6.603,369200,1001AC\n",
            "-118.11,34,33,2886,726,2650,728,2.625,178700,1001AC\n",
            "-118.41,34,35,1062,305,1026,307,2.7153,265500,1001AD\n",
            "-118.48,34.01,30,3078,954,1561,901,3.4852,425000,1001AC\n",
            "-118.2,34.04,44,1582,544,1998,515,1.6888,125000,1001AD\n",
            "-118.28,34.05,44,968,384,1805,375,1.4801,212500,1001AD\n",
            "-118.16,34.07,47,2994,543,1651,561,3.8644,241500,1001AC\n",
            "-118.45,34.07,19,4845,1609,3751,1539,1.583,350000,1001AC\n",
            "-118.02,34.08,31,2402,632,2830,603,2.3333,164200,1001AC\n",
            "-117.46,34.08,18,3830,750,2767,702,3.6602,120700,1001AD\n",
            "-118.02,34.08,28,2769,631,2452,581,2.6071,175900,1001AD\n",
            "-118.75,34.17,18,6217,858,2703,834,6.8075,325900,1001AD\n",
            "-118.43,34.2,29,3051,694,1942,679,3.1118,238100,1001AD\n",
            "-119.01,34.23,11,5785,1035,2760,985,4.693,232200,1001AC\n",
            "-118.44,34.25,35,1583,324,1481,351,3.7,176000,1001AD\n",
            "-118.77,34.26,26,3038,468,1825,468,5.6385,196900,1001AD\n",
            "-118.08,34.55,5,16181,2971,8152,2651,4.5237,141800,1001AC\n",
            "-120.65,35.48,19,2310,471,1341,441,3.225,166900,1001AC\n",
            "-119.82,36.64,30,1694,312,1008,321,2.2466,96000,1001AD\n",
            "-120.21,36.77,20,1745,348,1093,302,2.3194,90600,1001AD\n",
            "-121.78,37.23,18,1747,317,1055,285,5.898,229100,1001AD\n",
            "-121.82,37.25,16,2650,600,1969,586,3.9461,194300,1001AD\n",
            "-121.89,37.35,47,2879,631,2229,606,3.2599,183100,1001AD\n",
            "-122.05,37.36,34,2400,419,1017,384,4.1369,316900,1001AD\n",
            "-122.05,37.37,27,3885,661,1537,606,6.6085,344700,1001AA\n",
            "-122.4,37.62,44,1619,362,1064,335,4.0238,224200,1001AD\n",
            "-121.02,37.68,28,2875,560,1608,558,3.5489,106400,1001AD\n",
            "-121.08,37.69,19,6473,1212,3559,1123,3.2246,129300,1001AD\n",
            "-120.99,37.7,14,9849,1887,4356,1780,3.5877,160900,1001AD\n",
            "-122.42,37.76,52,3587,1030,2259,979,2.5403,250000,1001AC\n",
            "-122.2,37.79,45,2021,528,1410,480,2.7788,115400,1001AC\n",
            "-122.21,37.8,39,2003,500,1109,464,3.0682,156500,1001AD\n",
            "-122.22,37.84,50,2935,473,1031,479,7.5,295200,1001AD\n",
            "-122.47,37.99,22,7274,1002,2468,957,7.494,439200,1001AD\n",
            "-122.59,38.01,35,8814,1307,3450,1258,6.1724,414300,1001AC\n",
            "-122.05,38.26,21,7195,1416,3927,1377,3.0912,126300,1001AD\n",
            "-122.84,38.4,15,3080,617,1446,599,3.6696,194400,1001AC\n",
            "-120.97,38.42,16,1748,322,4930,287,4.3029,121900,1001AD\n",
            "-121.2,38.69,26,3077,607,1603,595,2.7174,137500,1001AC\n",
            "-121.42,38.72,10,3054,528,1932,510,3.0903,91900,1001AD\n",
            "-121.19,38.87,20,3118,500,1405,519,6,209400,1001AD\n",
            "-121.13,39.31,17,3442,705,1693,619,2.8102,128900,1001AC\n",
            "2027.62\n"
          ],
          "name": "stdout"
        },
        {
          "output_type": "error",
          "ename": "NameError",
          "evalue": "ignored",
          "traceback": [
            "\u001b[0;31m---------------------------------------------------------------------------\u001b[0m",
            "\u001b[0;31mNameError\u001b[0m                                 Traceback (most recent call last)",
            "\u001b[0;32m<ipython-input-115-a64660b8c829>\u001b[0m in \u001b[0;36m<module>\u001b[0;34m()\u001b[0m\n\u001b[1;32m     20\u001b[0m \u001b[0;31m#  a= int(i.split(\",\")[5]) if int(i.split(\",\")[5])>1000 else ''\u001b[0m\u001b[0;34m\u001b[0m\u001b[0;34m\u001b[0m\u001b[0;34m\u001b[0m\u001b[0m\n\u001b[1;32m     21\u001b[0m \u001b[0mprint\u001b[0m\u001b[0;34m(\u001b[0m\u001b[0mtotal\u001b[0m\u001b[0;34m)\u001b[0m\u001b[0;34m\u001b[0m\u001b[0;34m\u001b[0m\u001b[0m\n\u001b[0;32m---> 22\u001b[0;31m \u001b[0mft\u001b[0m\u001b[0;34m.\u001b[0m\u001b[0mreduce\u001b[0m\u001b[0;34m(\u001b[0m\u001b[0;32mlambda\u001b[0m \u001b[0mx\u001b[0m\u001b[0;34m,\u001b[0m \u001b[0my\u001b[0m\u001b[0;34m:\u001b[0m \u001b[0mx\u001b[0m \u001b[0;34m+\u001b[0m \u001b[0my\u001b[0m\u001b[0;34m,\u001b[0m  \u001b[0mfloat\u001b[0m\u001b[0;34m(\u001b[0m\u001b[0mx\u001b[0m\u001b[0;34m.\u001b[0m\u001b[0msplit\u001b[0m\u001b[0;34m(\u001b[0m\u001b[0;34m\",\"\u001b[0m\u001b[0;34m)\u001b[0m\u001b[0;34m[\u001b[0m\u001b[0;36m1\u001b[0m\u001b[0;34m]\u001b[0m\u001b[0;34m)\u001b[0m\u001b[0;34m)\u001b[0m\u001b[0;34m\u001b[0m\u001b[0;34m\u001b[0m\u001b[0m\n\u001b[0m\u001b[1;32m     23\u001b[0m \u001b[0;31m#help(str)\u001b[0m\u001b[0;34m\u001b[0m\u001b[0;34m\u001b[0m\u001b[0;34m\u001b[0m\u001b[0m\n\u001b[1;32m     24\u001b[0m \u001b[0;31m#help(Data1)\u001b[0m\u001b[0;34m\u001b[0m\u001b[0;34m\u001b[0m\u001b[0;34m\u001b[0m\u001b[0m\n",
            "\u001b[0;31mNameError\u001b[0m: name 'x' is not defined"
          ]
        }
      ]
    },
    {
      "cell_type": "code",
      "metadata": {
        "id": "sqmWAnXh4sVw",
        "colab_type": "code",
        "outputId": "32732b31-6d7b-4e4c-9bda-730818f85dad",
        "colab": {
          "base_uri": "https://localhost:8080/",
          "height": 451
        }
      },
      "source": [
        "help(DataFiltered)"
      ],
      "execution_count": 0,
      "outputs": [
        {
          "output_type": "stream",
          "text": [
            "Help on filter object:\n",
            "\n",
            "class filter(object)\n",
            " |  filter(function or None, iterable) --> filter object\n",
            " |  \n",
            " |  Return an iterator yielding those items of iterable for which function(item)\n",
            " |  is true. If function is None, return the items that are true.\n",
            " |  \n",
            " |  Methods defined here:\n",
            " |  \n",
            " |  __getattribute__(self, name, /)\n",
            " |      Return getattr(self, name).\n",
            " |  \n",
            " |  __iter__(self, /)\n",
            " |      Implement iter(self).\n",
            " |  \n",
            " |  __new__(*args, **kwargs) from builtins.type\n",
            " |      Create and return a new object.  See help(type) for accurate signature.\n",
            " |  \n",
            " |  __next__(self, /)\n",
            " |      Implement next(self).\n",
            " |  \n",
            " |  __reduce__(...)\n",
            " |      Return state information for pickling.\n",
            "\n"
          ],
          "name": "stdout"
        }
      ]
    }
  ]
}